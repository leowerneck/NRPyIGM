{
 "cells": [
  {
   "cell_type": "markdown",
   "metadata": {},
   "source": [
    "<script async src=\"https://www.googletagmanager.com/gtag/js?id=UA-59152712-8\"></script>\n",
    "<script>\n",
    "  window.dataLayer = window.dataLayer || [];\n",
    "  function gtag(){dataLayer.push(arguments);}\n",
    "  gtag('js', new Date());\n",
    "\n",
    "  gtag('config', 'UA-59152712-8');\n",
    "</script>\n",
    "\n",
    "# Indexed Expressions: Representing and manipulating tensors, pseudotensors, etc. in NRPy+\n",
    "\n",
    "## Author: Zach Etienne\n",
    "### Formatting improvements courtesy Brandon Clark\n",
    "\n",
    "[comment]: <> (Abstract: TODO)\n",
    "\n",
    "### NRPy+ Source Code for this module: [indexedexp.py](../edit/indexedexp.py)\n",
    "\n",
    "[comment]: <> (Introduction: TODO)"
   ]
  },
  {
   "cell_type": "markdown",
   "metadata": {},
   "source": [
    "<a id='toc'></a>\n",
    "\n",
    "# Table of Contents\n",
    "$$\\label{toc}$$\n",
    "\n",
    "This notebook is organized as follows\n",
    "\n",
    "1. [Step 1](#initializenrpy): Initialize core Python/NRPy+ modules\n",
    "1. [Step 2](#idx1): Rank-1 Indexed Expressions\n",
    "    1. [Step 2.a](#dot): Performing a Dot Product\n",
    "1. [Step 3](#idx2): Rank-2 and Higher Indexed Expressions \n",
    "    1. [Step 3.a](#con): Creating C Code for the contraction variable \n",
    "    1. [Step 3.b](#simd): Enable SIMD support\n",
    "1. [Step 4](#exc): Exercise\n",
    "1. [Step 5](#latex_pdf_output): Output this notebook to $\\LaTeX$-formatted PDF file"
   ]
  },
  {
   "cell_type": "markdown",
   "metadata": {},
   "source": [
    "<a id='initializenrpy'></a>\n",
    "\n",
    "# Step 1: Initialize core NRPy+ modules \\[Back to [top](#toc)\\]\n",
    "$$\\label{initializenrpy}$$\n",
    "\n",
    "Let's start by importing all the needed modules from NRPy+ for dealing with indexed expressions and ouputting C code. "
   ]
  },
  {
   "cell_type": "code",
   "execution_count": 1,
   "metadata": {},
   "outputs": [],
   "source": [
    "# The NRPy_param_funcs module sets up global structures that manage free parameters within NRPy+\n",
    "import NRPy_param_funcs as par \n",
    "# The indexedexp module defines various functions for defining and managing indexed quantities like tensors and pseudotensors\n",
    "import indexedexp as ixp\n",
    "# The grid module defines various parameters related to a numerical grid or the dimensionality of indexed expressions\n",
    "# For example, it declares the parameter DIM, which specifies the dimensionality of the indexed expression\n",
    "import grid as gri\n",
    "from outputC import *"
   ]
  },
  {
   "cell_type": "markdown",
   "metadata": {},
   "source": [
    "<a id='idx1'></a>\n",
    "\n",
    "# Step 2: Rank-1 Indexed Expressions \\[Back to [top](#toc)\\]\n",
    "$$\\label{idx1}$$\n",
    "\n",
    "Indexed expressions of rank 1 are stored as [Python lists](https://www.tutorialspoint.com/python/python_lists.htm). \n",
    "\n",
    "There are two ways to declare indexed expressions:\n",
    "+ **Initialize indexed expression to zero:** \n",
    "    + **zerorank1(DIM=-1)** $\\leftarrow$ As we will see below, initializing to zero is useful if the indexed expression depends entirely on some other indexed or non-indexed expressions.\n",
    "        + **DIM** is an *optional* parameter that, if set to -1, will default to the dimension as set in the **grid** module: `par.parval_from_str(\"grid::DIM\")`. Otherwise the rank-1 indexed expression will have dimension **DIM**.\n",
    "+ **Initialize indexed expression symbolically:** \n",
    "    + **declarerank1(\"basename\",DIM=-1)**. \n",
    "        + As in **`zerorank1()`, **DIM** is an *optional* parameter that, if set to -1, will default to the dimension as set in the **grid** module: `par.parval_from_str(\"grid::DIM\")`. Otherwise the rank-1 indexed expression will have dimension **DIM**.\n",
    "\n",
    "For example, the 3-vector $\\beta^i$ (upper index denotes contravariant) can be initialized to zero as follows:"
   ]
  },
  {
   "cell_type": "code",
   "execution_count": 2,
   "metadata": {},
   "outputs": [
    {
     "name": "stdout",
     "output_type": "stream",
     "text": [
      "[0, 0, 0]\n"
     ]
    }
   ],
   "source": [
    "# Declare rank-1 contravariant (\"U\") vector\n",
    "betaU = ixp.zerorank1()\n",
    "\n",
    "# Print the result. It's a list of zeros!\n",
    "print(betaU)"
   ]
  },
  {
   "cell_type": "markdown",
   "metadata": {},
   "source": [
    "Next set $\\beta^i = \\sum_{j=0}^i j = \\{0,1,3\\}$"
   ]
  },
  {
   "cell_type": "code",
   "execution_count": 3,
   "metadata": {},
   "outputs": [
    {
     "name": "stdout",
     "output_type": "stream",
     "text": [
      "The 3-vector betaU is now set to: [0, 1, 3]\n"
     ]
    }
   ],
   "source": [
    "# Get the dimension we just set, so we know how many indices to loop over\n",
    "DIM = par.parval_from_str(\"grid::DIM\")\n",
    "\n",
    "for i in range(DIM): # sum i from 0 to DIM-1, inclusive\n",
    "    for j in range(i+1): # sum j from 0 to i, inclusive\n",
    "        betaU[i] += j\n",
    "    \n",
    "print(\"The 3-vector betaU is now set to: \"+str(betaU))"
   ]
  },
  {
   "cell_type": "markdown",
   "metadata": {},
   "source": [
    "Alternatively, the 3-vector $\\beta^i$ can be initialized **symbolically** as follows:"
   ]
  },
  {
   "cell_type": "code",
   "execution_count": 4,
   "metadata": {},
   "outputs": [
    {
     "name": "stdout",
     "output_type": "stream",
     "text": [
      "[betaU0, betaU1, betaU2]\n"
     ]
    }
   ],
   "source": [
    "# Set the dimension to 3\n",
    "par.set_parval_from_str(\"grid::DIM\",3)\n",
    "\n",
    "# Declare rank-1 contravariant (\"U\") vector\n",
    "betaU = ixp.declarerank1(\"betaU\")\n",
    "\n",
    "# Print the result. It's a list!\n",
    "print(betaU)"
   ]
  },
  {
   "cell_type": "markdown",
   "metadata": {},
   "source": [
    "Declaring $\\beta^i$ symbolically is standard in case `betaU0`, `betaU1`, and `betaU2` are defined elsewhere (e.g., read in from main memory as a gridfunction.\n",
    "\n",
    "As can be seen, NRPy+'s standard naming convention for indexed rank-1 expressions is \n",
    "+ **\\[base variable name\\]+\\[\"U\" for contravariant (up index) or \"D\" for covariant (down index)\\]**\n",
    "\n",
    "*Caution*: After declaring the vector, `betaU0`, `betaU1`, and `betaU2` can only be accessed or manipulated through list access; i.e., via `betaU[0]`, `betaU[1]`, and `betaU[2]`, respectively. Attempts to access `betaU0` directly will fail.\n",
    "\n",
    "Knowing this, let's multiply `betaU1` by 2:"
   ]
  },
  {
   "cell_type": "code",
   "execution_count": 5,
   "metadata": {},
   "outputs": [
    {
     "name": "stdout",
     "output_type": "stream",
     "text": [
      "The 3-vector betaU is now set to [betaU0, 2*betaU1, betaU2]\n",
      "The component betaU[1] is now set to 2*betaU1\n"
     ]
    }
   ],
   "source": [
    "betaU[1] *= 2\n",
    "print(\"The 3-vector betaU is now set to \"+str(betaU))\n",
    "print(\"The component betaU[1] is now set to \"+str(betaU[1]))"
   ]
  },
  {
   "cell_type": "markdown",
   "metadata": {},
   "source": [
    "<a id='dot'></a>\n",
    "\n",
    "## Step 2.a: Performing a Dot Product \\[Back to [top](#toc)\\]\n",
    "$$\\label{dot}$$\n",
    "\n",
    "Next, let's declare the variable $\\beta_j$ and perform the dot product $\\beta^i \\beta_i$:"
   ]
  },
  {
   "cell_type": "code",
   "execution_count": 6,
   "metadata": {},
   "outputs": [
    {
     "name": "stdout",
     "output_type": "stream",
     "text": [
      "betaD0*betaU0 + betaD1*betaU1 + betaD2*betaU2\n"
     ]
    }
   ],
   "source": [
    "# First set betaU back to its initial value\n",
    "betaU = ixp.declarerank1(\"betaU\")\n",
    "\n",
    "# Declare beta_j:\n",
    "betaD = ixp.declarerank1(\"betaD\")\n",
    "\n",
    "# Get the dimension we just set, so we know how many indices to loop over\n",
    "DIM = par.parval_from_str(\"grid::DIM\")\n",
    "\n",
    "# Initialize dot product to zero\n",
    "dotprod = 0\n",
    "\n",
    "# Perform dot product beta^i beta_i\n",
    "for i in range(DIM):\n",
    "    dotprod += betaU[i]*betaD[i]\n",
    "\n",
    "# Print result!\n",
    "print(dotprod)"
   ]
  },
  {
   "cell_type": "markdown",
   "metadata": {},
   "source": [
    "<a id='idx2'></a>\n",
    "\n",
    "# Step 3: Rank-2 and Higher Indexed Expressions \\[Back to [top](#toc)\\]\n",
    "$$\\label{idx2}$$\n",
    "\n",
    "Moving to higher ranks, rank-2 indexed expressions are stored as lists of lists, rank-3 indexed expressions as lists of lists of lists, etc. For example\n",
    "\n",
    "+ the covariant rank-2 tensor $g_{ij}$ is declared as `gDD[i][j]` in NRPy+, so that e.g., `gDD[0][2]` is stored with name `gDD02` and\n",
    "+ the rank-2 tensor $T^{\\mu}{}_{\\nu}$ is declared as `TUD[m][n]` in NRPy+ (index names are of course arbitrary).\n",
    "\n",
    "*Caveat*: Note that it is currently up to the user to determine whether the combination of indexed expressions makes sense; NRPy+ does not track whether up and down indices are written consistently.\n",
    "\n",
    "NRPy+ supports symmetries in indexed expressions (above rank 1), so that if $h_{ij} = h_{ji}$, then declaring `hDD[i][j]` to be symmetric in NRPy+ will result in both `hDD[0][2]` and `hDD[2][0]` mapping to the *single* SymPy variable `hDD02`.\n",
    "\n",
    "To see how this works in NRPy+, let's define in NRPy+ a symmetric, rank-2 tensor $h_{ij}$ in three dimensions, and then compute the contraction, which should be given by $$con = h^{ij}h_{ij} = h_{00} h^{00} + h_{11} h^{11} + h_{22} h^{22} + 2 (h_{01} h^{01} + h_{02} h^{02} + h_{12} h^{12}).$$"
   ]
  },
  {
   "cell_type": "code",
   "execution_count": 7,
   "metadata": {},
   "outputs": [
    {
     "name": "stdout",
     "output_type": "stream",
     "text": [
      "hDD00*hUU00 + 2*hDD01*hUU01 + 2*hDD02*hUU02 + hDD11*hUU11 + 2*hDD12*hUU12 + hDD22*hUU22\n"
     ]
    }
   ],
   "source": [
    "# Get the dimension we just set (should be set to 3).\n",
    "DIM = par.parval_from_str(\"grid::DIM\")\n",
    "\n",
    "# Declare h_{ij}=hDD[i][j] and h^{ij}=hUU[i][j]\n",
    "hUU = ixp.declarerank2(\"hUU\",\"sym01\")\n",
    "hDD = ixp.declarerank2(\"hDD\",\"sym01\")\n",
    "\n",
    "# Perform sum h^{ij} h_{ij}, initializing contraction result to zero\n",
    "con = 0\n",
    "for i in range(DIM):\n",
    "    for j in range(DIM):\n",
    "        con += hUU[i][j]*hDD[i][j]\n",
    "\n",
    "# Print result\n",
    "print(con)"
   ]
  },
  {
   "cell_type": "markdown",
   "metadata": {},
   "source": [
    "<a id='con'></a>\n",
    "\n",
    "## Step 3.a: Creating C Code for the contraction variable $\\text{con}$ \\[Back to [top](#toc)\\]\n",
    "$$\\label{con}$$\n",
    "\n",
    "Next let's create the C code for the contraction variable $\\text{con}$, without CSE (common subexpression elimination)"
   ]
  },
  {
   "cell_type": "code",
   "execution_count": 8,
   "metadata": {
    "scrolled": true
   },
   "outputs": [
    {
     "name": "stdout",
     "output_type": "stream",
     "text": [
      "/*\n",
      " *  Original SymPy expression:\n",
      " *  \"con = hDD00*hUU00 + 2*hDD01*hUU01 + 2*hDD02*hUU02 + hDD11*hUU11 + 2*hDD12*hUU12 + hDD22*hUU22\"\n",
      " */\n",
      "{\n",
      "   con = hDD00*hUU00 + 2*hDD01*hUU01 + 2*hDD02*hUU02 + hDD11*hUU11 + 2*hDD12*hUU12 + hDD22*hUU22;\n",
      "}\n",
      "\n"
     ]
    }
   ],
   "source": [
    "outputC(con,\"con\")"
   ]
  },
  {
   "cell_type": "markdown",
   "metadata": {},
   "source": [
    "<a id='simd'></a>\n",
    "\n",
    "## Step 3.b: Enable SIMD support \\[Back to [top](#toc)\\]\n",
    "$$\\label{simd}$$\n",
    "\n",
    "Finally, let's see how it looks with SIMD support enabled"
   ]
  },
  {
   "cell_type": "code",
   "execution_count": 9,
   "metadata": {},
   "outputs": [
    {
     "name": "stdout",
     "output_type": "stream",
     "text": [
      "/*\n",
      " *  Original SymPy expression:\n",
      " *  \"con = hDD00*hUU00 + 2*hDD01*hUU01 + 2*hDD02*hUU02 + hDD11*hUU11 + 2*hDD12*hUU12 + hDD22*hUU22\"\n",
      " */\n",
      "{\n",
      "   const double tmp_Integer_2 = 2.000000000000000000000000000000000;\n",
      "   const REAL_SIMD_ARRAY _Integer_2 = ConstSIMD(tmp_Integer_2);\n",
      "\n",
      "   con = FusedMulAddSIMD(hUU02, MulSIMD(hDD02, _Integer_2), FusedMulAddSIMD(hUU01, MulSIMD(hDD01, _Integer_2), FusedMulAddSIMD(hDD22, hUU22, FusedMulAddSIMD(hDD11, hUU11, FusedMulAddSIMD(hUU12, MulSIMD(hDD12, _Integer_2), MulSIMD(hDD00, hUU00))))));\n",
      "}\n",
      "\n"
     ]
    }
   ],
   "source": [
    "outputC(con,\"con\",params=\"SIMD_enable=True\")"
   ]
  },
  {
   "cell_type": "markdown",
   "metadata": {},
   "source": [
    "<a id='exc'></a>\n",
    "\n",
    "# Step 4: Exercise \\[Back to [top](#toc)\\]\n",
    "$$\\label{exc}$$\n",
    "\n",
    "Setting $\\beta^i$ via the declarerank1(), write the NRPy+ code required to generate the needed C code for the lowering operator: $g_{ij} \\beta^i$, and set the result to C variables `betaD0out`, `betaD1out`, and `betaD2out` [solution](Tutorial-Indexed_Expressions-soln.ipynb). *Hint: You will want to use the `zerorank1()` function*"
   ]
  },
  {
   "cell_type": "markdown",
   "metadata": {},
   "source": [
    "**To complete this exercise, you must first reset all variables in the notebook:**"
   ]
  },
  {
   "cell_type": "code",
   "execution_count": 10,
   "metadata": {},
   "outputs": [],
   "source": [
    "# *Uncomment* the below %reset command and then press <Shift>+<Enter>. \n",
    "#    Respond with \"y\" in the dialog box to reset all variables.\n",
    "\n",
    "# %reset"
   ]
  },
  {
   "cell_type": "markdown",
   "metadata": {},
   "source": [
    "**Write your solution below:**"
   ]
  },
  {
   "cell_type": "code",
   "execution_count": null,
   "metadata": {},
   "outputs": [],
   "source": []
  },
  {
   "cell_type": "markdown",
   "metadata": {},
   "source": [
    "<a id='latex_pdf_output'></a>\n",
    "\n",
    "# Step 5: Output this notebook to $\\LaTeX$-formatted PDF file \\[Back to [top](#toc)\\]\n",
    "$$\\label{latex_pdf_output}$$\n",
    "\n",
    "The following code cell converts this Jupyter notebook into a proper, clickable $\\LaTeX$-formatted PDF file. After the cell is successfully run, the generated PDF may be found in the root NRPy+ tutorial directory, with filename\n",
    "[Tutorial-Indexed_Expressions.pdf](Tutorial-Indexed_Expressions.pdf) (Note that clicking on this link may not work; you may need to open the PDF file through another means.)"
   ]
  },
  {
   "cell_type": "code",
   "execution_count": 11,
   "metadata": {},
   "outputs": [
    {
     "name": "stdout",
     "output_type": "stream",
     "text": [
      "[NbConvertApp] Converting notebook Tutorial-Indexed_Expressions.ipynb to latex\n",
      "[pandoc warning] Duplicate link reference `[comment]' \"source\" (line 10, column 1)\n",
      "[NbConvertApp] Writing 34516 bytes to Tutorial-Indexed_Expressions.tex\n",
      "This is pdfTeX, Version 3.14159265-2.6-1.40.18 (TeX Live 2017/Debian) (preloaded format=pdflatex)\n",
      " restricted \\write18 enabled.\n",
      "entering extended mode\n",
      "This is pdfTeX, Version 3.14159265-2.6-1.40.18 (TeX Live 2017/Debian) (preloaded format=pdflatex)\n",
      " restricted \\write18 enabled.\n",
      "entering extended mode\n",
      "This is pdfTeX, Version 3.14159265-2.6-1.40.18 (TeX Live 2017/Debian) (preloaded format=pdflatex)\n",
      " restricted \\write18 enabled.\n",
      "entering extended mode\n"
     ]
    }
   ],
   "source": [
    "!jupyter nbconvert --to latex --template latex_nrpy_style.tplx --log-level='WARN' Tutorial-Indexed_Expressions.ipynb\n",
    "!pdflatex -interaction=batchmode Tutorial-Indexed_Expressions.tex\n",
    "!pdflatex -interaction=batchmode Tutorial-Indexed_Expressions.tex\n",
    "!pdflatex -interaction=batchmode Tutorial-Indexed_Expressions.tex\n",
    "!rm -f Tut*.out Tut*.aux Tut*.log"
   ]
  }
 ],
 "metadata": {
  "kernelspec": {
   "display_name": "Python 2",
   "language": "python",
   "name": "python2"
  },
  "language_info": {
   "codemirror_mode": {
    "name": "ipython",
    "version": 2
   },
   "file_extension": ".py",
   "mimetype": "text/x-python",
   "name": "python",
   "nbconvert_exporter": "python",
   "pygments_lexer": "ipython2",
   "version": "2.7.13"
  }
 },
 "nbformat": 4,
 "nbformat_minor": 2
}
