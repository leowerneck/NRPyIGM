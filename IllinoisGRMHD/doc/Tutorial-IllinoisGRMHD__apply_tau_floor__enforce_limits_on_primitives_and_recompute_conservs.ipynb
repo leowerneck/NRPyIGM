{
 "cells": [
  {
   "cell_type": "markdown",
   "metadata": {},
   "source": [
    "<script async src=\"https://www.googletagmanager.com/gtag/js?id=UA-59152712-8\"></script>\n",
    "<script>\n",
    "  window.dataLayer = window.dataLayer || [];\n",
    "  function gtag(){dataLayer.push(arguments);}\n",
    "  gtag('js', new Date());\n",
    "\n",
    "  gtag('config', 'UA-59152712-8');\n",
    "</script>\n",
    "\n",
    "# Tutorial-IllinoisGRMHD: apply_tau_floor__enforce_limits_on_primitives_and_recompute_conservs.C\n",
    "\n",
    "## Authors: Leo Werneck & Zach Etienne\n",
    "\n",
    "<font color='red'>**This module is currently under development**</font>\n",
    "\n",
    "## In this tutorial module we explain two major functions within IllinoisGRMHD that are used to ensure that the results obtained throughout the simulation are Physically sound.\n",
    "\n",
    "### Required and recommended citations:\n",
    "\n",
    "* **(Required)** Etienne, Z. B., Paschalidis, V., Haas R., Mösta P., and Shapiro, S. L. IllinoisGRMHD: an open-source, user-friendly GRMHD code for dynamical spacetimes. Class. Quantum Grav. 32 (2015) 175009. ([arxiv:1501.07276](http://arxiv.org/abs/1501.07276)).\n",
    "* **(Required)** Noble, S. C., Gammie, C. F., McKinney, J. C., Del Zanna, L. Primitive Variable Solvers for Conservative General Relativistic Magnetohydrodynamics. Astrophysical Journal, 641, 626 (2006) ([astro-ph/0512420](https://arxiv.org/abs/astro-ph/0512420)).\n",
    "* **(Recommended)** Del Zanna, L., Bucciantini N., Londrillo, P. An efficient shock-capturing central-type scheme for multidimensional relativistic flows - II. Magnetohydrodynamics. A&A 400 (2) 397-413 (2003). DOI: 10.1051/0004-6361:20021641 ([astro-ph/0210618](https://arxiv.org/abs/astro-ph/0210618)).\n",
    "\n",
    "If using the version of `IllinoisGRMHD` with piecewise polytropic *or* tabulated (coming soon!) EOS support, then the following citation is also required:\n",
    "\n",
    "* **(Required)** Etienne, Z. B., Werneck, L., Paschalidis, V., Haas R., Mösta P., and Shapiro, S. L., *IllinoisGRMHD github repository* (2019). Source Code URL: https://github.com/zachetienne/nrpytutorial/tree/master/IllinoisGRMHD/."
   ]
  },
  {
   "cell_type": "markdown",
   "metadata": {},
   "source": [
    "### Dependencies\n",
    "\n",
    "The files generated in this tutorial notebook depend on the following file:\n",
    "\n",
    "* `IllinoisGRMHD_EoS_lowlevel_functs.C` \\[[**tutorial**](Tutorial-IllinoisGRMHD__EoS_lowlevel_functs.ipynb)\\]"
   ]
  },
  {
   "cell_type": "markdown",
   "metadata": {},
   "source": [
    "<a id='toc'></a>\n",
    "\n",
    "# Table of Contents\n",
    "$$\\label{toc}$$\n",
    "\n",
    "This module is organized as follows\n",
    "\n",
    "0. [Step 0](#src_dir): **Source directory creation**\n",
    "1. [Step 1](#introduction): **Introduction**\n",
    "1. [Step 2](#apply_tau_floor): **The `apply_tau_floor` function**\n",
    "    1. [Step 2.a](#positive_definiteness_of_the_metric): *Positive-definiteness of the metric*\n",
    "    1. [Step 2.b](#barbi_barb_i_barb2_and_barb): *Computing $\\bar{B}^{i}$, $\\bar{B}_{i}$, $\\bar{B}^{2}$, and $\\bar{B}$*\n",
    "    1. [Step 2.c](#barbdots_hatbarbdots_and_sdots): *Computing $\\bar{B}\\cdot\\tilde{S}$, $\\hat{\\bar{B}}\\cdot\\tilde{S}$, and $\\tilde{S}^{2}$*\n",
    "    1. [Step 2.d](#modifying_tau): *Modifying $\\tilde{\\tau}$*\n",
    "        1. [Step 2.d.i](#wm_sm_and_wmin): $W_{m}$, $\\tilde{S}_{m}$, and $W_{\\min}$\n",
    "        1. [Step 2.d.ii](#tau_min): $\\tau_{\\min}$\n",
    "    1. [Step 2.e](#modifying_tilde_s_i): *Modifying $\\tilde{S}_{i}$*\n",
    "1. [Step 3](#enforce_pressure_floor_ceiling) **The `enforce_pressure_floor_ceiling` function**\n",
    "1. [Step 4](#enforce_limits_on_primitives_and_recompute_conservs): **The `IllinoisGRMHD_enforce_limits_on_primitives_and_recompute_conservs` function**\n",
    "1. [Step 5](#code_validation): **Code validation**\n",
    "1. [Step 6](#latex_pdf_output): **Output this notebook to $\\LaTeX$-formatted PDF file**"
   ]
  },
  {
   "cell_type": "markdown",
   "metadata": {},
   "source": [
    "<a id='src_dir'></a>\n",
    "\n",
    "# Step 0: Source directory creation \\[Back to [top](#toc)\\]\n",
    "$$\\label{src_dir}$$\n",
    "\n",
    "We will now use the [cmdline_helper.py NRPy+ module](Tutorial-Tutorial-cmdline_helper.ipynb) to create the source directory within the `IllinoisGRMHD` NRPy+ directory, if it does not exist yet."
   ]
  },
  {
   "cell_type": "code",
   "execution_count": 1,
   "metadata": {},
   "outputs": [],
   "source": [
    "# Step 0: Creation of the IllinoisGRMHD source directory\n",
    "# Step 0a: Add NRPy's directory to the path\n",
    "# https://stackoverflow.com/questions/16780014/import-file-from-parent-directory\n",
    "import os,sys\n",
    "nrpy_dir_path = os.path.join(\"..\",\"..\")\n",
    "if nrpy_dir_path not in sys.path:\n",
    "    sys.path.append(nrpy_dir_path)\n",
    "\n",
    "# Step 0b: Load up cmdline_helper and create the directory\n",
    "import cmdline_helper as cmd\n",
    "outdir = os.path.join(\"..\",\"src\")\n",
    "cmd.mkdir(outdir)"
   ]
  },
  {
   "cell_type": "markdown",
   "metadata": {},
   "source": [
    "<a id='introduction'></a>\n",
    "\n",
    "# Step 1: Introduction \\[Back to [top](#toc)\\]\n",
    "$$\\label{introduction}$$\n",
    "\n",
    "In this tutorial notebook we will discuss how we adjust our conservative variables given that our primitive variables are in the physical range.\n",
    "\n",
    "For a given set of primitive variables $\\left\\{\\rho_{b},P,v^i,B^i\\right\\}$ in the physical range (i.e. $\\rho_{b}\\geq0$, $P\\geq0$ and $\\epsilon\\geq0$), the corresponding conservative variables $\\left\\{\\rho_{\\star},\\tilde{\\tau},\\tilde{S}_{i},\\tilde{B}^{i}\\right\\}$ must satisfy certain inequalities (see appendix A of [Etienne *et al.* (2012)](https://arxiv.org/pdf/1112.0568.pdf) for the full discussion). Here we provide a practical recipe to impose these inequalities approximately to reduce inversion failures, which occur mainly in regions with very low density in the artificial “atmosphere” or inside the BH horizon where high accuracy is difficult to maintain but not crucial."
   ]
  },
  {
   "cell_type": "markdown",
   "metadata": {},
   "source": [
    "<a id='apply_tau_floor'></a>\n",
    "\n",
    "# Step 2: The `apply_tau_floor` function \\[Back to [top](#toc)\\]\n",
    "$$\\label{apply_tau_floor}$$\n",
    "\n",
    "\n",
    "Here we will start the `apply_tau_floor()` and declare a couple of function prototypes."
   ]
  },
  {
   "cell_type": "code",
   "execution_count": 2,
   "metadata": {},
   "outputs": [
    {
     "name": "stdout",
     "output_type": "stream",
     "text": [
      "Overwriting ../src/apply_tau_floor__enforce_limits_on_primitives_and_recompute_conservs.C\n"
     ]
    }
   ],
   "source": [
    "%%writefile $outdir/apply_tau_floor__enforce_limits_on_primitives_and_recompute_conservs.C\n",
    "\n",
    "void eigenvalues_3by3_real_sym_matrix(CCTK_REAL & lam1, CCTK_REAL & lam2, CCTK_REAL & lam3,\n",
    "                                      CCTK_REAL M11, CCTK_REAL M12, CCTK_REAL M13, CCTK_REAL M22, CCTK_REAL M23, CCTK_REAL M33);\n",
    "\n",
    "static inline void enforce_pressure_floor_ceiling(output_stats &stats,CCTK_REAL kpoly,CCTK_REAL P_cold,CCTK_REAL Psi6,const CCTK_REAL Psi6threshold,CCTK_REAL rho_b,const CCTK_REAL rhobatm,  CCTK_REAL &P);\n",
    "\n",
    "static inline int apply_tau_floor(const CCTK_REAL tau_atm,const CCTK_REAL rho_b_atm,const CCTK_REAL Psi6threshold,CCTK_REAL *PRIMS,CCTK_REAL *ADM_3METRIC,output_stats &stats,eos_struct &eos,  CCTK_REAL *CONSERVS) {"
   ]
  },
  {
   "cell_type": "markdown",
   "metadata": {},
   "source": [
    "<a id='positive_definiteness_of_the_metric'></a>\n",
    "\n",
    "## Step 2.a: Positive-definiteness of the metric \\[Back to [top](#toc)\\]\n",
    "$$\\label{positive_definiteness_of_the_metric}$$\n",
    "\n",
    "We start by verifying if the metrix $\\gamma_{ij}$ is positive definite. Notice that although we expect this to always be true, the metric may lose its positive-definiteness due to numerical error during the evolution, especially in the region deep inside the BH, near the “puncture”.\n",
    "\n",
    "To verify whether or not the [metric is positive definite, we analyse its eigenvectors](https://en.wikipedia.org/wiki/Definiteness_of_a_matrix#Eigenvalues). If the metrix is *not* positive definite, we reset $\\gamma_{ij}\\to\\psi^{4}\\tilde{\\gamma}_{ij}$, where $\\tilde{\\gamma}_{ij}$ corresponds to the 3D flat metric tensor."
   ]
  },
  {
   "cell_type": "code",
   "execution_count": 3,
   "metadata": {},
   "outputs": [
    {
     "name": "stdout",
     "output_type": "stream",
     "text": [
      "Appending to ../src/apply_tau_floor__enforce_limits_on_primitives_and_recompute_conservs.C\n"
     ]
    }
   ],
   "source": [
    "%%writefile -a $outdir/apply_tau_floor__enforce_limits_on_primitives_and_recompute_conservs.C\n",
    "\n",
    "\n",
    "  //First apply the rho_star floor:\n",
    "\n",
    "  //rho_star = alpha u0 Psi6 rho_b, alpha u0 > 1, so if rho_star < Psi6 rho_b_atm, then we are GUARANTEED that we can reset to atmosphere.\n",
    "  //if(CONSERVS[RHOSTAR] < 1e4*ADM_3METRIC[SQRTGAMMA]*rho_b_atm) {\n",
    "  //if(CONSERVS[RHOSTAR] < 2*ADM_3METRIC[SQRTGAMMA]*rho_b_atm) {\n",
    "\n",
    "    CCTK_REAL CONF_METRIC[6];\n",
    "    CCTK_REAL Psi2               = cbrt(ADM_3METRIC[SQRTGAMMA]);\n",
    "    CCTK_REAL Psi4               = Psi2*Psi2;\n",
    "    CCTK_REAL Psim4              = 1.0 / Psi4;\n",
    "    CONF_METRIC[CM_GAMMATILDEXX] = ADM_3METRIC[GAMMAUPXX]*Psim4;\n",
    "    CONF_METRIC[CM_GAMMATILDEXY] = ADM_3METRIC[GAMMAUPXY]*Psim4;\n",
    "    CONF_METRIC[CM_GAMMATILDEXZ] = ADM_3METRIC[GAMMAUPXZ]*Psim4;\n",
    "    CONF_METRIC[CM_GAMMATILDEYY] = ADM_3METRIC[GAMMAUPYY]*Psim4;\n",
    "    CONF_METRIC[CM_GAMMATILDEYZ] = ADM_3METRIC[GAMMAUPYZ]*Psim4;\n",
    "    CONF_METRIC[CM_GAMMATILDEZZ] = ADM_3METRIC[GAMMAUPZZ]*Psim4;\n",
    "      \n",
    "  CCTK_REAL lam1,lam2,lam3;\n",
    "  eigenvalues_3by3_real_sym_matrix(lam1, lam2, lam3,CONF_METRIC[CM_GAMMATILDEXX], CONF_METRIC[CM_GAMMATILDEXY], CONF_METRIC[CM_GAMMATILDEXZ], CONF_METRIC[CM_GAMMATILDEYY], CONF_METRIC[CM_GAMMATILDEYZ], CONF_METRIC[CM_GAMMATILDEZZ]);\n",
    "  if (lam1 < 0.0 || lam2 < 0.0 || lam3 < 0.0) {\n",
    "    // Metric is not positive-defitive, reset the metric to be conformally-flat.\n",
    "    CCTK_REAL Psi4               = cbrt(ADM_3METRIC[SQRTGAMMA]*ADM_3METRIC[SQRTGAMMA]);\n",
    "    CONF_METRIC[CM_GAMMATILDEXX] = 1.0;\n",
    "    CONF_METRIC[CM_GAMMATILDEXY] = 0.0;\n",
    "    CONF_METRIC[CM_GAMMATILDEXZ] = 0.0;\n",
    "    CONF_METRIC[CM_GAMMATILDEYY] = 1.0;\n",
    "    CONF_METRIC[CM_GAMMATILDEYZ] = 0.0;\n",
    "    CONF_METRIC[CM_GAMMATILDEZZ] = 1.0;\n",
    "    ADM_3METRIC[GAMMAUPXX]       = Psi4;\n",
    "    ADM_3METRIC[GAMMAUPXY]       = 0.0;\n",
    "    ADM_3METRIC[GAMMAUPXZ]       = 0.0;\n",
    "    ADM_3METRIC[GAMMAUPYY]       = Psi4;\n",
    "    ADM_3METRIC[GAMMAUPYZ]       = 0.0;\n",
    "    ADM_3METRIC[GAMMAUPZZ]       = Psi4;\n",
    "  }"
   ]
  },
  {
   "cell_type": "markdown",
   "metadata": {},
   "source": [
    "<a id='barbi_barb_i_barb2_and_barb'></a>\n",
    "\n",
    "## Step 2.b: Computing $\\bar{B}^{i}$, $\\bar{B}_{i}$, $\\bar{B}^{2}$, and $\\bar{B}$ \\[Back to [top](#toc)\\]\n",
    "$$\\label{barbi_barb_i_barb2_and_barb}$$\n",
    "\n",
    "We then set\n",
    "\n",
    "$$\n",
    "\\boxed{\\bar{B}^{i} = \\frac{B^{i}}{\\sqrt{4\\pi}}}\\ ,\n",
    "$$\n",
    "\n",
    "and\n",
    "\n",
    "$$\n",
    "\\bar{B}_{i} = \\gamma_{ij}\\bar{B}^{j} \\implies \n",
    "\\boxed{\n",
    "\\left\\{\n",
    "\\begin{matrix}\n",
    "\\bar{B}_{x} = \\gamma_{xx}\\bar{B}^{x} + \\gamma_{xy}\\bar{B}^{y} + \\gamma_{xz}\\bar{B}^{z}\\\\\n",
    "\\bar{B}_{y} = \\gamma_{yx}\\bar{B}^{x} + \\gamma_{yy}\\bar{B}^{y} + \\gamma_{yz}\\bar{B}^{z}\\\\\n",
    "\\bar{B}_{z} = \\gamma_{zx}\\bar{B}^{x} + \\gamma_{zy}\\bar{B}^{y} + \\gamma_{zz}\\bar{B}^{z}\n",
    "\\end{matrix}\n",
    "\\right.\n",
    "}\\ ,\n",
    "$$\n",
    "\n",
    "then\n",
    "\n",
    "$$\n",
    "\\bar{B}^{2} \\equiv B_{i}B^{i} \\implies \\boxed{\\bar{B}^{2} = B_{x}B^{x} + B_{y}B^{y} + B_{z}B^{z}}\\ ,\n",
    "$$\n",
    "\n",
    "and finally\n",
    "\n",
    "$$\n",
    "\\boxed{\\bar{B} \\equiv \\sqrt{\\bar{B}^{2}}}\\ .\n",
    "$$"
   ]
  },
  {
   "cell_type": "code",
   "execution_count": 4,
   "metadata": {},
   "outputs": [
    {
     "name": "stdout",
     "output_type": "stream",
     "text": [
      "Appending to ../src/apply_tau_floor__enforce_limits_on_primitives_and_recompute_conservs.C\n"
     ]
    }
   ],
   "source": [
    "%%writefile -a $outdir/apply_tau_floor__enforce_limits_on_primitives_and_recompute_conservs.C\n",
    "\n",
    "\n",
    "  //Next, prepare for the tau and stilde fixes:\n",
    "\n",
    "  CCTK_REAL Bxbar = PRIMS[BX_CENTER]*ONE_OVER_SQRT_4PI,Bybar = PRIMS[BY_CENTER]*ONE_OVER_SQRT_4PI,Bzbar = PRIMS[BZ_CENTER]*ONE_OVER_SQRT_4PI;\n",
    "\n",
    "  CCTK_REAL Bbar_x = ADM_3METRIC[GAMMAXX]*Bxbar + ADM_3METRIC[GAMMAXY]*Bybar + ADM_3METRIC[GAMMAXZ]*Bzbar;\n",
    "  CCTK_REAL Bbar_y = ADM_3METRIC[GAMMAXY]*Bxbar + ADM_3METRIC[GAMMAYY]*Bybar + ADM_3METRIC[GAMMAYZ]*Bzbar;\n",
    "  CCTK_REAL Bbar_z = ADM_3METRIC[GAMMAXZ]*Bxbar + ADM_3METRIC[GAMMAYZ]*Bybar + ADM_3METRIC[GAMMAZZ]*Bzbar;\n",
    "  CCTK_REAL Bbar2 = Bxbar*Bbar_x + Bybar*Bbar_y + Bzbar*Bbar_z;\n",
    "  CCTK_REAL Bbar = sqrt(Bbar2);"
   ]
  },
  {
   "cell_type": "markdown",
   "metadata": {},
   "source": [
    "The next part of the code is written to prevent [floating-point underflow](https://en.wikipedia.org/wiki/Arithmetic_underflow). We compute $\\bar{B}$ in a different way. We start by evaluating\n",
    "\n",
    "$$\n",
    "\\bar{B}_{\\rm check} = \\left|\\bar{B}^{x}\\right| + \\left|\\bar{B}^{y}\\right| + \\left|\\bar{B}^{z}\\right|\\ ,\n",
    "$$\n",
    "\n",
    "and verifying whether that is a very small, positive number. Then, we determine the largest component of $\\bar{B}_{\\rm check}$: \n",
    "\n",
    "$$\n",
    "\\bar{B}_{\\max} = \\max\\left(\\left|\\bar{B}^{x}\\right|,\\left|\\bar{B}^{y}\\right|,\\left|\\bar{B}^{z}\\right|\\right)\\ .\n",
    "$$\n",
    "\n",
    "Then, we rescale $\\bar{B}_{i}$ and $\\bar{B}^{i}$ using\n",
    "\n",
    "$$\n",
    "\\left(\\bar{B}^{i}\\right)_{\\rm tmp} \\equiv \\frac{\\bar{B}^{i}}{\\bar{B}_{\\max}}\\ ,\\quad\n",
    "\\left(\\bar{B}_{i}\\right)_{\\rm tmp} \\equiv \\frac{\\bar{B}_{i}}{\\bar{B}_{\\max}}\\ ,\n",
    "$$\n",
    "\n",
    "and finally recompute $\\bar{B}$\n",
    "\n",
    "$$\n",
    "\\bar{B} = \\left[\\left(\\bar{B}_{i}\\right)_{\\rm tmp}\\left(\\bar{B}^{i}\\right)_{\\rm tmp}\\right]\\bar{B}_{\\max}\\ .\n",
    "$$"
   ]
  },
  {
   "cell_type": "code",
   "execution_count": 5,
   "metadata": {},
   "outputs": [
    {
     "name": "stdout",
     "output_type": "stream",
     "text": [
      "Appending to ../src/apply_tau_floor__enforce_limits_on_primitives_and_recompute_conservs.C\n"
     ]
    }
   ],
   "source": [
    "%%writefile -a $outdir/apply_tau_floor__enforce_limits_on_primitives_and_recompute_conservs.C\n",
    "\n",
    "  CCTK_REAL check_B_small = fabs(Bxbar)+fabs(Bybar)+fabs(Bzbar);\n",
    "  if (check_B_small>0 && check_B_small<1.e-150) {\n",
    "    // need to compute Bbar specially to prevent floating-point underflow\n",
    "    CCTK_REAL Bmax = fabs(Bxbar);\n",
    "    if (Bmax < fabs(Bybar)) Bmax=fabs(Bybar);\n",
    "    if (Bmax < fabs(Bzbar)) Bmax=fabs(Bzbar);\n",
    "    CCTK_REAL Bxtmp=Bxbar/Bmax, Bytemp=Bybar/Bmax, Bztemp=Bzbar/Bmax;\n",
    "    CCTK_REAL B_xtemp=Bbar_x/Bmax, B_ytemp=Bbar_y/Bmax, B_ztemp=Bbar_z/Bmax;\n",
    "    Bbar = sqrt(Bxtmp*B_xtemp + Bytemp*B_ytemp + Bztemp*B_ztemp)*Bmax;\n",
    "  }"
   ]
  },
  {
   "cell_type": "markdown",
   "metadata": {},
   "source": [
    "<a id='barbdots_hatbarbdots_and_sdots'></a>\n",
    "\n",
    "## Step 2.c: Computing $\\bar{B}\\cdot\\tilde{S}$, $\\hat{\\bar{B}}\\cdot\\tilde{S}$, and $\\tilde{S}^{2}$ \\[Back to [top](#toc)\\]\n",
    "$$\\label{barbdots_hatbarbdots_and_sdots}$$\n",
    "\n",
    "Then we compute\n",
    "\n",
    "$$\n",
    "\\bar{B} \\cdot \\tilde{S} = \\bar{B}_{i}\\tilde{S}^{i} = \\bar{B}_{x}\\tilde{S}^{x} + \\bar{B}_{y}\\tilde{S}^{y} + \\bar{B}_{z}\\tilde{S}^{z}\\ .\n",
    "$$\n",
    "\n",
    "and\n",
    "\n",
    "$$\n",
    "\\hat{\\bar{B}}\\cdot\\tilde{S} \\equiv \\frac{\\bar{B} \\cdot \\tilde{S}}{\\bar{B}}\\ .\n",
    "$$\n",
    "\n",
    "However, if $\\bar{B} \\ll 1$, we set $\\hat{\\bar{B}}\\cdot\\tilde{S}=0$."
   ]
  },
  {
   "cell_type": "code",
   "execution_count": 6,
   "metadata": {},
   "outputs": [
    {
     "name": "stdout",
     "output_type": "stream",
     "text": [
      "Appending to ../src/apply_tau_floor__enforce_limits_on_primitives_and_recompute_conservs.C\n"
     ]
    }
   ],
   "source": [
    "%%writefile -a $outdir/apply_tau_floor__enforce_limits_on_primitives_and_recompute_conservs.C\n",
    "\n",
    "  CCTK_REAL BbardotS = Bxbar*CONSERVS[STILDEX] + Bybar*CONSERVS[STILDEY] + Bzbar*CONSERVS[STILDEZ];\n",
    "  CCTK_REAL hatBbardotS = BbardotS/Bbar;\n",
    "  if (Bbar<1.e-300) hatBbardotS = 0.0;\n",
    "\n",
    "  // Limit hatBbardotS\n",
    "  //CCTK_REAL max_gammav = 100.0;\n",
    "  //CCTK_REAL rhob_max = CONSERVS[RHOSTAR]/ADM_3METRIC[SQRTGAMMA];\n",
    "  //CCTK_REAL hmax = 1.0 + 2.0*rhob_max;\n",
    "  //CCTK_REAL abs_hatBbardotS_max = sqrt(SQR(max_gammav)-1.0)*CONSERVS[RHOSTAR]*hmax;\n",
    "  //if (fabs(hatBbardotS) > abs_hatBbardotS_max) {\n",
    "  //   CCTK_REAL fac_reduce = abs_hatBbardotS_max/fabs(hatBbardotS);\n",
    "  //   CCTK_REAL hatBbardotS_max = hatBbardotS*fac_reduce;\n",
    "  //   CCTK_REAL Bbar_inv = 1.0/Bbar;\n",
    "  //   CCTK_REAL hat_Bbar_x = Bbar_x*Bbar_inv;\n",
    "  //   CCTK_REAL hat_Bbar_y = Bbar_y*Bbar_inv;\n",
    "  //   CCTK_REAL hat_Bbar_z = Bbar_z*Bbar_inv;\n",
    "  //   CCTK_REAL sub_fact = hatBbardotS_max - hatBbardotS;\n",
    "  //   CONSERVS[STILDEX] += sub_fact*hat_Bbar_x;\n",
    "  //   CONSERVS[STILDEY] += sub_fact*hat_Bbar_y;\n",
    "  //   CONSERVS[STILDEZ] += sub_fact*hat_Bbar_z;\n",
    "  //   hatBbardotS = hatBbardotS_max;\n",
    "  //   BbardotS *= fac_reduce;\n",
    "  //   CONSERVS[STILDEX] = CONSERVS[STILDEX]; CONSERVS[STILDEY] = CONSERVS[STILDEY]; CONSERVS[STILDEZ] = CONSERVS[STILDEZ];\n",
    "  //}"
   ]
  },
  {
   "cell_type": "markdown",
   "metadata": {},
   "source": [
    "Next we compute\n",
    "\n",
    "$$\n",
    "\\tilde{S}^{2} \\equiv \\tilde{S} \\cdot \\tilde{S} = \\gamma^{ij}\\tilde{S}_{i}\\tilde{S}_{j}\\ ,\n",
    "$$\n",
    "\n",
    "i.e.\n",
    "\n",
    "$$\n",
    "\\boxed{\n",
    "\\begin{align}\n",
    "\\tilde{S}^{2} &= \\gamma^{xx}\\left(\\tilde{S}_{x}\\right)^{2}\n",
    "                           + \\gamma^{yy}\\left(\\tilde{S}_{y}\\right)^{2}\n",
    "                           + \\gamma^{zz}\\left(\\tilde{S}_{z}\\right)^{2}\\\\\n",
    "                          &+2\\left(\n",
    "                             \\gamma^{xy}\\tilde{S}_{x}\\tilde{S}_{y}\n",
    "                            +\\gamma^{xz}\\tilde{S}_{x}\\tilde{S}_{z}\n",
    "                            +\\gamma^{yz}\\tilde{S}_{y}\\tilde{S}_{z}\n",
    "                           \\right)\n",
    "\\end{align}\n",
    "}\\ .\n",
    "$$"
   ]
  },
  {
   "cell_type": "code",
   "execution_count": 7,
   "metadata": {},
   "outputs": [
    {
     "name": "stdout",
     "output_type": "stream",
     "text": [
      "Appending to ../src/apply_tau_floor__enforce_limits_on_primitives_and_recompute_conservs.C\n"
     ]
    }
   ],
   "source": [
    "%%writefile -a $outdir/apply_tau_floor__enforce_limits_on_primitives_and_recompute_conservs.C\n",
    "\n",
    "\n",
    "  CCTK_REAL sdots= ADM_3METRIC[GAMMAUPXX]*SQR(CONSERVS[STILDEX])+ADM_3METRIC[GAMMAUPYY]*SQR(CONSERVS[STILDEY])+ADM_3METRIC[GAMMAUPZZ]*SQR(CONSERVS[STILDEZ])+2.0*\n",
    "    (ADM_3METRIC[GAMMAUPXY]*CONSERVS[STILDEX]*CONSERVS[STILDEY]+ADM_3METRIC[GAMMAUPXZ]*CONSERVS[STILDEX]*CONSERVS[STILDEZ]+ADM_3METRIC[GAMMAUPYZ]*CONSERVS[STILDEY]*CONSERVS[STILDEZ]);"
   ]
  },
  {
   "cell_type": "markdown",
   "metadata": {},
   "source": [
    "<a id='modifying_tau'></a>\n",
    "\n",
    "## Step 2.d: Modifying $\\tilde{\\tau}$ \\[Back to [top](#toc)\\]\n",
    "$$\\label{modifying_tau}$$\n",
    "\n",
    "<a id='wm_sm_and_wmin'></a>\n",
    "\n",
    "### Step 2.d.i: $W_{m}$, $\\tilde{S}_{m}$, and $W_{\\min}$ \\[Back to [top](#toc)\\]\n",
    "$$\\label{wm_sm_and_wmin}$$\n",
    "\n",
    "Then we compute other useful quantities, which are eqs. (A52), (A53), and (A54) in appendix A of [Etienne *et al.* (2012)](https://arxiv.org/pdf/1112.0568.pdf)\n",
    "\n",
    "$$\n",
    "\\begin{align}\n",
    "W_{m} &= \\psi^{-6}\\left[\\left(\\hat{\\bar{B}}\\cdot\\tilde{S}\\right)^{2}+\\rho_{\\star}^{2}\\right]^{1/2}\\ ,\\\\\n",
    "\\tilde{S}_{m}^{2} &= \\frac{W_{m}^{2}\\tilde{S}^{2} + \\left(\\bar{B}\\cdot\\tilde{S}\\right)^{2}\\left(\\bar{B}^{2}+2W_{m}\\right)}{\\left(W_{m}+\\bar{B}^{2}\\right)^{2}}\\ ,\\\\\n",
    "W_{\\min} &= \\psi^{-6}\\left(S_{m}^{2}+\\rho_{\\star}^{2}\\right)^{1/2}\\ ,\\\\\n",
    "\\end{align}\n",
    "$$\n",
    "\n",
    "respectively (notice the slightly different notation between the equations above and the one used in the paper)."
   ]
  },
  {
   "cell_type": "code",
   "execution_count": 8,
   "metadata": {},
   "outputs": [
    {
     "name": "stdout",
     "output_type": "stream",
     "text": [
      "Appending to ../src/apply_tau_floor__enforce_limits_on_primitives_and_recompute_conservs.C\n"
     ]
    }
   ],
   "source": [
    "%%writefile -a $outdir/apply_tau_floor__enforce_limits_on_primitives_and_recompute_conservs.C\n",
    "\n",
    "\n",
    "  CCTK_REAL Wm = sqrt(SQR(hatBbardotS)+ SQR(CONSERVS[RHOSTAR]))/ADM_3METRIC[SQRTGAMMA];\n",
    "  CCTK_REAL Sm2 = (SQR(Wm)*sdots + SQR(BbardotS)*(Bbar2+2.0*Wm))/SQR(Wm+Bbar2);\n",
    "  CCTK_REAL Wmin = sqrt(Sm2 + SQR(CONSERVS[RHOSTAR]))/ADM_3METRIC[SQRTGAMMA];\n",
    "  CCTK_REAL sdots_fluid_max = sdots;"
   ]
  },
  {
   "cell_type": "markdown",
   "metadata": {},
   "source": [
    "<a id='tau_min'></a>\n",
    "\n",
    "### Step 2.d.ii: $\\tilde{\\tau}_{\\min}$ \\[Back to [top](#toc)\\]\n",
    "$$\\label{tau_min}$$\n",
    "\n",
    "Next we evaluate\n",
    "\n",
    "$$\n",
    "\\tilde{\\tau}_{\\min} = \\tilde{\\tau} - \\frac{\\psi^{6}}{2}\\bar{B}^{2} - \\frac{\\bar{B}^{2}\\tilde{S}^{2} - \\left(\\bar{B}\\cdot\\tilde{S}\\right)^{2}}{2\\psi^{6}\\left(W_{\\min}+\\bar{B}^{2}\\right)^{2}}\n",
    "$$"
   ]
  },
  {
   "cell_type": "code",
   "execution_count": 9,
   "metadata": {},
   "outputs": [
    {
     "name": "stdout",
     "output_type": "stream",
     "text": [
      "Appending to ../src/apply_tau_floor__enforce_limits_on_primitives_and_recompute_conservs.C\n"
     ]
    }
   ],
   "source": [
    "%%writefile -a $outdir/apply_tau_floor__enforce_limits_on_primitives_and_recompute_conservs.C\n",
    "\n",
    "\n",
    "  //tau fix, applicable when B==0 and B!=0:\n",
    "  if(CONSERVS[TAUENERGY] < 0.5*ADM_3METRIC[SQRTGAMMA]*Bbar2) {\n",
    "    CONSERVS[TAUENERGY] = tau_atm+0.5*ADM_3METRIC[SQRTGAMMA]*Bbar2;\n",
    "    stats.failure_checker+=1000000;\n",
    "  }\n",
    "\n",
    "  CCTK_REAL tau_fluid_min = CONSERVS[TAUENERGY] - 0.5*ADM_3METRIC[SQRTGAMMA]*Bbar2 - (Bbar2*sdots - SQR(BbardotS))*0.5/(ADM_3METRIC[SQRTGAMMA]*SQR(Wmin+Bbar2));"
   ]
  },
  {
   "cell_type": "markdown",
   "metadata": {},
   "source": [
    "Then we verify if $\\tilde{\\tau}_{\\min} \\geq \\tilde{\\tau}_{\\rm atm}$. If $\\tilde{\\tau}_{\\min} < \\tilde{\\tau}_{\\rm atm}$, then reset $\\tilde{\\tau}$:\n",
    "\n",
    "$$\n",
    "\\tilde{\\tau} = \\tilde{\\tau}_{\\min} + \\frac{\\psi^{6}}{2}\\bar{B}^{2} + \\frac{\\bar{B}^{2}\\tilde{S}^{2} - \\left(\\bar{B}\\cdot\\tilde{S}\\right)^{2}}{2\\psi^{6}\\left(W_{\\min}+\\bar{B}^{2}\\right)^{2}}\\ .\n",
    "$$"
   ]
  },
  {
   "cell_type": "code",
   "execution_count": 10,
   "metadata": {},
   "outputs": [
    {
     "name": "stdout",
     "output_type": "stream",
     "text": [
      "Appending to ../src/apply_tau_floor__enforce_limits_on_primitives_and_recompute_conservs.C\n"
     ]
    }
   ],
   "source": [
    "%%writefile -a $outdir/apply_tau_floor__enforce_limits_on_primitives_and_recompute_conservs.C\n",
    "\n",
    "  \n",
    "  //Apply Stilde fix when B==0.\n",
    "  //if(PRIMS[BX_CENTER]==0 && PRIMS[BY_CENTER]==0 && PRIMS[BZ_CENTER]==0 && (ADM_3METRIC[SQRTGAMMA]>30.0 || CONSERVS[RHOSTAR]/ADM_3METRIC[SQRTGAMMA]<100*rho_b_atm)) {\n",
    "  //if(check_B_small < 1.e-300) {\n",
    "      \n",
    "  /**********************************\n",
    "   * Piecewise Polytropic EOS Patch *\n",
    "   *         Computing Patm         *\n",
    "   **********************************/\n",
    "  /* This modification of the code trades the variable\n",
    "   * \"gamma_equals2\" by the already defined function\n",
    "   * pow().\n",
    "   * \n",
    "   * Also, assuming that Patm < rho_ppoly_tab[0], we skip \n",
    "   * the declaration of new variables to store the \n",
    "   * values of K_ppoly_tab[0] and Gamma_ppoly_tab[0]. Thus:\n",
    "   *  -----------------------------------------\n",
    "   * | P_{atm} = K_{0} * rho_{atm}^{Gamma_{0}} |\n",
    "   *  -----------------------------------------\n",
    "   */\n",
    "  int polytropic_index = find_polytropic_K_and_Gamma_index(eos,rho_b_atm);\n",
    "  CCTK_REAL Patm = eos.K_ppoly_tab[polytropic_index]*pow(rho_b_atm,eos.Gamma_ppoly_tab[polytropic_index]);\n",
    "\n",
    "  if(check_B_small*check_B_small < Patm*1e-32) {\n",
    "    CCTK_REAL rhot=CONSERVS[TAUENERGY]*(CONSERVS[TAUENERGY]+2.0*CONSERVS[RHOSTAR]);\n",
    "    CCTK_REAL safetyfactor = 0.999999;\n",
    "    //if(ADM_3METRIC[SQRTGAMMA]>Psi6threshold) safetyfactor=0.99;\n",
    "\n",
    "    if(sdots > safetyfactor*rhot) {\n",
    "      CCTK_REAL rfactm1 = sqrt((safetyfactor*rhot)/sdots);\n",
    "      CONSERVS[STILDEX]*=rfactm1;\n",
    "      CONSERVS[STILDEY]*=rfactm1;\n",
    "      CONSERVS[STILDEZ]*=rfactm1; \n",
    "      stats.failure_checker+=10000000;\n",
    "    }\n",
    "  } else if(ADM_3METRIC[SQRTGAMMA]>Psi6threshold) {\n",
    "    //Apply new Stilde fix.\n",
    "    if (tau_fluid_min < tau_atm*1.001) { \n",
    "      tau_fluid_min = tau_atm*1.001;\n",
    "      CONSERVS[TAUENERGY] = tau_fluid_min + 0.5*ADM_3METRIC[SQRTGAMMA]*Bbar2 + (Bbar2*sdots - SQR(BbardotS))*0.5/(ADM_3METRIC[SQRTGAMMA]*SQR(Wmin+Bbar2));\n",
    "    }"
   ]
  },
  {
   "cell_type": "markdown",
   "metadata": {},
   "source": [
    "<a id='modifying_tilde_s_i'></a>\n",
    "\n",
    "## Step 2.e: Modifying $\\tilde{S}_{i}$ \\[Back to [top](#toc)\\]\n",
    "$$\\label{modifying_tilde_s_i}$$\n",
    "\n",
    "Then we check if $\\tilde{S}^{2} \\leq \\tilde{\\tau}_{\\min}\\left(\\tilde{\\tau}_{\\min}+2\\rho_{\\star}\\right)$. If not, we reset $\\tilde{S}_{i}$\n",
    "\n",
    "$$\n",
    "\\tilde{S}_{i}\\to \\tilde{S}_{i}\\sqrt{\\frac{\\tilde{\\tau}_{\\min}\\left(\\tilde{\\tau}_{\\min}+2\\rho_{\\star}\\right)}{\\tilde{S}^{2}}}\n",
    "$$"
   ]
  },
  {
   "cell_type": "code",
   "execution_count": 11,
   "metadata": {},
   "outputs": [
    {
     "name": "stdout",
     "output_type": "stream",
     "text": [
      "Appending to ../src/apply_tau_floor__enforce_limits_on_primitives_and_recompute_conservs.C\n"
     ]
    }
   ],
   "source": [
    "%%writefile -a $outdir/apply_tau_floor__enforce_limits_on_primitives_and_recompute_conservs.C\n",
    "\n",
    "    CCTK_REAL LHS = tau_fluid_min*(tau_fluid_min+2.0*CONSERVS[RHOSTAR]);\n",
    "    CCTK_REAL RHS = sdots_fluid_max;\n",
    "\n",
    "    CCTK_REAL safetyfactor = 0.999999;\n",
    "    if(safetyfactor*LHS < RHS) {\n",
    "      CCTK_REAL rfactm1 = sqrt((safetyfactor*LHS)/RHS);\n",
    "      CONSERVS[STILDEX]*=rfactm1;\n",
    "      CONSERVS[STILDEY]*=rfactm1;\n",
    "      CONSERVS[STILDEZ]*=rfactm1;\n",
    "      stats.failure_checker+=100000000;\n",
    "    }\n",
    "  }\n",
    "  \n",
    "\n",
    "\n",
    "  return 0;\n",
    "}\n",
    "\n",
    "/***********************************************************/\n",
    "/***********************************************************/\n",
    "/***********************************************************/\n",
    "/***********************************************************/\n",
    "\n"
   ]
  },
  {
   "cell_type": "markdown",
   "metadata": {},
   "source": [
    "<a id='enforce_pressure_floor_ceiling'></a>\n",
    "\n",
    "# Step 3: The `enforce_pressure_floor_ceiling` function \\[Back to [top](#toc)\\]\n",
    "$$\\label{enforce_pressure_floor_ceiling}$$\n",
    "\n",
    "After the Newton-Raphson solver has successfully found a set of primitives, the primitives are checked for physicality, and if they are not in the physical range, they are minimally modified until they return to the physical range. First,if the velocity is found to be superluminal, the speed is reduced to `IllinoisGRMHD`’s default Lorentz factor limit, a procedure which we already explained above when we discussed the `impose_speed_limit_output_u0` function.\n",
    "\n",
    "Next, `IllinoisGRMHD` does not include any cooling mechanism, which means that for evolutions adopting a $\\Gamma$-law equation of state, the pressure should not physically drop below $P_{\\rm cold}$. So a pressure floor of $0.9P_{\\rm cold}$ is imposed. Increasing this floor to $P_{\\rm cold}$ exactly results in large central density drifts in TOV star evolutions.\n",
    "\n",
    "**NOTE**: Please keep in mind that the floor and ceiling values presented here were found ***empirically***."
   ]
  },
  {
   "cell_type": "code",
   "execution_count": 12,
   "metadata": {},
   "outputs": [
    {
     "name": "stdout",
     "output_type": "stream",
     "text": [
      "Appending to ../src/apply_tau_floor__enforce_limits_on_primitives_and_recompute_conservs.C\n"
     ]
    }
   ],
   "source": [
    "%%writefile -a $outdir/apply_tau_floor__enforce_limits_on_primitives_and_recompute_conservs.C\n",
    "\n",
    "\n",
    "static inline void enforce_pressure_floor_ceiling(output_stats &stats,CCTK_REAL kpoly,CCTK_REAL P_cold,CCTK_REAL Psi6,const CCTK_REAL Psi6threshold,CCTK_REAL rho_b,const CCTK_REAL rhobatm,  CCTK_REAL &P) {\n",
    "  CCTK_REAL P_min=0.9*P_cold;\n",
    "  if(P<P_min) {\n",
    "    stats.failure_checker+=10;\n",
    "    P=P_min;\n",
    "  }\n",
    "  //MAX(P,P_min);\n",
    "  //if(P < P_min) P=1.0*P_cold;\n",
    "\n",
    "  /* OLD: Discarded because lower limit is unphysical.\n",
    "     if(P <= 0.5*kpoly*P_cold) {\n",
    "     P=0.5*kpoly*P_cold;\n",
    "     }\n",
    "  */"
   ]
  },
  {
   "cell_type": "markdown",
   "metadata": {},
   "source": [
    "Simulations can crash in the other extreme, if $P/P_{\\rm cold}$ becomes too large. This typically only happens in very low density regions or inside black holes.  So at densities $\\rho_{b}<100\\rho_{\\rm atm}$ or deep inside black hole horizons, a ceiling on $P$ of $100P_{\\rm cold}$ is enforced (see Appendix A of [Etienne *et al.* (2012)](https://arxiv.org/abs/1112.0568) for more details).\n",
    "\n",
    "We also introduce a parameter, $\\psi^{6}_{\\rm threshold}$, which determines whether the region under consideration is deep inside the BH horizon or not. For regions deep inside the BH horizon, defined by $\\sqrt{\\gamma} = \\psi^{6} > \\psi^{6}_{\\rm threshold}$, the primary goal is to keep the evolution stable and prevent inaccurate data from leaking out of the BH horizon. It was determined that in this situation, a better ceiling on $P$ is $10^{5}P_{\\rm cold}$."
   ]
  },
  {
   "cell_type": "code",
   "execution_count": 13,
   "metadata": {},
   "outputs": [
    {
     "name": "stdout",
     "output_type": "stream",
     "text": [
      "Appending to ../src/apply_tau_floor__enforce_limits_on_primitives_and_recompute_conservs.C\n"
     ]
    }
   ],
   "source": [
    "%%writefile -a $outdir/apply_tau_floor__enforce_limits_on_primitives_and_recompute_conservs.C\n",
    "\n",
    "\n",
    "  //CCTK_REAL P_max = 10.0*P_cold;\n",
    "  CCTK_REAL P_max = 100.0*P_cold;\n",
    "  if(Psi6 > Psi6threshold) P_max = 1e5*P_cold; // <-- better than 10.\n",
    "\n",
    "  if((rho_b < 100.0*rhobatm || Psi6 > Psi6threshold) && P>P_max) {\n",
    "    P=P_max;\n",
    "    stats.failure_checker+=100;\n",
    "  }\n",
    "\n",
    "  /*\n",
    "    CCTK_REAL rho_horiz_cap = 1000.0*rhobatm;\n",
    "    \n",
    "    //New density damping mechanism inside the horizon\n",
    "    if(Psi6 > Psi6threshold && rho_b>rho_horiz_cap) {\n",
    "    CCTK_REAL six_phi=log(Psi6);\n",
    "    CCTK_REAL six_phithreshold=log(Psi6threshold);\n",
    "    CCTK_REAL Psi6max_approx=350000;\n",
    "    rho_b = rho_horiz_cap+(rho_b-rho_horiz_cap)*exp(-200.0*SQR((six_phi-six_phithreshold)/log(Psi6max_approx)));\n",
    "    }\n",
    "  */\n",
    "}\n",
    "\n"
   ]
  },
  {
   "cell_type": "markdown",
   "metadata": {},
   "source": [
    "<a id='enforce_limits_on_primitives_and_recompute_conservs'></a>\n",
    "\n",
    "# Step 4: `The IllinoisGRMHD_ enforce_limits_on_primitives_and_recompute_conservs` function \\[Back to [top](#toc)\\]\n",
    "$$\\label{enforce_limits_on_primitives_and_recompute_conservs}$$\n",
    "\n",
    "We start by imposing physical limits on the primitive variables $\\left\\{\\rho_{b},P,v^{i}\\right\\}$, using:\n",
    "\n",
    "1. $\\rho_{b} \\to \\min\\left(\\rho_{b},\\rho_{b,{\\rm atm}}\\right)$\n",
    "1. `enforce_pressure_floor_ceiling()`: documented [above](#enforce_pressure_floor_ceiling)\n",
    "\n",
    "We then compute $g_{\\mu\\nu}$, $g^{\\mu\\nu}$, $T_{\\mu\\nu}$, $T^{\\mu\\nu}$, and, finally, recompute the conservative variables.\n",
    "\n",
    "In this step, we will NRPy+ to generate expressions for:\n",
    "\n",
    "1. The physical ADM 4-metric, $g_{\\mu\\nu}$: done using the [BSSN.ADMBSSN_tofrom_4metric NRPy+ module](/edit/NRPyIGM/BSSN/ADMBSSN_tofrom_4metric.py) \\[[**tutorial**](/notebooks/NRPyIGM/Tutorial-ADMBSSN_tofrom_4metric.ipynb)\\]\n",
    "2. The physical ADM inverse 4-metric $g^{\\mu\\nu}$: done using the [BSSN.ADMBSSN_tofrom_4metric NRPy+ module](/edit/NRPyIGM/BSSN/ADMBSSN_tofrom_4metric.py) \\[[**tutorial**](/notebooks/NRPyIGM/Tutorial-ADMBSSN_tofrom_4metric.ipynb)\\]\n",
    "3. The covariant GRMHD energy momentum tensor, $T_{\\mu\\nu}^{\\rm GRMHD}$, which is done is three steps:\n",
    "    1. Compute $T_{\\mu\\nu}^{\\rm GRHD}$: done using the [GRHD.equations NRPy+ module](/edit/NRPyIGM/GRHD/equations.py) \\[[**tutorial**](/notebooks/NRPyIGM/Tutorial-GRHD_Equations-Cartesian.ipynb)\\]\n",
    "    2. Compute $T_{\\mu\\nu}^{\\rm GRFFE}$: done using the [GRFFE.equations NRPy+ module](/edit/NRPyIGM/GRFFE/equations.py) \\[[**tutorial**](/notebooks/NRPyIGM/Tutorial-GRFFE_Equations-Cartesian.ipynb)\\]\n",
    "    3. Compute $T_{\\mu\\nu}^{\\rm GRMHD} = T_{\\mu\\nu}^{\\rm GRHD} + T_{\\mu\\nu}^{\\rm GRFFE}$: done using the [GRMHD.equations NRPy+ module](/edit/NRPyIGM/GRMHD/equations.py) \\[[**tutorial**](/notebooks/NRPyIGM/Tutorial-GRMHD_Equations-Cartesian.ipynb)\\]\n",
    "4. The contravariant GRMHD energy momentum tensor, $T^{\\mu\\nu}_{\\rm GRMHD}$, which is done is three steps:\n",
    "    1. Compute $T^{\\mu\\nu}_{\\rm GRHD}$: done using the [GRHD.equations NRPy+ module](/edit/NRPyIGM/GRHD/equations.py) \\[[**tutorial**](/notebooks/NRPyIGM/Tutorial-GRHD_Equations-Cartesian.ipynb)\\]\n",
    "    2. Compute $T^{\\mu\\nu}_{\\rm GRFFE}$: done using the [GRFFE.equations NRPy+ module](/edit/NRPyIGM/GRFFE/equations.py) \\[[**tutorial**](/notebooks/NRPyIGM/Tutorial-GRFFE_Equations-Cartesian.ipynb)\\]\n",
    "    3. Compute $T^{\\mu\\nu}_{\\rm GRMHD} = T^{\\mu\\nu}_{\\rm GRHD} + T^{\\mu\\nu}_{\\rm GRFFE}$: done using the [GRMHD.equations NRPy+ module](/edit/NRPyIGM/GRMHD/equations.py) \\[[**tutorial**](/notebooks/NRPyIGM/Tutorial-GRMHD_Equations-Cartesian.ipynb)\\]"
   ]
  },
  {
   "cell_type": "code",
   "execution_count": 14,
   "metadata": {},
   "outputs": [
    {
     "name": "stdout",
     "output_type": "stream",
     "text": [
      "Wrote to file \"../src/NRPy_generated_headers/compute_g4dn_g4up_T4UU.h\"\n",
      "Time elapsed: 4.62 seconds\n",
      "Wrote to file \"../src/NRPy_generated_headers/compute_T4DD_CONSERVS.h\"\n",
      "Time elapsed: 11.80 seconds\n"
     ]
    }
   ],
   "source": [
    "from outputC import *\n",
    "import indexedexp as ixp\n",
    "import sympy as sp\n",
    "import BSSN.ADMBSSN_tofrom_4metric as AB4m\n",
    "import GRHD.equations as GRHD\n",
    "import GRFFE.equations as GRFFE\n",
    "import GRMHD.equations as GRMHD\n",
    "\n",
    "NRPy_headers_dir_path = os.path.join(outdir,\"NRPy_generated_headers\")\n",
    "\n",
    "ADMgammaDD = ixp.zerorank2()\n",
    "for i in range(3):\n",
    "    for j in range(i,3):\n",
    "        ADMgammaDD[i][j] = ADMgammaDD[j][i] = sp.symbols(\"ADM_3METRIC[GAMMA\"+chr(ord('X')+i)+chr(ord('X')+j)+\"]\",real=True)\n",
    "ADMbetaU = ixp.zerorank1()\n",
    "for i in range(3):\n",
    "    ADMbetaU[i] = sp.symbols(\"ADM_3METRIC[BETA\"+chr(ord('X')+i)+\"]\",real=True)\n",
    "ADMalpha = sp.symbols(\"ADM_3METRIC[ALPHA]\",real=True)\n",
    "vU = ixp.zerorank1()\n",
    "for i in range(3):\n",
    "    vU[i] = sp.symbols(\"PRIMS[V\"+chr(ord('X')+i)+\"]\",real=True)\n",
    "\n",
    "GRHD.u4U_in_terms_of_vU__rescale_vU_by_applying_speed_limit(ADMalpha,ADMbetaU,ADMgammaDD, vU)\n",
    "for i in range(3):\n",
    "    vU[i] = GRHD.rescaledvU[i]\n",
    "u4U = GRHD.u4U_ito_vU\n",
    "\n",
    "# First compute smallb4U & smallbsquared from BtildeU, which are needed\n",
    "#      for GRMHD stress-energy tensor T4UU and T4UD:\n",
    "GRHD.compute_sqrtgammaDET(ADMgammaDD)\n",
    "B_notildeU = ixp.zerorank1()\n",
    "for i in range(3):\n",
    "    B_notildeU[i] = sp.symbols(\"PRIMS[B\"+chr(ord('X')+i)+\"_CENTER]\",real=True)\n",
    "\n",
    "sqrt4pi = sp.symbols('sqrt4pi', real=True)\n",
    "GRFFE.compute_smallb4U(     ADMgammaDD,ADMbetaU,ADMalpha, u4U,B_notildeU, sqrt4pi)\n",
    "GRFFE.compute_smallbsquared(ADMgammaDD,ADMbetaU,ADMalpha, GRFFE.smallb4U)\n",
    "\n",
    "rho_b,P,epsilon = sp.symbols(\"PRIMS[RHOB] PRIMS[PRESSURE] eps\", real=True)\n",
    "\n",
    "GRMHD.compute_GRMHD_T4UU(ADMgammaDD, ADMbetaU, ADMalpha, rho_b, P, epsilon, u4U, \n",
    "                         GRFFE.smallb4U, GRFFE.smallbsquared)\n",
    "\n",
    "GRMHD.compute_GRMHD_T4UD(ADMgammaDD, ADMbetaU, ADMalpha, GRMHD.GRHDT4UU,GRMHD.GRFFET4UU)\n",
    "# Compute g_{\\mu\\nu}\n",
    "AB4m.g4DD_ito_BSSN_or_ADM(\"ADM\",gammaDD=ADMgammaDD,betaU=ADMbetaU,alpha=ADMalpha)\n",
    "ADMgammaUU,dummy = ixp.symm_matrix_inverter3x3(ADMgammaDD)\n",
    "AB4m.g4UU_ito_BSSN_or_ADM(\"ADM\",betaU=ADMbetaU,alpha=ADMalpha,gammaUU=ADMgammaUU)\n",
    "\n",
    "# Set up g4DD and T4UU in a way that uses the already computed\n",
    "# gridfunctions instead of the complicated SymPy expressions\n",
    "g4DD = ixp.zerorank2(DIM=4)\n",
    "T4UU = ixp.zerorank2(DIM=4)\n",
    "count = 0\n",
    "for mu in range(4):\n",
    "    for nu in range(mu,4):\n",
    "        g4DD[mu][nu] = g4DD[nu][mu] = sp.Symbol(\"g4dn[\"+str(mu)+\"][\"+str(nu)+\"]\",real=True)\n",
    "        T4UU[mu][nu] = T4UU[nu][mu] = sp.Symbol(\"TUPMUNU[\"+str(count)+\"]\",real=True)\n",
    "        count += 1\n",
    "        \n",
    "# Compute T4DD using the simplified expressions\n",
    "T4DD = ixp.zerorank2(DIM=4)\n",
    "for mu in range(4):\n",
    "    for nu in range(4):\n",
    "        for rho in range(4):\n",
    "            for sigma in range(4):\n",
    "                T4DD[mu][nu] += g4DD[mu][rho] * g4DD[nu][sigma] * T4UU[rho][sigma]\n",
    "\n",
    "# Compute conservative variables in terms of primitive variables\n",
    "GRHD.compute_rho_star( ADMalpha, GRHD.sqrtgammaDET, rho_b,u4U)\n",
    "GRHD.compute_tau_tilde(ADMalpha, GRHD.sqrtgammaDET, GRMHD.T4UU,GRHD.rho_star)\n",
    "GRHD.compute_S_tildeD( ADMalpha, GRHD.sqrtgammaDET, GRMHD.T4UD)\n",
    "\n",
    "varlist = []\n",
    "exprlist = []\n",
    "\n",
    "for mu in range(4):\n",
    "    for nu in range(4):\n",
    "        varlist.append(\"g4dn[\"+str(mu)+\"][\"+str(nu)+\"]\")\n",
    "        exprlist.append(AB4m.g4DD[mu][nu])\n",
    "\n",
    "for mu in range(4):\n",
    "    for nu in range(4):\n",
    "        varlist.append(\"g4up[\"+str(mu)+\"][\"+str(nu)+\"]\")\n",
    "        exprlist.append(AB4m.g4UU[mu][nu])\n",
    "\n",
    "count = 0\n",
    "for mu in range(4):\n",
    "    for nu in range(mu,4):\n",
    "        varlist.append(\"TUPMUNU[\"+str(count)+\"]\")\n",
    "        exprlist.append(GRMHD.T4UU[mu][nu])\n",
    "        count += 1\n",
    "        \n",
    "import time\n",
    "start = time.time()\n",
    "outputC(exprlist,varlist,filename=os.path.join(NRPy_headers_dir_path,\"compute_g4dn_g4up_T4UU.h\"),\n",
    "        params=\"outCverbose=False\")\n",
    "print(\"Time elapsed: %4.2lf seconds\"%(time.time()-start))\n",
    "        \n",
    "varlist = []\n",
    "exprlist = []\n",
    "\n",
    "count = 0\n",
    "for mu in range(4):\n",
    "    for nu in range(mu,4):\n",
    "        varlist.append(\"TDNMUNU[\"+str(count)+\"]\")\n",
    "        exprlist.append(T4DD[mu][nu])\n",
    "        count += 1\n",
    "\n",
    "varlist.append(\"CONSERVS[RHOSTAR]\")\n",
    "exprlist.append(GRHD.rho_star)\n",
    "for i in range(3):\n",
    "    varlist.append(\"CONSERVS[STILDE\"+chr(ord('X')+i)+\"]\")\n",
    "    exprlist.append(GRHD.S_tildeD[i])\n",
    "varlist.append(\"CONSERVS[TAUENERGY]\")\n",
    "exprlist.append(GRHD.tau_tilde)\n",
    "\n",
    "# for mu in range(4):\n",
    "#     varlist.append(\"smallb4U[\"+str(mu)+\"]\")\n",
    "#     exprlist.append(GRFFE.smallb4U[mu])\n",
    "\n",
    "# varlist.append(\"smallbsquared\")\n",
    "# exprlist.append(GRFFE.smallbsquared)\n",
    "\n",
    "start = time.time()\n",
    "outputC(exprlist,varlist,filename=os.path.join(NRPy_headers_dir_path,\"compute_T4DD_CONSERVS.h\"),\n",
    "        params=\"outCverbose=False\")\n",
    "print(\"Time elapsed: %4.2lf seconds\"%(time.time()-start))"
   ]
  },
  {
   "cell_type": "code",
   "execution_count": 15,
   "metadata": {},
   "outputs": [
    {
     "name": "stdout",
     "output_type": "stream",
     "text": [
      "Appending to ../src/apply_tau_floor__enforce_limits_on_primitives_and_recompute_conservs.C\n"
     ]
    }
   ],
   "source": [
    "%%writefile -a $outdir/apply_tau_floor__enforce_limits_on_primitives_and_recompute_conservs.C\n",
    "\n",
    "void IllinoisGRMHD_enforce_limits_on_primitives_and_recompute_conservs(const int already_computed_physical_metric_and_inverse,CCTK_REAL *PRIMS,\n",
    "                                                                       struct output_stats &stats,eos_struct &eos,\n",
    "                                                                       CCTK_REAL *ADM_3METRIC,CCTK_REAL g4dn[4][4],CCTK_REAL g4up[4][4],\n",
    "                                                                       CCTK_REAL *TUPMUNU,CCTK_REAL *TDNMUNU,CCTK_REAL *CONSERVS) {\n",
    "#ifndef ENABLE_STANDALONE_IGM_C2P_SOLVER\n",
    "  DECLARE_CCTK_PARAMETERS;\n",
    "#endif\n",
    "  \n",
    "  // Useful debugging tool, can be used to track fixes:\n",
    "  //CCTK_REAL rho_b_orig=PRIMS[RHOB],P_orig=PRIMS[PRESSURE],vx_orig=PRIMS[VX],vy_orig=PRIMS[VY],vz_orig=PRIMS[VZ];\n",
    "\n",
    "  /***********************************************************/\n",
    "  // Enforce limits on pressure, density, and v^i\n",
    "  /***********************************************************/\n",
    "  // Density floor:\n",
    "  //  printf(\"HEY222a %e %e %e\\n\",PRIMS[RHOB],rho_b_atm,PRIMS[PRESSURE]);\n",
    "  PRIMS[RHOB] = MAX(PRIMS[RHOB],rho_b_atm);\n",
    "  // Density ceiling:\n",
    "  PRIMS[RHOB] = MIN(PRIMS[RHOB],rho_b_max);\n",
    "  //   Next set h, the enthalpy:\n",
    "  CCTK_REAL h_enthalpy,  P_cold,eps_cold,dPcold_drho,eps_th,Gamma_cold; /* <- Note that in setting h, we need to define several \n",
    "                                                                         *    other variables. Though some will be unused later\n",
    "                                                                         *    in this function, they may be useful in other\n",
    "                                                                         *    functions */\n",
    "  compute_P_cold__eps_cold__dPcold_drho__eps_th__h__Gamma_cold(PRIMS,eos,Gamma_th,P_cold,eps_cold,dPcold_drho,eps_th,h_enthalpy,Gamma_cold);\n",
    "\n",
    "  // Pressure floor & ceiling:\n",
    "  int polytropic_index = find_polytropic_K_and_Gamma_index(eos,PRIMS[RHOB]);\n",
    "  enforce_pressure_floor_ceiling(stats,eos.K_ppoly_tab[polytropic_index],P_cold,ADM_3METRIC[SQRTGAMMA],Psi6threshold,PRIMS[RHOB],rho_b_atm,  PRIMS[PRESSURE]);\n",
    "  //  printf(\"HEY222b %e %e %e\\n\",PRIMS[RHOB],rho_b_atm,PRIMS[PRESSURE]);\n",
    "\n",
    "  // Possibly adjusted pressure, so recompute eps & h:\n",
    "  CCTK_REAL eps = eps_cold + (PRIMS[PRESSURE]-P_cold)/(Gamma_th-1.0)/PRIMS[RHOB];\n",
    "  const CCTK_REAL sqrt4pi = 1.0 * sqrt(4.0*M_PI);\n",
    "  CCTK_REAL smallb4U[4];\n",
    "  CCTK_REAL smallbsquared;\n",
    "  //FIXME: Use already_computed_physical_metric_and_inverse to determine whether g4dn & g4up really need to be calculated.\n",
    "#include \"NRPy_generated_headers/compute_g4dn_g4up_T4UU.h\"\n",
    "#include \"NRPy_generated_headers/compute_T4DD_CONSERVS.h\"\n",
    "\n",
    "  //printf(\"HEY?? %e %e %e %e %e\\n\",smallb4U[0],smallb4U[1],smallb4U[2],smallb4U[3],smallbsquared);\n",
    "}\n"
   ]
  },
  {
   "cell_type": "markdown",
   "metadata": {},
   "source": [
    "<a id='code_validation'></a>\n",
    "\n",
    "# Step 5: Code validation \\[Back to [top](#toc)\\]\n",
    "$$\\label{code_validation}$$\n",
    "\n",
    "First we download the original `IllinoisGRMHD` source code and then compare it to the source code generated by this tutorial notebook."
   ]
  },
  {
   "cell_type": "code",
   "execution_count": 16,
   "metadata": {},
   "outputs": [],
   "source": [
    "# # Verify if the code generated by this tutorial module\n",
    "# # matches the original IllinoisGRMHD source code\n",
    "\n",
    "# # First download the original IllinoisGRMHD source code\n",
    "# import urllib\n",
    "# from os import path\n",
    "\n",
    "# original_IGM_file_url  = \"https://bitbucket.org/zach_etienne/wvuthorns/raw/5611b2f0b17135538c9d9d17c7da062abe0401b6/IllinoisGRMHD/src/apply_tau_floor__enforce_limits_on_primitives_and_recompute_conservs.C\"\n",
    "# original_IGM_file_name = \"apply_tau_floor__enforce_limits_on_primitives_and_recompute_conservs-original.C\"\n",
    "# original_IGM_file_path = os.path.join(outdir,original_IGM_file_name)\n",
    "\n",
    "# # Then download the original IllinoisGRMHD source code\n",
    "# # We try it here in a couple of ways in an attempt to keep\n",
    "# # the code more portable\n",
    "# try:\n",
    "#     original_IGM_file_code = urllib.request.urlopen(original_IGM_file_url).read().decode(\"utf-8\")\n",
    "#     # Write down the file the original IllinoisGRMHD source code\n",
    "#     with open(original_IGM_file_path,\"w\") as file:\n",
    "#         file.write(original_IGM_file_code)\n",
    "# except:\n",
    "#     try:\n",
    "#         original_IGM_file_code = urllib.urlopen(original_IGM_file_url).read().decode(\"utf-8\")\n",
    "#         # Write down the file the original IllinoisGRMHD source code\n",
    "#         with open(original_IGM_file_path,\"w\") as file:\n",
    "#             file.write(original_IGM_file_code)\n",
    "#     except:\n",
    "#         # If all else fails, hope wget does the job\n",
    "#         !wget -O $original_IGM_file_path $original_IGM_file_url\n",
    "\n",
    "# # Perform validation\n",
    "# Validation__tau_and_prims_limits__C  = !diff $original_IGM_file_path $outdir/apply_tau_floor__enforce_limits_on_primitives_and_recompute_conservs.C\n",
    "\n",
    "# if Validation__tau_and_prims_limits__C == []:\n",
    "#     # If the validation passes, we do not need to store the original IGM source code file\n",
    "#     !rm $original_IGM_file_path\n",
    "#     print(\"Validation test for apply_tau_floor__enforce_limits_on_primitives_and_recompute_conservs.C: PASSED!\")\n",
    "# else:\n",
    "#     # If the validation fails, we keep the original IGM source code file\n",
    "#     print(\"Validation test for apply_tau_floor__enforce_limits_on_primitives_and_recompute_conservs.C: FAILED!\")\n",
    "#     # We also print out the difference between the code generated\n",
    "#     # in this tutorial module and the original IGM source code\n",
    "#     print(\"Diff:\")\n",
    "#     for diff_line in Validation__tau_and_prims_limits__C:\n",
    "#         print(diff_line)"
   ]
  },
  {
   "cell_type": "markdown",
   "metadata": {},
   "source": [
    "<a id='latex_pdf_output'></a>\n",
    "\n",
    "# Step 6: Output this notebook to $\\LaTeX$-formatted PDF file \\[Back to [top](#toc)\\]\n",
    "$$\\label{latex_pdf_output}$$\n",
    "\n",
    "The following code cell converts this Jupyter notebook into a proper, clickable $\\LaTeX$-formatted PDF file. After the cell is successfully run, the generated PDF may be found in the root NRPy+ tutorial directory, with filename\n",
    "[Tutorial-IllinoisGRMHD__apply_tau_floor__enforce_limits_on_primitives_and_recompute_conservs.pdf](Tutorial-IllinoisGRMHD__apply_tau_floor__enforce_limits_on_primitives_and_recompute_conservs.pdf) (Note that clicking on this link may not work; you may need to open the PDF file through another means)."
   ]
  },
  {
   "cell_type": "code",
   "execution_count": 17,
   "metadata": {},
   "outputs": [],
   "source": [
    "latex_nrpy_style_path = os.path.join(nrpy_dir_path,\"latex_nrpy_style.tplx\")\n",
    "#!jupyter nbconvert --to latex --template $latex_nrpy_style_path --log-level='WARN' Tutorial-IllinoisGRMHD__apply_tau_floor__enforce_limits_on_primitives_and_recompute_conservs.ipynb\n",
    "#!pdflatex -interaction=batchmode Tutorial-IllinoisGRMHD__apply_tau_floor__enforce_limits_on_primitives_and_recompute_conservs.tex\n",
    "#!pdflatex -interaction=batchmode Tutorial-IllinoisGRMHD__apply_tau_floor__enforce_limits_on_primitives_and_recompute_conservs.tex\n",
    "#!pdflatex -interaction=batchmode Tutorial-IllinoisGRMHD__apply_tau_floor__enforce_limits_on_primitives_and_recompute_conservs.tex\n",
    "!rm -f Tut*.out Tut*.aux Tut*.log"
   ]
  }
 ],
 "metadata": {
  "kernelspec": {
   "display_name": "Python 3",
   "language": "python",
   "name": "python3"
  },
  "language_info": {
   "codemirror_mode": {
    "name": "ipython",
    "version": 3
   },
   "file_extension": ".py",
   "mimetype": "text/x-python",
   "name": "python",
   "nbconvert_exporter": "python",
   "pygments_lexer": "ipython3",
   "version": "3.7.3"
  }
 },
 "nbformat": 4,
 "nbformat_minor": 2
}
