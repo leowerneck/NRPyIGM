{
 "cells": [
  {
   "cell_type": "markdown",
   "metadata": {},
   "source": [
    "<script async src=\"https://www.googletagmanager.com/gtag/js?id=UA-59152712-8\"></script>\n",
    "<script>\n",
    "  window.dataLayer = window.dataLayer || [];\n",
    "  function gtag(){dataLayer.push(arguments);}\n",
    "  gtag('js', new Date());\n",
    "\n",
    "  gtag('config', 'UA-59152712-8');\n",
    "</script>\n",
    "\n",
    "# Tutorial-IllinoisGRMHD: IllinoisGRMHD_headers.h\n",
    "\n",
    "## Authors: Leo Werneck & Zach Etienne\n",
    "\n",
    "<font color='red'>**This module is currently under development**</font>\n",
    "\n",
    "## In this tutorial module we explain the main `IllinoisGRMHD` header file. This module will likely be absorbed by another one by the time we finish documenting the code\n",
    "\n",
    "### Required and recommended citations:\n",
    "\n",
    "* **(Required)** Etienne, Z. B., Paschalidis, V., Haas R., Mösta P., and Shapiro, S. L. IllinoisGRMHD: an open-source, user-friendly GRMHD code for dynamical spacetimes. Class. Quantum Grav. 32 (2015) 175009. ([arxiv:1501.07276](http://arxiv.org/abs/1501.07276)).\n",
    "* **(Required)** Noble, S. C., Gammie, C. F., McKinney, J. C., Del Zanna, L. Primitive Variable Solvers for Conservative General Relativistic Magnetohydrodynamics. Astrophysical Journal, 641, 626 (2006) ([astro-ph/0512420](https://arxiv.org/abs/astro-ph/0512420)).\n",
    "* **(Recommended)** Del Zanna, L., Bucciantini N., Londrillo, P. An efficient shock-capturing central-type scheme for multidimensional relativistic flows - II. Magnetohydrodynamics. A&A 400 (2) 397-413 (2003). DOI: 10.1051/0004-6361:20021641 ([astro-ph/0210618](https://arxiv.org/abs/astro-ph/0210618)).\n",
    "\n",
    "If using the version of `IllinoisGRMHD` with piecewise polytropic *or* tabulated (coming soon!) EOS support, then the following citation is also required:\n",
    "\n",
    "* **(Required)** Etienne, Z. B., Werneck, L., Paschalidis, V., Haas R., Mösta P., and Shapiro, S. L., *IllinoisGRMHD github repository* (2019). Source Code URL: https://github.com/zachetienne/nrpytutorial/tree/master/IllinoisGRMHD/."
   ]
  },
  {
   "cell_type": "markdown",
   "metadata": {},
   "source": [
    "### Dependencies\n",
    "\n",
    "The files generated in this tutorial notebook depend on the following files:\n",
    "\n",
    "* `apply_tau_floor__enforce_limits_on_primitives_and_recompute_conservs.C` \\[[**tutorial**](Tutorial-IllinoisGRMHD__apply_tau_floor__enforce_limits_on_primitives_and_recompute_conservs.ipynb)\\]\n",
    "* `IllinoisGRMHD_convert_ADM_to_BSSN__enforce_detgtij_eq_1__and_compute_gtupij.C` \\[[**tutorial**](Tutorial-IllinoisGRMHD__convert_ADM_to_BSSN__enforce_detgtij_eq_1__and_compute_gtupij.ipynb)\\]\n",
    "* `symmetry__set_gzs_staggered_gfs.C` \\[[**tutorial**](Tutorial-IllinoisGRMHD__symmetry__set_gzs_staggered_gfs.ipynb)\\]\n",
    "* `IllinoisGRMHD_EoS_lowlevel_functs.C` \\[[**tutorial**](Tutorial-IllinoisGRMHD__EoS_lowlevel_functs.ipynb)\\]"
   ]
  },
  {
   "cell_type": "markdown",
   "metadata": {},
   "source": [
    "<a id='toc'></a>\n",
    "\n",
    "# Table of Contents\n",
    "$$\\label{toc}$$\n",
    "\n",
    "This module is organized as follows\n",
    "\n",
    "0. [Step 0](#src_dir): **Source directory creation**\n",
    "1. [Step 1](#vars_headers): **Generating `VARS` headers with NRPy+**\n",
    "    1. [Step 1.a](#load_python_nrpy_modules): *Load necessary Python/NRPy+ modules*\n",
    "    1. [Step 1.b](#adm_3metric_vars): *The `ADM_3METRIC_VARS.h` file*\n",
    "    1. [Step 1.c](#conf_metric_facevals_vars): *The `CONF_METRIC_FACEVALS_VARS.h` file*\n",
    "    1. [Step 1.d](#grmhd_vars): *The `GRMHD_VARS.h` file*\n",
    "    1. [Step 1.e](#interp_vars): *The `INTERP_VARS.h` file*\n",
    "    1. [Step 1.f](#smallb_and_conservs_vars): *The `SMALLB_VARS.h` and  `CONSERV_VARS.h` files*\n",
    "    1. [Step 1.g](#tmunu_vars): *The `TMUNU_VARS.h` files*\n",
    "1. [Step 2](#igm_headers__h): **`IllinoisGRMHD_headers.h`**\n",
    "1. [Step 3](#code_validation): **Code validation**\n",
    "1. [Step 4](#latex_pdf_output): **Output this notebook to $\\LaTeX$-formatted PDF file**"
   ]
  },
  {
   "cell_type": "markdown",
   "metadata": {},
   "source": [
    "<a id='src_dir'></a>\n",
    "\n",
    "# Step 0: Source directory creation \\[Back to [top](#toc)\\]\n",
    "$$\\label{src_dir}$$\n",
    "\n",
    "We will now use the [cmdline_helper.py NRPy+ module](Tutorial-Tutorial-cmdline_helper.ipynb) to create the source directory within the `IllinoisGRMHD` NRPy+ directory, if it does not exist yet."
   ]
  },
  {
   "cell_type": "code",
   "execution_count": 1,
   "metadata": {},
   "outputs": [],
   "source": [
    "# Step 0: Creation of the IllinoisGRMHD source directory\n",
    "# Step 0a: Add NRPy's directory to the path\n",
    "# https://stackoverflow.com/questions/16780014/import-file-from-parent-directory\n",
    "import os,sys\n",
    "nrpy_dir_path = os.path.join(\"..\",\"..\")\n",
    "if nrpy_dir_path not in sys.path:\n",
    "    sys.path.append(nrpy_dir_path)\n",
    "\n",
    "# Step 0b: Load up cmdline_helper and create the directory\n",
    "import cmdline_helper as cmd\n",
    "outdir = os.path.join(\"..\",\"src\")\n",
    "cmd.mkdir(outdir)\n",
    "\n",
    "# Step 0c: Set up header file output path\n",
    "NRPy_headers_dir_path = os.path.join(outdir,\"NRPy_generated_headers\")\n",
    "cmd.mkdir(NRPy_headers_dir_path)"
   ]
  },
  {
   "cell_type": "markdown",
   "metadata": {},
   "source": [
    "<a id='vars_headers'></a>\n",
    "\n",
    "# Step 1: Generating `VARS` headers with NRPy+ \\[Back to [top](#toc)\\]\n",
    "$$\\label{vars_headers}$$\n",
    "\n",
    "We will now use NRPy+ to generate all the `VARS` header files we need in the `IllinoisGRMHD_headers.h` file."
   ]
  },
  {
   "cell_type": "markdown",
   "metadata": {},
   "source": [
    "<a id='load_python_nrpy_modules'></a>\n",
    "\n",
    "## Step 1.a: Load necessary Python/NRPy+ modules \\[Back to [top](#toc)\\]\n",
    "$$\\label{load_python_nrpy_modules}$$\n",
    "\n",
    "We now load all necessary Python/NRPy+ modules needed to generate the `VARS` header files."
   ]
  },
  {
   "cell_type": "code",
   "execution_count": 2,
   "metadata": {},
   "outputs": [],
   "source": [
    "# Imported needed Python modules\n",
    "import sympy as sp # Python module: symbolic expressions capabilities\n",
    "\n",
    "# Imported needed NRPy+ modules\n",
    "import IllinoisGRMHD_output_functions as IGMout # NRPy+ module: IllinoisGRMHD output file functions"
   ]
  },
  {
   "cell_type": "markdown",
   "metadata": {},
   "source": [
    "<a id='adm_3metric_vars'></a>\n",
    "\n",
    "## Step 1.b: The `ADM_3METRIC_VARS.h` file \\[Back to [top](#toc)\\]\n",
    "$$\\label{adm_3metric_vars}$$\n",
    "\n",
    "We will now generate the `ADM_3METRIC_VARS.h` file, which sets integers so that we can locate specific variables inside the `ADM_3METRIC` array. For example, the lapse variable $\\alpha$ is contained in the array element `ADM_3METRIC[0]`, so we define a variable \n",
    "```c\n",
    "const static int ALPHA = 0;\n",
    "```\n",
    "which allow us to access the same array element via `ADM_3METRIC[ALPHA]`. We remind the reader that the `ADM_3METRIC` array contains the following quantities (in order):\n",
    "\n",
    "$$\n",
    "\\left(\n",
    "\\alpha,\n",
    "\\beta^{x},\\beta^{y},\\beta^{z},\n",
    "\\gamma_{xx},\\gamma_{xy},\\gamma_{xz},\\gamma_{yy},\\gamma_{yz},\\gamma_{zz},\n",
    "\\gamma^{xx},\\gamma^{xy},\\gamma^{xz},\\gamma^{yy},\\gamma^{yz},\\gamma^{zz},\n",
    "\\sqrt{\\gamma}\n",
    "\\right)\\ .\n",
    "$$"
   ]
  },
  {
   "cell_type": "code",
   "execution_count": 3,
   "metadata": {},
   "outputs": [
    {
     "name": "stdout",
     "output_type": "stream",
     "text": [
      "Just generated the file: ../src/NRPy_generated_headers/ADM_3METRIC_VARS.h\n"
     ]
    }
   ],
   "source": [
    "# Step 1.b: Declare basic ADM variables to be used by IllinoisGRMHD\n",
    "# Step 1.b.i: Set spatial dimension to 3\n",
    "DIM = 3\n",
    "\n",
    "# Step 1.b.ii: Set up alpha\n",
    "gfslist = [[\"ALPHA\"]]\n",
    "# Step 1.b.iii: Set up beta^{i}\n",
    "for i in range(DIM):\n",
    "    gfslist.append([\"BETA\"+chr(ord('X')+i)])\n",
    "\n",
    "# Step 1.b.iv: Set up gamma_{ij}\n",
    "for i in range(DIM):\n",
    "    for j in range(i,DIM):\n",
    "        gfslist.append([\"GAMMA\"+chr(ord('X')+i)+chr(ord('X')+j)])\n",
    "\n",
    "# Step 1.b.v: Set up gamma^{ij}\n",
    "for i in range(3):\n",
    "    for j in range(i,3):\n",
    "        gfslist.append([\"GAMMAUP\"+chr(ord('X')+i)+chr(ord('X')+j)])\n",
    "\n",
    "# Step 1.b.vi: Set up \\sqrt{\\gamma}\n",
    "gfslist.append([\"SQRTGAMMA\"])\n",
    "\n",
    "# Step 1.b.vii: Set up NUMVARS_FOR_ADM_3METRIC, which is the\n",
    "#               number of variables in the gfslist array\n",
    "gfslist.append([\"NUMVARS_FOR_ADM_3METRIC\"])\n",
    "\n",
    "# Step 1.b.viii: Output to file\n",
    "comment = \"/* ADM_3METRIC variables */\\n\"\n",
    "filename = \"ADM_3METRIC_VARS.h\"\n",
    "IGMout.generate_variable_definition_file(gfslist,filename,comment=comment)"
   ]
  },
  {
   "cell_type": "markdown",
   "metadata": {},
   "source": [
    "<a id='conf_metric_facevals_vars'></a>\n",
    "\n",
    "## Step 1.c: The `CONF_METRIC_FACEVALS_VARS.h` file \\[Back to [top](#toc)\\]\n",
    "$$\\label{conf_metric_facevals_vars}$$\n",
    "\n",
    "We will now generate the `CONF_METRIC_FACEVALS_VARS.h` file, which sets integers so that we can locate specific variables inside the `CONF_METRIC` and `FACEVALS` arrays. This header file replaces the following piece of code\n",
    "\n",
    "```c\n",
    "// The order here MATTERS, as we assume that GAMMAUPXX+1=GAMMAUPYY, etc.\n",
    "static const int PHI=0,PSI=1,GAMMATILDEXX=2,GAMMATILDEXY=3,GAMMATILDEXZ=4,GAMMATILDEYY=5,GAMMATILDEYZ=6,GAMMATILDEZZ=7,\n",
    "  LAPM1=8,SHIFTX=9,SHIFTY=10,SHIFTZ=11,GAMMATILDEUPXX=12,GAMMATILDEUPYY=13,GAMMATILDEUPZZ=14,\n",
    "  NUMVARS_FOR_METRIC_FACEVALS=15; //<-- Be _sure_ to set this correctly, or you'll have memory access bugs!\n",
    "\n",
    "// These are not used for facevals in the reconstruction step, but boy are they useful anyway. \n",
    "static const int GAMMAUPXY=15,GAMMAUPXZ=16,GAMMAUPYZ=17,\n",
    "  NUMVARS_FOR_METRIC=18; //<-- Be _sure_ to set this correctly, or you'll have memory access bugs!\n",
    "```\n",
    "\n",
    "with a new addition: we rename *all* conformal metric array quantities by adding a `CM_` string before their names. "
   ]
  },
  {
   "cell_type": "code",
   "execution_count": 4,
   "metadata": {},
   "outputs": [
    {
     "name": "stdout",
     "output_type": "stream",
     "text": [
      "Just generated the file: ../src/NRPy_generated_headers/CONF_METRIC_FACEVALS_VARS.h\n"
     ]
    }
   ],
   "source": [
    "# Start setting up the gridfunction indices with phi and psi\n",
    "gfslist = [[\"CM_PHI\"],[\"CM_PSI\"]]\n",
    "\n",
    "# Add the indices for \\tilde{\\gamma}_{ij}\n",
    "for i in range(DIM):\n",
    "    for j in range(i,DIM):\n",
    "        gfslist.append([\"CM_GAMMATILDE\"+chr(ord('X')+i)+chr(ord('X')+j)])\n",
    "\n",
    "# Add alpha, \\beta^{i}, and \\tilde{\\gamma}^{ii}\n",
    "gfslist.append([\"CM_LAPM1\"])\n",
    "for i in range(DIM):\n",
    "    gfslist.append([\"CM_SHIFT\"+chr(ord('X')+i)])\n",
    "\n",
    "for i in range(DIM):\n",
    "    gfslist.append([\"CM_GAMMATILDEUP\"+chr(ord('X')+i)+chr(ord('X')+i)])\n",
    "\n",
    "gfslist.append([\"NUMVARS_FOR_CONF_METRIC_FACEVALS\"])\n",
    "othervars =     [[\"CM_GAMMATILDEUPXY\"]]\n",
    "othervars.append([\"CM_GAMMATILDEUPXZ\"])\n",
    "othervars.append([\"CM_GAMMATILDEUPYZ\"])\n",
    "\n",
    "# Set up extra code, not supported by the file generating function\n",
    "extra = \"/* Other useful variables */\\n\"\n",
    "for j in range(len(othervars)):\n",
    "    extra += \"static const int \"+othervars[j][0]\n",
    "    for k in range(len(\"NUMVARS_FOR_CONF_METRIC_FACEVALS\") - len(othervars[j][0])):\n",
    "        extra += \" \"\n",
    "    extra += \" = \"+str(j+len(gfslist)-1)+\";\\n\"\n",
    "extra += \"static const int NUMVARS_FOR_CONF_METRIC          = \"+str(len(gfslist)+len(othervars)-1)+\";\\n\\n\"\n",
    "\n",
    "# Set up comments\n",
    "comment = \"/* Variables used for face value reconstructions */\\n\"\n",
    "# Set up output file name\n",
    "filename = \"CONF_METRIC_FACEVALS_VARS.h\"\n",
    "# Generate variable definition file\n",
    "IGMout.generate_variable_definition_file(gfslist,filename,comment=comment,extra=extra)"
   ]
  },
  {
   "cell_type": "markdown",
   "metadata": {},
   "source": [
    "<a id='grmhd_vars'></a>\n",
    "\n",
    "## Step 1.d: The `GRMHD_VARS.h` file \\[Back to [top](#toc)\\]\n",
    "$$\\label{grmhd_vars}$$\n",
    "\n",
    "We will now generate the `GRMHD_VARS.h` file, which sets integers so that we can locate specific variables inside the many variations of the primitive arrays (e.g. `prims`, `PRIMS`, `IN_PRIMS`, `OUT_PRIMS_R`, etc). This header file replaces the following piece of code\n",
    "\n",
    "```c\n",
    "// The order here MATTERS, and must be consistent with the order in the IN_PRIMS[] array in driver_evaluate_MHD_rhs.C.\n",
    "static const int RHOB=0,PRESSURE=1,VX=2,VY=3,VZ=4,\n",
    "  BX_CENTER=5,BY_CENTER=6,BZ_CENTER=7,BX_STAGGER=8,BY_STAGGER=9,BZ_STAGGER=10,\n",
    "  VXR=11,VYR=12,VZR=13,VXL=14,VYL=15,VZL=16,MAXNUMVARS=17;  //<-- Be _sure_ to define MAXNUMVARS appropriately!\n",
    "static const int UT=0,UX=1,UY=2,UZ=3;\n",
    "```"
   ]
  },
  {
   "cell_type": "code",
   "execution_count": 5,
   "metadata": {},
   "outputs": [
    {
     "name": "stdout",
     "output_type": "stream",
     "text": [
      "Just generated the file: ../src/NRPy_generated_headers/GRMHD_VARS.h\n"
     ]
    }
   ],
   "source": [
    "# Add primitives\n",
    "gfslist =  [[\"RHOB\"],[\"PRESSURE\"],\n",
    "            [\"VX\"],[\"VY\"],[\"VZ\"],\n",
    "            [\"BX_CENTER\"],[\"BY_CENTER\"],[\"BZ_CENTER\"],\n",
    "            [\"BX_STAGGER\"],[\"BY_STAGGER\"],[\"BZ_STAGGER\"],\n",
    "            [\"VXR\"],[\"VYR\"],[\"VZR\"],\n",
    "            [\"VXL\"],[\"VYL\"],[\"VZL\"],\n",
    "            [\"MAXNUMVARS\"]]\n",
    "\n",
    "# Finally, the 4-velocity\n",
    "u4list = [\"UT\",\"UX\",\"UY\",\"UZ\"]\n",
    "\n",
    "extra = \"/* 4-velocity */\\n\"\n",
    "for mu in range(4):\n",
    "    extra += \"static const int \"+u4list[mu]\n",
    "    for k in range(len(\"MAXNUMVARS\")-len(u4list[mu])):\n",
    "        extra += \" \"\n",
    "    extra += \" = \"+str(mu)+\";\\n\"\n",
    "\n",
    "# Set up comments\n",
    "comment = \"/* GRMHD variables */\\n\"\n",
    "# Set up output file name\n",
    "filename = \"GRMHD_VARS.h\"\n",
    "# Generate variable definition file\n",
    "IGMout.generate_variable_definition_file(gfslist,filename,comment=comment,extra=extra)"
   ]
  },
  {
   "cell_type": "markdown",
   "metadata": {},
   "source": [
    "<a id='interp_vars'></a>\n",
    "\n",
    "## Step 1.e: The `INTERP_VARS.h` file \\[Back to [top](#toc)\\]\n",
    "$$\\label{interp_vars}$$\n",
    "\n",
    "We will now generate the `GRMHD_VARS.h` file, which sets integers so that we can locate specific variables inside the many variations of the interpolation array `INTERP_VARS`. This header file replaces the following piece of code\n",
    "\n",
    "```c\n",
    "// The \"I\" suffix denotes interpolation. In other words, these\n",
    "//    definitions are used for interpolation ONLY. The order here\n",
    "//    matters as well!\n",
    "static const int SHIFTXI=0,SHIFTYI=1,SHIFTZI=2,GAMMAUPXXI=3,GAMMAUPXYI=4,GAMMAUPXZI=5,GAMMAUPYYI=6,GAMMAUPYZI=7,GAMMAUPZZI=8,\n",
    "  PSII=9,LAPM1I=10,A_XI=11,A_YI=12,A_ZI=13,LAPSE_PSI2I=14,LAPSE_OVER_PSI6I=15,MAXNUMINTERP=16;\n",
    "```"
   ]
  },
  {
   "cell_type": "code",
   "execution_count": 6,
   "metadata": {},
   "outputs": [
    {
     "name": "stdout",
     "output_type": "stream",
     "text": [
      "Just generated the file: ../src/NRPy_generated_headers/INTERP_VARS.h\n"
     ]
    }
   ],
   "source": [
    "# Set interpolation variables names\n",
    "gfslist = [[\"INTERP_SHIFTX\"],[\"INTERP_SHIFTY\"],[\"INTERP_SHIFTZ\"],\n",
    "           [\"INTERP_GAMMATILDEUPXX\"],[\"INTERP_GAMMATILDEUPXY\"],[\"INTERP_GAMMATILDEUPXZ\"],\n",
    "           [\"INTERP_GAMMATILDEUPYY\"],[\"INTERP_GAMMATILDEUPYZ\"],[\"INTERP_GAMMATILDEUPZZ\"],\n",
    "           [\"INTERP_PSI\"],[\"INTERP_LAPM1\"],\n",
    "           [\"INTERP_AX\"],[\"INTERP_AY\"],[\"INTERP_AZ\"],\n",
    "           [\"INTERP_LAPSE_PSI2\"],[\"INTERP_LAPSE_OVER_PSI6\"],\n",
    "           [\"MAXNUMINTERP\"]]\n",
    "\n",
    "# Define the indices in the GRMHD_VARS.h header file\n",
    "# Start with the variables used in the face value reconstructions\n",
    "comment = \"/* Interpolation variables */\\n\"\n",
    "filename = \"INTERP_VARS.h\"\n",
    "IGMout.generate_variable_definition_file(gfslist,filename,comment=comment)"
   ]
  },
  {
   "cell_type": "markdown",
   "metadata": {},
   "source": [
    "<a id='smallb_and_conservs_vars'></a>\n",
    "\n",
    "## Step 1.f: The `SMALLB_VARS.h` and  `CONSERV_VARS.h` files \\[Back to [top](#toc)\\]\n",
    "$$\\label{smallb_and_conservs_vars}$$\n",
    "\n",
    "We now set up the `SMALLB_VARS.h` and `CONSERV_VARS.h` files to substitute the following lines in the old version of the `IllinoisGRMHD_headers.h` file:\n",
    "\n",
    "```c\n",
    "// Again, the order here MATTERS, since we assume in the code that, e.g., smallb[0]=b^t, smallb[3]=b^z, etc.\n",
    "static const int SMALLBT=0,SMALLBX=1,SMALLBY=2,SMALLBZ=3,SMALLB2=4,NUMVARS_SMALLB=5;\n",
    "\n",
    "// Again, the order here MATTERS, since we assume in the code that, CONSERV[STILDEX+1] = \\tilde{S}_y\n",
    "static const int RHOSTAR=0,STILDEX=1,STILDEY=2,STILDEZ=3,TAUENERGY=4,NUM_CONSERVS=5;\n",
    "```"
   ]
  },
  {
   "cell_type": "code",
   "execution_count": 7,
   "metadata": {},
   "outputs": [
    {
     "name": "stdout",
     "output_type": "stream",
     "text": [
      "Just generated the file: ../src/NRPy_generated_headers/SMALLB_VARS.h\n",
      "Just generated the file: ../src/NRPy_generated_headers/CONSERV_VARS.h\n"
     ]
    }
   ],
   "source": [
    "# b^{\\mu} quantities\n",
    "gfslist = [[\"SMALLBT\"],[\"SMALLBX\"],[\"SMALLBY\"],[\"SMALLBZ\"],[\"SMALLB2\"],[\"NUMVARS_SMALLB\"]]\n",
    "\n",
    "# Set up the b^{\\mu} string\n",
    "comment = \"/* smallb (b^{\\mu}) variables */\\n\"\n",
    "filename = \"SMALLB_VARS.h\"\n",
    "IGMout.generate_variable_definition_file(gfslist,filename,comment=comment)\n",
    "\n",
    "# Conservative quantities\n",
    "gfslist = [[\"RHOSTAR\"],[\"STILDEX\"],[\"STILDEY\"],[\"STILDEZ\"],[\"TAUENERGY\"],[\"NUM_CONSERVS\"]]\n",
    "\n",
    "# Set up the b^{\\mu} string\n",
    "comment = \"/* Interpolation variables */\\n\"\n",
    "filename = \"CONSERV_VARS.h\"\n",
    "IGMout.generate_variable_definition_file(gfslist,filename,comment=comment)"
   ]
  },
  {
   "cell_type": "markdown",
   "metadata": {},
   "source": [
    "<a id='tmunu_vars'></a>\n",
    "\n",
    "## Step 1.g: The `TMUNU_VARS.h` files \\[Back to [top](#toc)\\]\n",
    "$$\\label{tmunu_vars}$$\n",
    "\n",
    "The `TMUNU_VARS.h` files sets the position of $T^{\\mu\\nu}$ components to be access within all $T^{\\mu\\nu}$ arrays, regardless if it is contravariant, covariant, or \"mixed\" (i.e. $T^{\\mu}_{\\ \\ \\nu}$)"
   ]
  },
  {
   "cell_type": "code",
   "execution_count": 8,
   "metadata": {},
   "outputs": [
    {
     "name": "stdout",
     "output_type": "stream",
     "text": [
      "Just generated the file: ../src/NRPy_generated_headers/TMUNU_VARS.h\n"
     ]
    }
   ],
   "source": [
    "# Then, the right/left values of the 3-velocity\n",
    "gfslist = [[\"TMUNU_TT\"]]\n",
    "for i in range(DIM):\n",
    "    gfslist.append([\"TMUNU_T\"+chr(ord('X')+i)])\n",
    "\n",
    "for i in range(DIM):\n",
    "    for j in range(i,DIM):\n",
    "        gfslist.append([\"TMUNU_\"+chr(ord('X')+i)+chr(ord('X')+j)])\n",
    "\n",
    "# Set up comments\n",
    "comment = \"/* Define TMUNU variables (valid for all variants) */\\n\"\n",
    "# Set up output file name\n",
    "filename = \"TMUNU_VARS.h\"\n",
    "# Generate variable definition file\n",
    "IGMout.generate_variable_definition_file(gfslist,filename,comment=comment)"
   ]
  },
  {
   "cell_type": "markdown",
   "metadata": {},
   "source": [
    "<a id='igm_headers__h'></a>\n",
    "\n",
    "# Step 2: The `IllinoisGRMHD_headers.h` file \\[Back to [top](#toc)\\]\n",
    "$$\\label{igm_headers__h}$$\n",
    "\n",
    "We will now document the `IllinoisGRMHD_headers.h` file, even though this is probably one of the most straightforward files in `IllinoisGRMHD`. We start by going over the following three macros:\n",
    "\n",
    "```c\n",
    "#define MIN(a,b) ( ((a) < (b)) ? (a) : (b) )\n",
    "#define MAX(a,b) ( ((a) > (b)) ? (a) : (b) )\n",
    "#define SQR(x) ((x) * (x))\n",
    "```\n",
    "\n",
    "which are basically used for our convenience. Using `SQR(x)`, for example, is faster than using `pow(x,2)` and completely equivalent to doing `x*x`, but is very convenient when dealing with large expressions. The `MIN` and `MAX` return the minimum and maximum value of two input numbers, respectively.\n",
    "\n",
    "We have also a few more definitions\n",
    "\n",
    "```c\n",
    "#define ONE_OVER_SQRT_4PI 0.282094791773878143474039725780\n",
    "\n",
    "#define VERR_DEF_PARAMS __LINE__, __FILE__, CCTK_THORNSTRING\n",
    "\n",
    "#define TINYDOUBLE 1e-100\n",
    "```\n",
    "\n",
    "which are there for convenience. The `ONE_OVER_SQRT_4PI` macro precomputes $\\frac{1}{\\sqrt{4\\pi}}$ to many significant digits. The `TINYDOUBLE` macro is used to set a nonzero, yet extremely small value to avoid division by zero in a few computations.\n",
    "\n",
    "Next we include all files we have generated in [Step 1](#vars_headers).\n",
    "\n",
    "Then we set the ghostzones struct,\n",
    "\n",
    "```c\n",
    "struct gf_and_gz_struct {\n",
    "  CCTK_REAL *gf;\n",
    "  int gz_lo[4],gz_hi[4];\n",
    "};\n",
    "```\n",
    "\n",
    "which is extremely useful to set the ghostzones of each gridfunction and keep track of it in different functions. Note that so that we keep things consistent, we update the values of `gz_lo` and `gz_hi` appropriately within each function.\n",
    "\n",
    "Then comes the equation of state (EOS) struct,\n",
    "\n",
    "```c\n",
    "struct eos_struct {\n",
    "  int neos;\n",
    "  CCTK_REAL rho_ppoly_tab[MAX_EOS_PARAMS-1];\n",
    "  CCTK_REAL eps_integ_const[MAX_EOS_PARAMS],K_ppoly_tab[MAX_EOS_PARAMS],Gamma_ppoly_tab[MAX_EOS_PARAMS];\n",
    "};\n",
    "```\n",
    "\n",
    "which sets all EOS parameters. This struct is currently specialized to simple and piecewise polytropic EOSs.\n",
    "\n",
    "Next comes the stats struct,\n",
    "\n",
    "```c\n",
    "struct output_stats {\n",
    "  int font_fixed,vel_limited,failure_checker,rho_star_fix_applied;\n",
    "  long n_iter;\n",
    "};\n",
    "```\n",
    "\n",
    "which is used to identify when particularly fixes are applied in the conservative-to-primitive routine.\n",
    "\n",
    "Then we define the [Kronecker delta](https://en.wikipedia.org/wiki/Kronecker_delta)\n",
    "\n",
    "```c\n",
    "const int kronecker_delta[4][3] = { { 0,0,0 },\n",
    "                                    { 1,0,0 },\n",
    "                                    { 0,1,0 },\n",
    "                                    { 0,0,1 } };\n",
    "```\n",
    "\n",
    "Finally we set the prototypes of the `IllinoisGRMHD_enforce_limits_on_primitives_and_recompute_conservs()` ([**tutorial**](Tutorial-IllinoisGRMHD__apply_tau_floor__enforce_limits_on_primitives_and_recompute_conservs.ipynb)), `IllinoisGRMHD_convert_ADM_to_BSSN__enforce_detgtij_eq_1__and_compute_gtupij()` ([**tutorial**](Tutorial-IllinoisGRMHD__convert_ADM_to_BSSN__enforce_detgtij_eq_1__and_compute_gtupij.ipynb)), and `IllinoisGRMHD_set_symmetry_gzs_staggered()` ([**tutorial**](Tutorial-IllinoisGRMHD__symmetry__set_gzs_staggered_gfs.ipynb)) functions."
   ]
  },
  {
   "cell_type": "code",
   "execution_count": 9,
   "metadata": {},
   "outputs": [
    {
     "name": "stdout",
     "output_type": "stream",
     "text": [
      "Overwriting ../src/IllinoisGRMHD_headers.h\n"
     ]
    }
   ],
   "source": [
    "%%writefile $outdir/IllinoisGRMHD_headers.h\n",
    "// To safeguard against double-including this header file:\n",
    "#ifndef ILLINOISGRMHD_HEADERS_H_\n",
    "#define ILLINOISGRMHD_HEADERS_H_\n",
    "\n",
    "#define MIN(a,b) ( ((a) < (b)) ? (a) : (b) )\n",
    "#define MAX(a,b) ( ((a) > (b)) ? (a) : (b) )\n",
    "#define SQR(x) ((x) * (x))\n",
    "#define ONE_OVER_SQRT_4PI 0.282094791773878143474039725780\n",
    "\n",
    "#define VERR_DEF_PARAMS __LINE__, __FILE__, CCTK_THORNSTRING\n",
    "\n",
    "#define TINYDOUBLE 1e-100\n",
    "\n",
    "#include \"NRPy_generated_headers/ADM_3METRIC_VARS.h\"\n",
    "\n",
    "#include \"NRPy_generated_headers/CONF_METRIC_FACEVALS_VARS.h\"\n",
    "\n",
    "#include \"NRPy_generated_headers/GRMHD_VARS.h\"\n",
    "\n",
    "#include \"NRPy_generated_headers/INTERP_VARS.h\"\n",
    "\n",
    "#include \"NRPy_generated_headers/SMALLB_VARS.h\"\n",
    "\n",
    "#include \"NRPy_generated_headers/CONSERV_VARS.h\"\n",
    "\n",
    "#include \"NRPy_generated_headers/TMUNU_VARS.h\"\n",
    "\n",
    "// Keeping track of ghostzones between routines is a nightmare, so\n",
    "//   we instead attach ghostzone info to each gridfunction and set\n",
    "//   the ghostzone information correctly within each routine.\n",
    "struct gf_and_gz_struct {\n",
    "  CCTK_REAL *gf;\n",
    "  int gz_lo[4],gz_hi[4];\n",
    "};\n",
    "\n",
    "#define MAX_EOS_PARAMS 10\n",
    "struct eos_struct {\n",
    "  int neos;\n",
    "  CCTK_REAL rho_ppoly_tab[MAX_EOS_PARAMS-1];\n",
    "  CCTK_REAL eps_integ_const[MAX_EOS_PARAMS],K_ppoly_tab[MAX_EOS_PARAMS],Gamma_ppoly_tab[MAX_EOS_PARAMS];\n",
    "};\n",
    "\n",
    "struct output_stats {\n",
    "  int font_fixed,vel_limited,failure_checker,rho_star_fix_applied;\n",
    "  long n_iter;\n",
    "};\n",
    "\n",
    "\n",
    "// FIXME: For cosmetic purposes, we might want to make everything either zero-offset or one-offset, instead of a mixture.\n",
    "const int kronecker_delta[4][3] = { { 0,0,0 },\n",
    "                                    { 1,0,0 },\n",
    "                                    { 0,1,0 },\n",
    "                                    { 0,0,1 } };\n",
    "\n",
    "/* PUBLIC FUNCTIONS, USED OUTSIDE IllinoisGRMHD AS WELL */\n",
    "void IllinoisGRMHD_enforce_limits_on_primitives_and_recompute_conservs(const int already_computed_physical_metric_and_inverse,CCTK_REAL *U,struct output_stats &stats,eos_struct &eos,\n",
    "                                                                       CCTK_REAL *METRIC,CCTK_REAL g4dn[4][4],CCTK_REAL g4up[4][4], CCTK_REAL *TUPMUNU,CCTK_REAL *TDNMUNU,CCTK_REAL *CONSERVS);\n",
    "\n",
    "void IllinoisGRMHD_convert_ADM_to_BSSN__enforce_detgtij_eq_1__and_compute_gtupij\n",
    "(const cGH *cctkGH,const int *cctk_lsh,\n",
    " CCTK_REAL *gxx,CCTK_REAL *gxy,CCTK_REAL *gxz,CCTK_REAL *gyy,CCTK_REAL *gyz,CCTK_REAL *gzz,CCTK_REAL *alp,\n",
    " CCTK_REAL *gtxx,CCTK_REAL *gtxy,CCTK_REAL *gtxz,CCTK_REAL *gtyy,CCTK_REAL *gtyz,CCTK_REAL *gtzz,\n",
    " CCTK_REAL *gtupxx,CCTK_REAL *gtupxy,CCTK_REAL *gtupxz,CCTK_REAL *gtupyy,CCTK_REAL *gtupyz,CCTK_REAL *gtupzz,\n",
    " CCTK_REAL *phi,CCTK_REAL *psi,CCTK_REAL *lapm1);\n",
    "\n",
    "void IllinoisGRMHD_set_symmetry_gzs_staggered(const cGH *cctkGH, const int *cctk_lsh,CCTK_REAL *X,CCTK_REAL *Y,CCTK_REAL *Z,  CCTK_REAL *gridfunc,\n",
    "                                              CCTK_REAL *gridfunc_syms,int stagger_x,int stagger_y,int stagger_z);\n",
    "\n",
    "#include \"IllinoisGRMHD_EoS_lowlevel_functs.C\"\n",
    "#endif // ILLINOISGRMHD_HEADERS_H\n",
    "\n"
   ]
  },
  {
   "cell_type": "markdown",
   "metadata": {},
   "source": [
    "<a id='code_validation'></a>\n",
    "\n",
    "# Step 3: Code validation \\[Back to [top](#toc)\\]\n",
    "$$\\label{code_validation}$$\n",
    "\n",
    "First we download the original `IllinoisGRMHD` source code and then compare it to the source code generated by this tutorial notebook."
   ]
  },
  {
   "cell_type": "code",
   "execution_count": 10,
   "metadata": {},
   "outputs": [],
   "source": [
    "# # Verify if the code generated by this tutorial module\n",
    "# # matches the original IllinoisGRMHD source code\n",
    "\n",
    "# # First download the original IllinoisGRMHD source code\n",
    "# import urllib\n",
    "# from os import path\n",
    "\n",
    "# original_IGM_file_url  = \"https://bitbucket.org/zach_etienne/wvuthorns/raw/5611b2f0b17135538c9d9d17c7da062abe0401b6/IllinoisGRMHD/src/IllinoisGRMHD_headers.h\"\n",
    "# original_IGM_file_name = \"IllinoisGRMHD_headers-original.h\"\n",
    "# original_IGM_file_path = os.path.join(IGM_src_dir_path,original_IGM_file_name)\n",
    "\n",
    "# # Then download the original IllinoisGRMHD source code\n",
    "# # We try it here in a couple of ways in an attempt to keep\n",
    "# # the code more portable\n",
    "# try:\n",
    "#     original_IGM_file_code = urllib.request.urlopen(original_IGM_file_url).read().decode(\"utf-8\")\n",
    "#     # Write down the file the original IllinoisGRMHD source code\n",
    "#     with open(original_IGM_file_path,\"w\") as file:\n",
    "#         file.write(original_IGM_file_code)\n",
    "# except:\n",
    "#     try:\n",
    "#         original_IGM_file_code = urllib.urlopen(original_IGM_file_url).read().decode(\"utf-8\")\n",
    "#         # Write down the file the original IllinoisGRMHD source code\n",
    "#         with open(original_IGM_file_path,\"w\") as file:\n",
    "#             file.write(original_IGM_file_code)\n",
    "#     except:\n",
    "#         # If all else fails, hope wget does the job\n",
    "#         !wget -O $original_IGM_file_path $original_IGM_file_url\n",
    "\n",
    "# # Perform validation\n",
    "# Validation__IllinoisGRMHD_headers__h  = !diff $original_IGM_file_path $outfile_path__IllinoisGRMHD_headers__h\n",
    "\n",
    "# if Validation__IllinoisGRMHD_headers__h == []:\n",
    "#     # If the validation passes, we do not need to store the original IGM source code file\n",
    "#     !rm $original_IGM_file_path\n",
    "#     print(\"Validation test for IllinoisGRMHD_headers.h: PASSED!\")\n",
    "# else:\n",
    "#     # If the validation fails, we keep the original IGM source code file\n",
    "#     print(\"Validation test for IllinoisGRMHD_headers.h: FAILED!\")\n",
    "#     # We also print out the difference between the code generated\n",
    "#     # in this tutorial module and the original IGM source code\n",
    "#     print(\"Diff:\")\n",
    "#     for diff_line in Validation__IllinoisGRMHD_headers__h:\n",
    "#         print(diff_line)"
   ]
  },
  {
   "cell_type": "markdown",
   "metadata": {},
   "source": [
    "<a id='latex_pdf_output'></a>\n",
    "\n",
    "# Step 4: Output this notebook to $\\LaTeX$-formatted PDF file \\[Back to [top](#toc)\\]\n",
    "$$\\label{latex_pdf_output}$$\n",
    "\n",
    "The following code cell converts this Jupyter notebook into a proper, clickable $\\LaTeX$-formatted PDF file. After the cell is successfully run, the generated PDF may be found in the root NRPy+ tutorial directory, with filename\n",
    "[Tutorial-IllinoisGRMHD__IllinoisGRMHD_headers.pdf](Tutorial-IllinoisGRMHD__IllinoisGRMHD_headers.pdf) (Note that clicking on this link may not work; you may need to open the PDF file through another means)."
   ]
  },
  {
   "cell_type": "code",
   "execution_count": 11,
   "metadata": {},
   "outputs": [],
   "source": [
    "latex_nrpy_style_path = os.path.join(nrpy_dir_path,\"latex_nrpy_style.tplx\")\n",
    "#!jupyter nbconvert --to latex --template $latex_nrpy_style_path --log-level='WARN' Tutorial-IllinoisGRMHD__IllinoisGRMHD_headers.ipynb\n",
    "#!pdflatex -interaction=batchmode Tutorial-IllinoisGRMHD__IllinoisGRMHD_headers.tex\n",
    "#!pdflatex -interaction=batchmode Tutorial-IllinoisGRMHD__IllinoisGRMHD_headers.tex\n",
    "#!pdflatex -interaction=batchmode Tutorial-IllinoisGRMHD__IllinoisGRMHD_headers.tex\n",
    "!rm -f Tut*.out Tut*.aux Tut*.log"
   ]
  }
 ],
 "metadata": {
  "kernelspec": {
   "display_name": "Python 3",
   "language": "python",
   "name": "python3"
  },
  "language_info": {
   "codemirror_mode": {
    "name": "ipython",
    "version": 3
   },
   "file_extension": ".py",
   "mimetype": "text/x-python",
   "name": "python",
   "nbconvert_exporter": "python",
   "pygments_lexer": "ipython3",
   "version": "3.8.0"
  }
 },
 "nbformat": 4,
 "nbformat_minor": 2
}
