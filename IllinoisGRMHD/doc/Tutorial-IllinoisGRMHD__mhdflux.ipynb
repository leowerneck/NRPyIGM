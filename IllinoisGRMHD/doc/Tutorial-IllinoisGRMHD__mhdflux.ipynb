{
 "cells": [
  {
   "cell_type": "markdown",
   "metadata": {},
   "source": [
    "<script async src=\"https://www.googletagmanager.com/gtag/js?id=UA-59152712-8\"></script>\n",
    "<script>\n",
    "  window.dataLayer = window.dataLayer || [];\n",
    "  function gtag(){dataLayer.push(arguments);}\n",
    "  gtag('js', new Date());\n",
    "\n",
    "  gtag('config', 'UA-59152712-8');\n",
    "</script>\n",
    "\n",
    "# Tutorial-IllinoisGRMHD: mhdflux.C\n",
    "\n",
    "## Authors: Leo Werneck & Zach Etienne\n",
    "\n",
    "<font color='red'>**This module is currently under development**</font>\n",
    "\n",
    "## In this tutorial module we explain how the MHD fluxes are evaluated within IllinoisGRMHD.\n",
    "\n",
    "### Required and recommended citations:\n",
    "\n",
    "* **(Required)** Etienne, Z. B., Paschalidis, V., Haas R., Mösta P., and Shapiro, S. L. IllinoisGRMHD: an open-source, user-friendly GRMHD code for dynamical spacetimes. Class. Quantum Grav. 32 (2015) 175009. ([arxiv:1501.07276](http://arxiv.org/abs/1501.07276)).\n",
    "* **(Required)** Noble, S. C., Gammie, C. F., McKinney, J. C., Del Zanna, L. Primitive Variable Solvers for Conservative General Relativistic Magnetohydrodynamics. Astrophysical Journal, 641, 626 (2006) ([astro-ph/0512420](https://arxiv.org/abs/astro-ph/0512420)).\n",
    "* **(Recommended)** Del Zanna, L., Bucciantini N., Londrillo, P. An efficient shock-capturing central-type scheme for multidimensional relativistic flows - II. Magnetohydrodynamics. A&A 400 (2) 397-413 (2003). DOI: 10.1051/0004-6361:20021641 ([astro-ph/0210618](https://arxiv.org/abs/astro-ph/0210618))."
   ]
  },
  {
   "cell_type": "markdown",
   "metadata": {},
   "source": [
    "<a id='toc'></a>\n",
    "\n",
    "# Table of Contents\n",
    "$$\\label{toc}$$\n",
    "\n",
    "This module is organized as follows\n",
    "\n",
    "0. [Step 0](#src_dir): **Source directory creation**\n",
    "1. [Step 1](#introduction): **Introduction**\n",
    "1. [Step 2](#basic_quantities): **Basic quantities**\n",
    "1. [Step 3](#eos_quantities): **Equation of State (EOS) quantities**\n",
    "1. [Step 4](#impose_speed_limit_output_u0): **Impose a speed limit and determine $u^{0}$**\n",
    "1. [Step 5](#magnetic_field_comoving_frame): **The magnetic field measured in the comoving fluid frame, $b^{\\mu}$**\n",
    "1. [Step 6](#min_max_characteristic_speeds): **The minimum and maximum characteristic speeds**\n",
    "1. [Step 7](#rho_star_flux): **MHD flux: $\\rho_{\\star}$**\n",
    "1. [Step 8](#energy_flux): **MHD flux: $\\tilde{\\tau}$**\n",
    "1. [Step 9](#momentum_flux): **MHD flux: $\\tilde{S}_{i}$**\n",
    "1. [Step 10](#code_validation): **Code validation**\n",
    "1. [Step 11](#latex_pdf_output): **Output this notebook to $\\LaTeX$-formatted PDF file**"
   ]
  },
  {
   "cell_type": "markdown",
   "metadata": {},
   "source": [
    "<a id='src_dir'></a>\n",
    "\n",
    "# Step 0: Source directory creation \\[Back to [top](#toc)\\]\n",
    "$$\\label{src_dir}$$\n",
    "\n",
    "We will now use the [cmdline_helper.py NRPy+ module](Tutorial-Tutorial-cmdline_helper.ipynb) to create the source directory within the `IllinoisGRMHD` NRPy+ directory, if it does not exist yet."
   ]
  },
  {
   "cell_type": "code",
   "execution_count": 1,
   "metadata": {},
   "outputs": [],
   "source": [
    "# Step 0: Creation of the IllinoisGRMHD source directory\n",
    "# Step 0a: Add NRPy's directory to the path\n",
    "# https://stackoverflow.com/questions/16780014/import-file-from-parent-directory\n",
    "import os,sys\n",
    "nrpy_dir_path = os.path.join(\"..\",\"..\")\n",
    "if nrpy_dir_path not in sys.path:\n",
    "    sys.path.append(nrpy_dir_path)\n",
    "\n",
    "# Step 0b: Load up cmdline_helper and create the directory\n",
    "import cmdline_helper as cmd\n",
    "IGM_src_dir_path = os.path.join(\"..\",\"src\")\n",
    "cmd.mkdir(IGM_src_dir_path)\n",
    "\n",
    "# Step 0c: Create the output file path \n",
    "outfile_path__mhdflux__C = os.path.join(IGM_src_dir_path,\"mhdflux.C\")"
   ]
  },
  {
   "cell_type": "markdown",
   "metadata": {},
   "source": [
    "<a id='introduction'></a>\n",
    "\n",
    "# Step 1: Introduction \\[Back to [top](#toc)\\]\n",
    "$$\\label{introduction}$$\n",
    "\n",
    "In this tutorial module we will compute the flux terms for the conservative variables $U=\\left\\{\\rho_{\\star},\\tilde{\\tau},\\tilde{S}_{i}\\right\\}$, which are defined in terms of the primitive variables as\n",
    "\n",
    "$$\n",
    "\\left(\n",
    "\\begin{matrix}\n",
    "\\rho_{\\star}\\\\\n",
    "\\tilde{\\tau}\\\\\n",
    "\\tilde{S}_{i}\n",
    "\\end{matrix}\n",
    "\\right)\n",
    "=\n",
    "\\left(\n",
    "\\begin{matrix}\n",
    "\\alpha\\sqrt{\\gamma}\\rho_{b}u^{0}\\\\\n",
    "\\alpha^{2}\\sqrt{\\gamma}T^{00}-\\rho_{\\star}\\\\\n",
    "\\left(\\rho_{\\star}h + \\alpha u^{0}\\sqrt{\\gamma}b^{2}\\right)u_{i} - \\alpha\\sqrt{\\gamma}b^{0}b_{i}\n",
    "\\end{matrix}\n",
    "\\right)\\ .\n",
    "$$\n",
    "\n",
    "The flux terms for these conservative variables are\n",
    "\n",
    "$$\n",
    "\\boldsymbol{F} \n",
    "= \n",
    "\\left(\n",
    "\\begin{matrix}\n",
    "F^{i}_{\\rho_{\\star}}\\\\\n",
    "F^{i}_{\\tilde{\\tau}}\\\\\n",
    "\\left(F_{\\tilde{S}}\\right)^{j}_{\\ i}\n",
    "\\end{matrix}\n",
    "\\right)\n",
    "=\n",
    "\\left(\n",
    "\\begin{matrix}\n",
    "\\rho_{\\star}v^{i}\\\\\n",
    "\\alpha^{2}\\sqrt{\\gamma}T^{0j} - \\rho_{\\star}v^{j}\\\\\n",
    "\\alpha\\sqrt{\\gamma}T^{j}_{\\ i}\n",
    "\\end{matrix}\n",
    "\\right)\\ .\n",
    "$$\n",
    "\n",
    "The MHD flux algorithm computes, for each of the fluxes above, the standard Harten-Lax-van Leer (HLL) flux\n",
    "\n",
    "$$\n",
    "\\boxed{F^{\\rm HLL} = \\frac{c^{-}F_{r} + c^{+}F_{l} - c^{+}c^{-}\\left(U_{r} - U_{l}\\right)}{c^{+} + c^{-}}}\\ .\n",
    "$$\n",
    "\n",
    "As we go through the implementation, we will notice that will need a lot of the functions defined within the `inlined_functions.C` code file of `IllinoisGRMHD`. We will therefore explain the algorithm of each function in quite some detail, so that the reader can go through this tutorial without having to stop and read the [`inlined_functions.C` tutorial module](Tutorial-IllinoisGRMHD_inlined_functions.ipynb). We do encourage the reader to go through the module as well, though, since we will be presenting the math behind each function, but not the code itself."
   ]
  },
  {
   "cell_type": "markdown",
   "metadata": {},
   "source": [
    "<a id='basic_quantities'></a>\n",
    "\n",
    "# Step 2: Basic quantities \\[Back to [top](#toc)\\]\n",
    "$$\\label{basic_quantities}$$\n",
    "\n",
    "We start by defining useful quantities, such as $\\psi^{\\pm4}$, $\\psi^{6}$, $\\alpha\\sqrt{\\gamma}$, $\\alpha^{-1}$, and $\\alpha^{-2}$."
   ]
  },
  {
   "cell_type": "code",
   "execution_count": 2,
   "metadata": {},
   "outputs": [
    {
     "name": "stdout",
     "output_type": "stream",
     "text": [
      "Writing ../src/mhdflux.C\n"
     ]
    }
   ],
   "source": [
    "%%writefile $outfile_path__mhdflux__C\n",
    "//-----------------------------------------------------------------------------\n",
    "// Compute the flux for advecting rho_star, tau (Font's energy variable), \n",
    "//  and S_i .\n",
    "//-----------------------------------------------------------------------------\n",
    "static inline void mhdflux(int i,int j,int k,const int flux_dirn,CCTK_REAL *Ul,CCTK_REAL *Ur,  CCTK_REAL *FACEVAL,eos_struct &eos,\n",
    "                           CCTK_REAL &cmax,CCTK_REAL &cmin,\n",
    "                           CCTK_REAL &rho_star_flux,CCTK_REAL &tau_flux,CCTK_REAL &st_x_flux,CCTK_REAL &st_y_flux,CCTK_REAL &st_z_flux) {\n",
    "    \n",
    "  DECLARE_CCTK_PARAMETERS;\n",
    "\n",
    "  CCTK_REAL psi2  = FACEVAL[CM_PSI] * FACEVAL[CM_PSI];\n",
    "  CCTK_REAL psi4  = psi2 * psi2;\n",
    "  CCTK_REAL psi6  = psi2 * psi4;\n",
    "  CCTK_REAL lapse = FACEVAL[CM_LAPM1] + 1.0;\n",
    "\n",
    "  CCTK_REAL ONE_OVER_LAPSE = 1.0/lapse;"
   ]
  },
  {
   "cell_type": "markdown",
   "metadata": {},
   "source": [
    "<a id='eos_quantities'></a>\n",
    "\n",
    "# Step 3: Equation of State (EOS) quantities \\[Back to [top](#toc)\\]\n",
    "$$\\label{eos_quantities}$$\n",
    "\n",
    "Next we compute the quantities $P_{\\rm cold}$, $\\epsilon_{\\rm cold}$, $\\frac{dP_{\\rm cold}}{d\\rho}$, $\\epsilon_{\\rm th}$, $h$, and $\\Gamma_{\\rm cold}$. We have written $\\rho_{b}\\equiv\\rho$ so that the discussion constains a notation that is slightly less cluttered with indices.\n",
    "\n",
    "The function `compute_P_cold__eps_cold__dPcold_drho__eps_th__h__Gamma_cold()` is defined within the `inlined_functions.C` code file of `IllinoisGRMHD`. It currently implementes 3 different cases:\n",
    "\n",
    "1. **Case 1: $\\boldsymbol{\\rho_{b} = 0}$**\n",
    "\n",
    "   In this case, we set $\\Gamma_{\\rm cold} = \\Gamma_{\\rm tab}$, i.e. it's tabulated input value, and all other quantities to zero: $P_{\\rm cold}=\\epsilon_{\\rm cold}=\\frac{dP_{\\rm cold}}{d\\rho}=h=\\epsilon_{\\rm th}=0$\n",
    "   \n",
    "2. **Case 2: Single Polytrope EOS**\n",
    "\n",
    "   In this case we have have the relations:\n",
    "   \n",
    "   $$\n",
    "   \\boxed{\n",
    "   \\begin{align}\n",
    "   P_{\\rm cold} &= \\kappa \\rho^{\\Gamma_{\\rm cold}}\\ ,\\\\\n",
    "   \\epsilon_{\\rm cold} &= \\left.\\left(\\frac{P_{\\rm cold}}{\\rho}\\right)\\middle/\\left(\\Gamma_{\\rm cold}-1\\right)\\right.\\ ,\\\\\n",
    "   \\frac{dP_{\\rm cold}}{d\\rho} &= \\frac{\\Gamma_{\\rm cold}P_{\\rm cold}}{\\rho}\\ ,\\\\\n",
    "   \\epsilon_{\\rm th} &= \\left.\\left(\\frac{P-P_{\\rm cold}}{\\rho}\\right)\\middle/\\left(\\Gamma_{\\rm cold}-1\\right)\\right.\\ ,\\\\\n",
    "   h &= 1+\\epsilon_{\\rm cold}+\\epsilon_{\\rm th} + \\frac{P}{\\rho}\\ ,\\\\\n",
    "   \\Gamma_{\\rm cold} &= \\Gamma_{\\rm tab}\\ .\n",
    "   \\end{align}}\n",
    "   $$\n",
    "   \n",
    "2. **Case 3: Piecewise Polytrope EOS**\n",
    "\n",
    "   We now consider a set of dividing densities $\\rho_{\\min} < \\rho_{1} < \\cdots < \\rho_{n-1} < \\rho_{\\max}$ such that the pressure and energy density are everywhere continuous. In each interval, the EOS is a single polytrope, with its own $K_{i}$ and $\\left(\\Gamma_{cold}\\right)_{i}\\equiv\\Gamma_{i}$, so that\n",
    "   \n",
    "   $$\n",
    "    \\boxed{\n",
    "    P_{\\rm cold} =\n",
    "    \\left\\{\n",
    "    \\begin{matrix}\n",
    "    K_{0}\\rho^{\\Gamma_{0}} & , & \\rho \\leq \\rho_{0}\\\\\n",
    "    K_{1}\\rho^{\\Gamma_{1}} & , & \\rho_{0} \\leq \\rho \\leq \\rho_{1}\\\\\n",
    "    \\vdots &  & \\vdots\\\\\n",
    "    K_{j}\\rho^{\\Gamma_{j}} & , & \\rho_{j-1} \\leq \\rho \\leq \\rho_{j}\\\\\n",
    "    \\vdots &  & \\vdots\\\\\n",
    "    K_{N-1}\\rho^{\\Gamma_{N-1}} & , & \\rho_{N-2} \\leq \\rho \\leq \\rho_{N-1}\\\\\n",
    "    K_{N}\\rho^{\\Gamma_{N}} & , & \\rho \\geq \\rho_{N-1}\n",
    "    \\end{matrix}\n",
    "    \\right.\n",
    "    }\\ .\n",
    "    $$\n",
    "   \n",
    "   Then, for each set $\\left\\{P_{i},K_{i},\\Gamma_{i}\\right\\}$ the desired quantities are computed using the same equations used in Case 2."
   ]
  },
  {
   "cell_type": "code",
   "execution_count": 3,
   "metadata": {},
   "outputs": [
    {
     "name": "stdout",
     "output_type": "stream",
     "text": [
      "Appending to ../src/mhdflux.C\n"
     ]
    }
   ],
   "source": [
    "%%writefile -a $outfile_path__mhdflux__C\n",
    "\n",
    "\n",
    "  // First compute P_{cold}, \\epsilon_{cold}, dP_{cold}/drho, \\epsilon_{th}, h, and \\Gamma_{cold},\n",
    "  // for right and left faces:\n",
    "  CCTK_REAL P_coldr,eps_coldr,dPcold_drhor=0,eps_thr=0,h_r=0,Gamma_coldr;\n",
    "  compute_P_cold__eps_cold__dPcold_drho__eps_th__h__Gamma_cold(Ur,eos,Gamma_th,P_coldr,eps_coldr,dPcold_drhor,eps_thr,h_r,Gamma_coldr);\n",
    "  CCTK_REAL P_coldl,eps_coldl,dPcold_drhol=0,eps_thl=0,h_l=0,Gamma_coldl;\n",
    "  compute_P_cold__eps_cold__dPcold_drho__eps_th__h__Gamma_cold(Ul,eos,Gamma_th,P_coldl,eps_coldl,dPcold_drhol,eps_thl,h_l,Gamma_coldl);"
   ]
  },
  {
   "cell_type": "markdown",
   "metadata": {},
   "source": [
    "<a id='min_max_characteristic_speeds'></a>\n",
    "\n",
    "# Step 6: The minimum and maximum characteristic speeds \\[Back to [top](#toc)\\]\n",
    "$$\\label{min_max_characteristic_speeds}$$"
   ]
  },
  {
   "cell_type": "code",
   "execution_count": 4,
   "metadata": {},
   "outputs": [
    {
     "name": "stdout",
     "output_type": "stream",
     "text": [
      "Appending to ../src/mhdflux.C\n"
     ]
    }
   ],
   "source": [
    "%%writefile -a $outfile_path__mhdflux__C\n",
    "\n",
    "CCTK_REAL smallb4U0_R,smallb4U1_R,smallb4U2_R,smallb4U3_R;\n",
    "CCTK_REAL smallb4U0_L,smallb4U1_L,smallb4U2_L,smallb4U3_L;\n",
    "const CCTK_REAL sqrt4pi = sqrt(4.0*M_PI);\n",
    "#include \"NRPy_generated_headers/smallb4R_and_L.h\"\n",
    "\n",
    "  switch(flux_dirn)\n",
    "  {\n",
    "      case 1:\n",
    "      {\n",
    "#include \"NRPy_generated_headers/flux_dirn_x.h\"\n",
    "      }\n",
    "      case 2:\n",
    "      {\n",
    "#include \"NRPy_generated_headers/flux_dirn_y.h\"\n",
    "      }\n",
    "      case 3:\n",
    "      {\n",
    "#include \"NRPy_generated_headers/flux_dirn_z.h\"\n",
    "      }\n",
    "  }\n",
    "\n",
    "}"
   ]
  },
  {
   "cell_type": "markdown",
   "metadata": {},
   "source": [
    "<a id='code_validation'></a>\n",
    "\n",
    "# Step 10: Code validation \\[Back to [top](#toc)\\]\n",
    "$$\\label{code_validation}$$\n",
    "\n",
    "First we download the original `IllinoisGRMHD` source code and then compare it to the source code generated by this tutorial notebook."
   ]
  },
  {
   "cell_type": "code",
   "execution_count": 5,
   "metadata": {},
   "outputs": [],
   "source": [
    "# # Verify if the code generated by this tutorial module\n",
    "# # matches the original IllinoisGRMHD source code\n",
    "\n",
    "# # First download the original IllinoisGRMHD source code\n",
    "# import urllib\n",
    "# from os import path\n",
    "\n",
    "# original_IGM_file_url  = \"https://bitbucket.org/zach_etienne/wvuthorns/raw/5611b2f0b17135538c9d9d17c7da062abe0401b6/IllinoisGRMHD/src/mhdflux.C\"\n",
    "# original_IGM_file_name = \"mhdflux-original.C\"\n",
    "# original_IGM_file_path = os.path.join(IGM_src_dir_path,original_IGM_file_name)\n",
    "\n",
    "# # Then download the original IllinoisGRMHD source code\n",
    "# # We try it here in a couple of ways in an attempt to keep\n",
    "# # the code more portable\n",
    "# try:\n",
    "#     original_IGM_file_code = urllib.request.urlopen(original_IGM_file_url).read().decode(\"utf-8\")\n",
    "#     # Write down the file the original IllinoisGRMHD source code\n",
    "#     with open(original_IGM_file_path,\"w\") as file:\n",
    "#         file.write(original_IGM_file_code)\n",
    "# except:\n",
    "#     try:\n",
    "#         original_IGM_file_code = urllib.urlopen(original_IGM_file_url).read().decode(\"utf-8\")\n",
    "#         # Write down the file the original IllinoisGRMHD source code\n",
    "#         with open(original_IGM_file_path,\"w\") as file:\n",
    "#             file.write(original_IGM_file_code)\n",
    "#     except:\n",
    "#         # If all else fails, hope wget does the job\n",
    "#         !wget -O $original_IGM_file_path $original_IGM_file_url\n",
    "\n",
    "# # Perform validation\n",
    "# Validation__mhdflux__C  = !diff $original_IGM_file_path $outfile_path__mhdflux__C\n",
    "\n",
    "# if Validation__mhdflux__C == []:\n",
    "#     # If the validation passes, we do not need to store the original IGM source code file\n",
    "#     !rm $original_IGM_file_path\n",
    "#     print(\"Validation test for mhdflux.C: PASSED!\")\n",
    "# else:\n",
    "#     # If the validation fails, we keep the original IGM source code file\n",
    "#     print(\"Validation test for mhdflux.C: FAILED!\")\n",
    "#     # We also print out the difference between the code generated\n",
    "#     # in this tutorial module and the original IGM source code\n",
    "#     print(\"Diff:\")\n",
    "#     for diff_line in Validation__mhdflux__C:\n",
    "#         print(diff_line)"
   ]
  },
  {
   "cell_type": "markdown",
   "metadata": {},
   "source": [
    "<a id='latex_pdf_output'></a>\n",
    "\n",
    "# Step 11: Output this notebook to $\\LaTeX$-formatted PDF file \\[Back to [top](#toc)\\]\n",
    "$$\\label{latex_pdf_output}$$\n",
    "\n",
    "The following code cell converts this Jupyter notebook into a proper, clickable $\\LaTeX$-formatted PDF file. After the cell is successfully run, the generated PDF may be found in the root NRPy+ tutorial directory, with filename\n",
    "[Tutorial-IllinoisGRMHD__mhdflux.pdf](Tutorial-IllinoisGRMHD__mhdflux.pdf) (Note that clicking on this link may not work; you may need to open the PDF file through another means)."
   ]
  },
  {
   "cell_type": "code",
   "execution_count": 6,
   "metadata": {},
   "outputs": [],
   "source": [
    "latex_nrpy_style_path = os.path.join(nrpy_dir_path,\"latex_nrpy_style.tplx\")\n",
    "#!jupyter nbconvert --to latex --template $latex_nrpy_style_path Tutorial-IllinoisGRMHD__mhdflux.ipynb\n",
    "#!pdflatex -interaction=batchmode Tutorial-IllinoisGRMHD__mhdflux.tex\n",
    "#!pdflatex -interaction=batchmode Tutorial-IllinoisGRMHD__mhdflux.tex\n",
    "#!pdflatex -interaction=batchmode Tutorial-IllinoisGRMHD__mhdflux.tex\n",
    "!rm -f Tut*.out Tut*.aux Tut*.log"
   ]
  }
 ],
 "metadata": {
  "kernelspec": {
   "display_name": "Python 3",
   "language": "python",
   "name": "python3"
  },
  "language_info": {
   "codemirror_mode": {
    "name": "ipython",
    "version": 3
   },
   "file_extension": ".py",
   "mimetype": "text/x-python",
   "name": "python",
   "nbconvert_exporter": "python",
   "pygments_lexer": "ipython3",
   "version": "3.8.0"
  }
 },
 "nbformat": 4,
 "nbformat_minor": 2
}
