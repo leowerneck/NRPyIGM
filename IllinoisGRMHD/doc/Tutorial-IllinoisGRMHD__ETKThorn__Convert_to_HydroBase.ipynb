{
 "cells": [
  {
   "cell_type": "markdown",
   "metadata": {},
   "source": [
    "<script async src=\"https://www.googletagmanager.com/gtag/js?id=UA-59152712-8\"></script>\n",
    "<script>\n",
    "  window.dataLayer = window.dataLayer || [];\n",
    "  function gtag(){dataLayer.push(arguments);}\n",
    "  gtag('js', new Date());\n",
    "\n",
    "  gtag('config', 'UA-59152712-8');\n",
    "</script>\n",
    "\n",
    "# Tutorial-IllinoisGRMHD: Convert_to_HydroBase ETKThorn\n",
    "\n",
    "## Authors: Leo Werneck & Zach Etienne\n",
    "\n",
    "<font color='red'>**This module is currently under development**</font>\n",
    "\n",
    "## In this tutorial module we generate the Convert_to_HydroBase ETK thorn files, compatible with our latest implementation of IllinoisGRMHD\n",
    "\n",
    "### Required and recommended citations:\n",
    "\n",
    "* **(Required)** Etienne, Z. B., Paschalidis, V., Haas R., Mösta P., and Shapiro, S. L. IllinoisGRMHD: an open-source, user-friendly GRMHD code for dynamical spacetimes. Class. Quantum Grav. 32 (2015) 175009. ([arxiv:1501.07276](http://arxiv.org/abs/1501.07276)).\n",
    "* **(Required)** Noble, S. C., Gammie, C. F., McKinney, J. C., Del Zanna, L. Primitive Variable Solvers for Conservative General Relativistic Magnetohydrodynamics. Astrophysical Journal, 641, 626 (2006) ([astro-ph/0512420](https://arxiv.org/abs/astro-ph/0512420)).\n",
    "* **(Recommended)** Del Zanna, L., Bucciantini N., Londrillo, P. An efficient shock-capturing central-type scheme for multidimensional relativistic flows - II. Magnetohydrodynamics. A&A 400 (2) 397-413 (2003). DOI: 10.1051/0004-6361:20021641 ([astro-ph/0210618](https://arxiv.org/abs/astro-ph/0210618)).\n",
    "\n",
    "If using the version of `IllinoisGRMHD` with piecewise polytropic *or* tabulated (coming soon!) EOS support, then the following citation is also required:\n",
    "\n",
    "* **(Required)** Etienne, Z. B., Werneck, L., Paschalidis, V., Haas R., Mösta P., and Shapiro, S. L., *IllinoisGRMHD github repository* (2019). Source Code URL: https://github.com/zachetienne/nrpytutorial/tree/master/IllinoisGRMHD/."
   ]
  },
  {
   "cell_type": "markdown",
   "metadata": {},
   "source": [
    "### Dependencies\n",
    "\n",
    "The files generated in this tutorial notebook depends on the following files:\n",
    "\n",
    "* `IllinoisGRMHD_headers.h` \\[[**tutorial**](Tutorial-IllinoisGRMHD__IllinoisGRMHD_headers.ipynb)\\]\n",
    "* `IllinoisGRMHD_EoS_lowlevel_functs.C` \\[[**tutorial**](Tutorial-IllinoisGRMHD__EoS_lowlevel_functs.ipynb)\\]"
   ]
  },
  {
   "cell_type": "markdown",
   "metadata": {},
   "source": [
    "<a id='toc'></a>\n",
    "\n",
    "# Table of Contents\n",
    "$$\\label{toc}$$\n",
    "\n",
    "This module is organized as follows\n",
    "\n",
    "0. [Step 0](#src_dir): **Source directory creation**\n",
    "1. [Step 1](#convert_to_hydrobase__src): **The `Convert_to_HydroBase.C` file**\n",
    "    1. [Step 1.a](#initialize_eos_struct__compute_eps): *Initializing the EOS struct, computing $\\epsilon$*\n",
    "    1. [Step 1.b](#valencia_vi_from_vi): *Computing the Valencia 3-velocity from $v^{i}$*\n",
    "    1. [Step 1.c](#computing_lorentz_factor__update_bi): *Computing the Lorentz factor $\\gamma_{v}$ and updating $B^{i}$*\n",
    "1. [Step 2](#convert_to_hydrobase__param): **The `param.ccl` file**\n",
    "1. [Step 3](#convert_to_hydrobase__interface): **The `interface.ccl` file**\n",
    "1. [Step 4](#convert_to_hydrobase__schedule): **The `schedule.ccl` file**\n",
    "1. [Step 5](#convert_to_hydrobase__make): **The `make.code.defn` file**\n",
    "1. [Step 6](#code_validation): **Code validation**\n",
    "1. [Step 7](#latex_pdf_output): **Output this notebook to $\\LaTeX$-formatted PDF file**"
   ]
  },
  {
   "cell_type": "markdown",
   "metadata": {},
   "source": [
    "<a id='src_dir'></a>\n",
    "\n",
    "# Step 0: Source directory creation \\[Back to [top](#toc)\\]\n",
    "$$\\label{src_dir}$$\n",
    "\n",
    "We will now use the [cmdline_helper.py NRPy+ module](Tutorial-Tutorial-cmdline_helper.ipynb) to create the source directory within the `IllinoisGRMHD` NRPy+ directory, if it does not exist yet."
   ]
  },
  {
   "cell_type": "code",
   "execution_count": 1,
   "metadata": {},
   "outputs": [],
   "source": [
    "# Step 0: Creation of the IllinoisGRMHD source directory\n",
    "# Step 0a: Load up cmdline_helper and create the directory\n",
    "import os,sys\n",
    "nrpy_dir_path = os.path.join(\"..\",\"..\")\n",
    "if nrpy_dir_path not in sys.path:\n",
    "    sys.path.append(nrpy_dir_path)\n",
    "\n",
    "import cmdline_helper as cmd\n",
    "basedir = os.path.join(\"..\",\"Convert_to_HydroBase\")\n",
    "cmd.mkdir(basedir)\n",
    "srcdir = os.path.join(basedir,\"src\")\n",
    "cmd.mkdir(srcdir)"
   ]
  },
  {
   "cell_type": "markdown",
   "metadata": {},
   "source": [
    "<a id='convert_to_hydrobase__src'></a>\n",
    "\n",
    "# Step 1: The `Convert_to_HydroBase.C` file \\[Back to [top](#toc)\\]\n",
    "$$\\label{convert_to_hydrobase__src}$$"
   ]
  },
  {
   "cell_type": "markdown",
   "metadata": {},
   "source": [
    "<a id='initialize_eos_struct__compute_eps'></a>\n",
    "\n",
    "## Step 1.a: Initializing the EOS struct, computing $\\epsilon$ \\[Back to [top](#toc)\\]\n",
    "$$\\label{initialize_eos_struct__compute_eps}$$\n",
    "\n",
    "Our goal here is to compute $\\epsilon$, the specific internal energy. `IllinoisGRMHD` implements a hybrid EOS (see equation (20) in [Etienne *et al*.](https://arxiv.org/pdf/1501.07276.pdf))\n",
    "\n",
    "$$\n",
    "P = P_{\\rm cold} + P_{\\rm th} = P_{\\rm cold} + \\left(\\Gamma_{\\rm th} - 1\\right)\\rho_{b}\\epsilon_{\\rm th}\\ ,\n",
    "$$\n",
    "\n",
    "where $P_{\\rm cold}$ is determined using a single or piecewise polytropic EOS. We assume $\\epsilon = \\epsilon_{\\rm cold} + \\epsilon_{\\rm th}$, i.e.\n",
    "\n",
    "$$\n",
    "P = P_{\\rm cold} + \\left(\\Gamma_{\\rm th} - 1\\right)\\rho_{b}\\left(\\epsilon - \\epsilon_{\\rm cold}\\right)\\ ,\n",
    "$$\n",
    "\n",
    "so that we obtain\n",
    "\n",
    "$$\n",
    "\\boxed{\\epsilon = \\epsilon_{\\rm cold} + \\frac{P - P_{\\rm cold}}{\\rho_{b}\\left(\\Gamma_{\\rm th}-1\\right)}}\\ .\n",
    "$$\n",
    "\n",
    "Below, $P_{\\rm cold}$ and $\\epsilon_{\\rm cold}$ are determined using the `compute_P_cold__eps_cold()` function, which is documented in the [EoS_lowlevel_functs `IllinoisGRMHD` tutorial notebook](Tutorial-IllinoisGRMHD__EoS_lowlevel_functs.ipynb)."
   ]
  },
  {
   "cell_type": "code",
   "execution_count": 2,
   "metadata": {},
   "outputs": [
    {
     "name": "stdout",
     "output_type": "stream",
     "text": [
      "Overwriting ../Convert_to_HydroBase/src/Convert_to_HydroBase.C\n"
     ]
    }
   ],
   "source": [
    "%%writefile $srcdir/Convert_to_HydroBase.C\n",
    "#include \"cctk.h\"\n",
    "#include <cstdio>\n",
    "#include <cstdlib>\n",
    "#include <cmath>\n",
    "#include <sys/time.h>\n",
    "#include \"cctk_Arguments.h\"\n",
    "#include \"cctk_Parameters.h\"\n",
    "\n",
    "#include \"IllinoisGRMHD_headers.h\"\n",
    "\n",
    "void Convert_to_HydroBase(CCTK_ARGUMENTS) {\n",
    "\n",
    "  DECLARE_CCTK_ARGUMENTS;\n",
    "  DECLARE_CCTK_PARAMETERS;\n",
    "\n",
    "  // Generally, we only need the HydroBase variables for diagnostic purposes, so we run the below loop only at iterations in which diagnostics are run.\n",
    "  if(Convert_to_HydroBase_every==0 || cctk_iteration%Convert_to_HydroBase_every!=0) return;\n",
    "\n",
    "  /***************\n",
    "   * PPEOS Patch *\n",
    "   ***************\n",
    "   * We will need to set up our EOS in\n",
    "   * order to be able to compute eps below\n",
    "   */\n",
    "  eos_struct eos;\n",
    "  initialize_EOS_struct_from_input(eos);\n",
    "  \n",
    "#pragma omp parallel for \n",
    "  for(int k=0;k<cctk_lsh[2];k++)\n",
    "    for(int j=0;j<cctk_lsh[1];j++)\n",
    "      for(int i=0;i<cctk_lsh[0];i++) {\n",
    "        int index = CCTK_GFINDEX3D(cctkGH,i,j,k);\n",
    "        /* Note that we currently do not set Abar, Y_e, temperature, entropy, Avec[3], Aphi, Avec_stag[3], Aphi_stag */\n",
    "        CCTK_REAL PRIMS[MAXNUMVARS];\n",
    "        int ww=0;\n",
    "        PRIMS[ww] = rho_b[index]; ww++;\n",
    "        PRIMS[ww] = P[index];     ww++;\n",
    "        PRIMS[ww] = vx[index];    ww++;\n",
    "        PRIMS[ww] = vy[index];    ww++;\n",
    "        PRIMS[ww] = vz[index];    ww++;\n",
    "        PRIMS[ww] = Bx[index];    ww++;\n",
    "        PRIMS[ww] = By[index];    ww++;\n",
    "        PRIMS[ww] = Bz[index];    ww++;\n",
    "\n",
    "        rho[index]   = PRIMS[RHOB];\n",
    "        press[index] = PRIMS[PRESSURE];\n",
    "\n",
    "        /***************\n",
    "         * PPEOS Patch *\n",
    "         ***************\n",
    "         * For our hybrid piecewise polytropic EOS, we have\n",
    "         * .------------------------------------------------------.\n",
    "         * | eps = eps_cold + (P - P_cold)/( rho*(Gamma_th - 1) ) |\n",
    "         * .------------------------------------------------------.\n",
    "         */\n",
    "        /* Compute P_cold and eps_cold */\n",
    "        CCTK_REAL P_cold, eps_cold;\n",
    "        compute_P_cold__eps_cold(eos,PRIMS[RHOB], P_cold,eps_cold);\n",
    "\n",
    "        /* Compute eps as described above */\n",
    "        eps[index] = (PRIMS[PRESSURE]-P_cold)/PRIMS[RHOB]/(Gamma_th-1.0);"
   ]
  },
  {
   "cell_type": "markdown",
   "metadata": {},
   "source": [
    "<a id='valencia_vi_from_vi'></a>\n",
    "\n",
    "## Step 1.b: Computing the Valencia 3-velocity from $v^{i}$ \\[Back to [top](#toc)\\]\n",
    "$$\\label{valencia_vi_from_vi}$$\n",
    "\n",
    "In `IllinoisGRMHD`, we use the 3-velocity\n",
    "\n",
    "$$\n",
    "v^{i}\\equiv\\frac{u^{i}}{u^{0}}\\ ,\n",
    "$$\n",
    "\n",
    "where $u^{\\mu}$ is the fluid 4-velocity. The [HydroBase ETK Thorn](http://einsteintoolkit.org/thornguide/EinsteinBase/HydroBase/documentation.html), however, uses the Valencia formalism, which adopts the 3-velocity as measured by a normal observers (also referred to as the Eulerian 3-velocity), $v^{i}_{(n)}$, which is given by (see equation (14) in [Mösta *et al*.](https://arxiv.org/pdf/1304.5544.pdf))\n",
    "\n",
    "$$\n",
    "v^{i}_{(n)} = \\frac{u^{i}}{\\alpha u^{0}} + \\frac{\\beta^{i}}{\\alpha}\\ .\n",
    "$$\n",
    "\n",
    "Thus, we can read off the relation\n",
    "\n",
    "$$\n",
    "\\boxed{v^{i}_{(n)} = \\frac{1}{\\alpha}\\left(v^{i} + \\beta^{i}\\right)}\\ ,\n",
    "$$\n",
    "\n",
    "which we implement below."
   ]
  },
  {
   "cell_type": "code",
   "execution_count": 3,
   "metadata": {},
   "outputs": [
    {
     "name": "stdout",
     "output_type": "stream",
     "text": [
      "Appending to ../Convert_to_HydroBase/src/Convert_to_HydroBase.C\n"
     ]
    }
   ],
   "source": [
    "%%writefile -a $srcdir/Convert_to_HydroBase.C\n",
    "\n",
    "\n",
    "        // IllinoisGRMHD defines v^i = u^i/u^0.\n",
    "        \n",
    "        // Meanwhile, the ET/HydroBase formalism, called the Valencia \n",
    "        // formalism, splits the 4 velocity into a purely spatial part\n",
    "        // and a part that is normal to the spatial hypersurface:\n",
    "        // u^a = G (n^a + U^a), (Eq. 14 of arXiv:1304.5544; G=W, U^a=v^a)\n",
    "        // where n^a is the unit normal vector to the spatial hypersurface,\n",
    "        // n_a = {-\\alpha,0,0,0}, and U^a is the purely spatial part, which\n",
    "        // is defined in HydroBase as the vel[] vector gridfunction.\n",
    "        // Then u^a n_a = - \\alpha u^0 = G n^a n_a = -G, and\n",
    "        // of course \\alpha u^0 = 1/sqrt(1+γ^ij u_i u_j) = \\Gamma,\n",
    "        // the standard Lorentz factor.\n",
    "\n",
    "        // Note that n^i = - \\beta^i / \\alpha, so \n",
    "        // u^a = \\Gamma (n^a + U^a) \n",
    "        // -> u^i = \\Gamma ( U^i - \\beta^i / \\alpha )\n",
    "        // which implies\n",
    "        // v^i = u^i/u^0\n",
    "        //     = \\Gamma/u^0 ( U^i - \\beta^i / \\alpha ) <- \\Gamma = \\alpha u^0\n",
    "        //     = \\alpha ( U^i - \\beta^i / \\alpha )\n",
    "        //     = \\alpha U^i - \\beta^i\n",
    "        CCTK_REAL lapseL=alp[index];\n",
    "        CCTK_REAL lapseL_inv=1.0/lapseL;\n",
    "        vel[CCTK_GFINDEX4D(cctkGH,i,j,k,0)] = (PRIMS[VX] + betax[index])*lapseL_inv;\n",
    "        vel[CCTK_GFINDEX4D(cctkGH,i,j,k,1)] = (PRIMS[VY] + betay[index])*lapseL_inv;\n",
    "        vel[CCTK_GFINDEX4D(cctkGH,i,j,k,2)] = (PRIMS[VZ] + betaz[index])*lapseL_inv;"
   ]
  },
  {
   "cell_type": "markdown",
   "metadata": {},
   "source": [
    "<a id='computing_lorentz_factor__update_bi'></a>\n",
    "\n",
    "## Step 1.c: Computing the Lorentz factor $\\gamma_{v}$ and updating $B^{i}$ \\[Back to [top](#toc)\\]\n",
    "$$\\label{computing_lorentz_factor__update_bi}$$\n",
    "\n",
    "We now want to compute the Lorentz factor $\\gamma_{v}=\\left(1+\\gamma_{ij}u^{i}u^{j}\\right)^{-1/2}$. Below we implement the quantity\n",
    "\n",
    "$$\n",
    "A = 1 - \\frac{1}{\\left(\\alpha u^{0}\\right)^{2}} = \\gamma_{ij}\\left(\\frac{v^{i}+\\beta^{i}}{\\alpha}\\right)\\left(\\frac{v^{j}+\\beta^{j}}{\\alpha}\\right)\\ ,\n",
    "$$\n",
    "\n",
    "which imply that $\\gamma_{v}=\\alpha u^{0}$. First let us show that this is indeed the case. Consider\n",
    "\n",
    "$$\n",
    "\\begin{align}\n",
    "A \n",
    "&= \\gamma_{ij}\\left(\\frac{v^{i}+\\beta^{i}}{\\alpha}\\right)\\left(\\frac{v^{j}+\\beta^{j}}{\\alpha}\\right)\\\\\n",
    "&= \\frac{\\gamma_{ij}}{\\alpha^{2}}\\left[\\frac{\\gamma^{ik}u_{k}}{u^{0}} - \\beta^{i} + \\beta^{i}\\right]\\left[\\frac{\\gamma^{j\\ell}u_{\\ell}}{u^{0}} - \\beta^{j} + \\beta^{j}\\right]\\\\\n",
    "&=\\frac{\\gamma_{ij}u^{i}u^{j}}{\\left(\\alpha u^{0}\\right)^{2}}\\\\\n",
    "&=\\frac{\\left(\\alpha u^{0}\\right)^{2}-1}{\\left(\\alpha u^{0}\\right)^{2}}\\\\\n",
    "&=1 - \\frac{1}{\\left(\\alpha u^{0}\\right)^{2}}\\ \\\\\n",
    "\\implies &\\boxed{A = 1 - \\frac{1}{\\left(\\alpha u^{0}\\right)^{2}}}\\ ,\n",
    "\\end{align}\n",
    "$$\n",
    "\n",
    "where when going from line 1 to 2 and from line 3 to 4 we have used eqs. (53) and (56) from [Duez *et al.*](https://arxiv.org/pdf/astro-ph/0503420.pdf), respectively. Keep in mind that the equation we are going to implement below is\n",
    "\n",
    "$$\n",
    "\\boxed{{\\rm one\\_minus\\_one\\_over\\_alpha\\_u0\\_squared} = \\gamma_{ij}\\left(\\frac{v^{i}+\\beta^{i}}{\\alpha}\\right)\\left(\\frac{v^{j}+\\beta^{j}}{\\alpha}\\right)}\\ ,\n",
    "$$\n",
    "\n",
    "but it is important to know that this equation also equals $A$ above.\n",
    "\n",
    "Finally, we update the `Bvec` array with the appropriate (`Bx`,`By`,`Bz`) values."
   ]
  },
  {
   "cell_type": "code",
   "execution_count": 4,
   "metadata": {},
   "outputs": [
    {
     "name": "stdout",
     "output_type": "stream",
     "text": [
      "Appending to ../Convert_to_HydroBase/src/Convert_to_HydroBase.C\n"
     ]
    }
   ],
   "source": [
    "%%writefile -a $srcdir/Convert_to_HydroBase.C\n",
    "\n",
    "\n",
    "        // \\alpha u^0 = 1/sqrt(1+γ^ij u_i u_j) = \\Gamma = w_lorentz\n",
    "        // First compute u^0:\n",
    "        // Derivation of first equation:\n",
    "        // \\gamma_{ij} (v^i + \\beta^i)(v^j + \\beta^j)/(\\alpha)^2 \n",
    "        //   = \\gamma_{ij} 1/(u^0)^2 ( \\gamma^{ik} u_k \\gamma^{jl} u_l /(\\alpha)^2 <- Using Eq. 53 of arXiv:astro-ph/0503420\n",
    "        //   = 1/(u^0 \\alpha)^2 u_j u_l \\gamma^{jl}  <- Since \\gamma_{ij} \\gamma^{ik} = \\delta^k_j\n",
    "        //   = 1/(u^0 \\alpha)^2 ( (u^0 \\alpha)^2 - 1 ) <- Using Eq. 56 of arXiv:astro-ph/0503420\n",
    "        //   = 1 - 1/(u^0 \\alpha)^2 <= 1\n",
    "        CCTK_REAL shiftxL = betax[index];\n",
    "        CCTK_REAL shiftyL = betay[index];\n",
    "        CCTK_REAL shiftzL = betaz[index];\n",
    "\n",
    "        CCTK_REAL gxxL = gxx[index];\n",
    "        CCTK_REAL gxyL = gxy[index];\n",
    "        CCTK_REAL gxzL = gxz[index];\n",
    "        CCTK_REAL gyyL = gyy[index];\n",
    "        CCTK_REAL gyzL = gyz[index];\n",
    "        CCTK_REAL gzzL = gzz[index];\n",
    "\n",
    "        CCTK_REAL one_minus_one_over_alpha_u0_squared = (gxxL* SQR(PRIMS[VX] + shiftxL) +\n",
    "                                                         2.0*gxyL*(PRIMS[VX] + shiftxL)*(PRIMS[VY] + shiftyL) +\n",
    "                                                         2.0*gxzL*(PRIMS[VX] + shiftxL)*(PRIMS[VZ] + shiftzL) +\n",
    "                                                         gyyL* SQR(PRIMS[VY] + shiftyL) +\n",
    "                                                         2.0*gyzL*(PRIMS[VY] + shiftyL)*(PRIMS[VZ] + shiftzL) +\n",
    "                                                         gzzL* SQR(PRIMS[VZ] + shiftzL) )*SQR(lapseL_inv);\n",
    "        /*** Check for superluminal velocity ***/\n",
    "        //FIXME: Instead of >1.0, should be one_minus_one_over_alpha_u0_squared > ONE_MINUS_ONE_OVER_GAMMA_SPEED_LIMIT_SQUARED, for consistency with conserv_to_prims routines\n",
    "\n",
    "        if(one_minus_one_over_alpha_u0_squared > 1.0) {\n",
    "          CCTK_VInfo(CCTK_THORNSTRING,\"Convert_to_HydroBase WARNING: Found superluminal velocity. This should have been caught by IllinoisGRMHD.\");\n",
    "        }\n",
    "\n",
    "        // A = 1.0-one_minus_one_over_alpha_u0_squared = 1-(1-1/(al u0)^2) = 1/(al u0)^2\n",
    "        // 1/sqrt(A) = al u0\n",
    "        CCTK_REAL alpha_u0 = 1.0/sqrt(1.0-one_minus_one_over_alpha_u0_squared);\n",
    "        if(std::isnan(alpha_u0*lapseL_inv)) printf(\"BAD FOUND NAN ALPHAU0 CALC: %.15e %.15e %.15e\\n\",alpha_u0,lapseL_inv,one_minus_one_over_alpha_u0_squared);\n",
    "\n",
    "        w_lorentz[index] = alpha_u0;\n",
    "\n",
    "        Bvec[CCTK_GFINDEX4D(cctkGH,i,j,k,0)] = PRIMS[BX_CENTER];\n",
    "        Bvec[CCTK_GFINDEX4D(cctkGH,i,j,k,1)] = PRIMS[BY_CENTER];\n",
    "        Bvec[CCTK_GFINDEX4D(cctkGH,i,j,k,2)] = PRIMS[BZ_CENTER];\n",
    "\n",
    "      }\n",
    "}\n"
   ]
  },
  {
   "cell_type": "markdown",
   "metadata": {},
   "source": [
    "<a id='convert_to_hydrobase__param'></a>\n",
    "\n",
    "# Step 2: The `param.ccl` file \\[Back to [top](#toc)\\]\n",
    "$$\\label{convert_to_hydrobase__param}$$\n",
    "\n",
    "The `param.ccl` file sets up parameters that are used by the `Convert_to_HydroBase` ETK thorn. These parameters are accessed as globals after calling the `DECLARE_CCTK_PARAMETERS` macro.\n",
    "\n",
    "When declaring a parameter, we have the following notation\n",
    "\n",
    "<pre>\n",
    "<font color=\"blue\">TYPE</font> <font color=\"green\">name</font> <font color=\"red\">\"Comment\"</font> <font color=\"purple\">STEERABLE=?</font>\n",
    "{\n",
    "minimum allowed value:maximum allowed value :: <font color=\"red\">\"Comment\"</font>\n",
    "other possible value #1                     :: <font color=\"red\">\"Comment\"</font>\n",
    "other possible value #2                     :: <font color=\"red\">\"Comment\"</font>\n",
    "         ...                                ::    ...\n",
    "final possible value                        :: <font color=\"red\">\"Comment\"</font>\n",
    "} <font color=\"orange\">Default value</font>\n",
    "</pre>\n",
    "\n",
    "\n",
    "The *STEERABLE* option is either set to never (default value, for which the keyword is not necessary at all) or to ALWAYS, which allows for the value of the parameter to change after set to its initial value. For example, when declaring the $\\Gamma_{\\rm th}$ parameter below, we have\n",
    "\n",
    "<pre>\n",
    "<font color=\"blue\">REAL</font> <font color=\"green\">Gamma_th</font> <font color=\"red\">\"thermal gamma parameter\"</font>\n",
    "{\n",
    " 0:* :: <font color=\"red\">\"Physical values\"</font>\n",
    "-1   :: <font color=\"red\">\"forbidden value to make sure it is explicitly set in the parfile\"</font>\n",
    "} <font color=\"orange\">-1</font>\n",
    "</pre>\n",
    "\n",
    "\n",
    "This declares the *REAL* (usually a macro for double) $\\Gamma_{\\rm th}$ parameter as ${\\rm Gamma\\_th}$. We allow this parameter to have only positive values, hence the notation `0:*`. The asterisk means \"any positive value is allowed\". The notation `*:*` then means \"any value is allowed. The second line above sets the value \"$-1$\" to be a forbidden value, which if read after the code starts would produce an error saying that this value has not been initialized properly. Finally, the default value of the variable is set to \"$-1$\", the forbidden value. Because the STEERABLE keyword is not explicitly set to ALWAYS above, this means that once set, the value of $\\Gamma_{\\rm th}$ cannot be changed.\n",
    "\n",
    "The `shares: THORN` syntax tells the ETK that the `Convert_to_HydroBase` thorn will share the parameters from the `THORN` thorn. For example, the following code\n",
    "\n",
    "<pre>\n",
    "<font color=\"purple\">shares:</font> <font color=\"blue\">ADMBase</font>\n",
    "<font color=\"purple\">USES CCTK_INT</font> <font color=\"green\">lapse_timelevels</font> \n",
    "<font color=\"purple\">USES CCTK_INT</font> <font color=\"green\">shift_timelevels</font> \n",
    "<font color=\"purple\">USES CCTK_INT</font> <font color=\"green\">metric_timelevels</font> \n",
    "</pre>\n",
    "\n",
    "will tell the ETK that the variables `lapse_timelevels`, `shift_timelevels`, and `metric_timelevels` from the [ADMBase ETK thorn](http://einsteintoolkit.org/thornguide/EinsteinBase/ADMBase/documentation.html) should also be available for the `Convert_to_HydroBase` thorn once the `DECLARE_CCTK_PARAMETERS` macro has been executed.\n",
    "\n",
    "For more details on how to build a `param.ccl` file, please refer to the [official Cactus documentation](https://einsteintoolkit.org/usersguide/UsersGuidech12.html)."
   ]
  },
  {
   "cell_type": "code",
   "execution_count": 5,
   "metadata": {},
   "outputs": [
    {
     "name": "stdout",
     "output_type": "stream",
     "text": [
      "Overwriting ../Convert_to_HydroBase/param.ccl\n"
     ]
    }
   ],
   "source": [
    "%%writefile $basedir/param.ccl\n",
    "# Parameter definitions for thorn convert_to_HydroBase\n",
    "# $Header:$\n",
    "\n",
    "#############################################################################\n",
    "### import HydroBase & ADMBase parameters\n",
    "\n",
    "shares: HydroBase\n",
    "USES CCTK_INT timelevels\n",
    "\n",
    "shares: ADMBase\n",
    "USES CCTK_INT lapse_timelevels\n",
    "USES CCTK_INT shift_timelevels\n",
    "USES CCTK_INT metric_timelevels\n",
    "\n",
    "shares: IllinoisGRMHD\n",
    "USES KEYWORD neos\n",
    "USES KEYWORD Gamma_th\n",
    "USES KEYWORD K_ppoly_tab0\n",
    "USES KEYWORD rho_ppoly_tab_in[10]\n",
    "USES KEYWORD Gamma_ppoly_tab_in[10]\n",
    "#############################################################################\n",
    "\n",
    "private:\n",
    "INT Convert_to_HydroBase_every \"How often to convert IllinoisGRMHD primitive variables to HydroBase (Valencia formulation) primitive variables? Needed for some ET-based diagnostics. NOT needed for pure IllinoisGRMHD runs.\"\n",
    "{\n",
    " 0:* :: \"zero (disable) or positive (every N iterations)\"\n",
    "} 0\n",
    "\n"
   ]
  },
  {
   "cell_type": "markdown",
   "metadata": {},
   "source": [
    "<a id='convert_to_hydrobase__interface'></a>\n",
    "\n",
    "# Step 3: The `interface.ccl` file \\[Back to [top](#toc)\\]\n",
    "$$\\label{convert_to_hydrobase__interface}$$\n",
    "\n",
    "\n",
    "The `interface.ccl` file sets up a few different things of how `Convert_to_HydroBase` interfaces with the rest of the toolkit. For starters, it tells which thorns are used by `Convert_to_HydroBase`, which is done using the keyword `inherits`.\n",
    "\n",
    "It also requests to use files from different thorns using the `uses include header: HEADER_FILE.h` command.\n",
    "\n",
    "For more details on how to build a `interface.ccl` file, please refer to the [official Cactus documentation](https://einsteintoolkit.org/usersguide/UsersGuidech12.html)."
   ]
  },
  {
   "cell_type": "code",
   "execution_count": 6,
   "metadata": {},
   "outputs": [
    {
     "name": "stdout",
     "output_type": "stream",
     "text": [
      "Overwriting ../Convert_to_HydroBase/interface.ccl\n"
     ]
    }
   ],
   "source": [
    "%%writefile $basedir/interface.ccl\n",
    "# Interface definition for thorn Convert_to_HydroBase\n",
    "# $Header:$\n",
    "\n",
    "implements: Convert_to_HydroBase\n",
    "inherits: grid HydroBase ADMBase IllinoisGRMHD\n",
    "\n",
    "uses include header: IllinoisGRMHD_headers.h\n",
    "\n"
   ]
  },
  {
   "cell_type": "markdown",
   "metadata": {},
   "source": [
    "<a id='convert_to_hydrobase__schedule'></a>\n",
    "\n",
    "# Step 4: The `schedule.ccl` file \\[Back to [top](#toc)\\]\n",
    "$$\\label{convert_to_hydrobase__schedule}$$\n",
    "\n",
    "The `schedule.ccl` file sets up the structure of a given ETK run. It tells when the functions of `Convert_to_HydroBase` must be called and in what order. The general form of a scheduling is\n",
    "\n",
    "<pre>\n",
    "<font color=\"blue\">schedule</font> <font color=\"green\">name</font> <font color=\"purple\">IN</font> <font color=\"orange\">thorn_name</font> <font color=\"purple\">as</font> <font color=\"green\">alias</font> <font color=\"purple\">after</font> <font color=\"green\">afunct_1</font> ... <font color=\"purple\">after</font> <font color=\"green\">afunct_n</font> <font color=\"purple\">before</font> <font color=\"green\">bfunct_1</font> ... <font color=\"purple\">before</font> <font color=\"green\">bfunct_m</font>\n",
    "{\n",
    "LANG:    <font color=\"purple\">function programming language</font>\n",
    "OPTIONS: <font color=\"purple\">options</font>\n",
    "SYNC:    <font color=\"purple\">sync options</font>\n",
    "} <font color=\"red\">\"Comment\"</font>\n",
    "</pre>\n",
    "\n",
    "Following the notation above, the <font color=\"blue\">schedule</font> keyword sets up the function whose name is <font color=\"green\">name</font> defined <font color=\"purple\">IN</font> the ETK thorn <font color=\"orange\">thorn_name</font>. We are also allowed to set an <font color=\"green\">alias</font>, if the function name is too long, but this is optional. We then set exactly when the function should be called, i.e. by saying it should be called <font color=\"purple\">before</font> and/or <font color=\"purple\">after</font> other functions.\n",
    "\n",
    "Inside curly braces, we set up the programming language of the function, e.g. C, options, e.g. LOCAL, and whether or not variables need to be synchronized with other functions. Finally, one can place a commend outside the curly braces, explaining the schedule just implemented.\n",
    "\n",
    "For more details on how to build a `schedule.ccl` file, please refer to the [official Cactus documentation](https://einsteintoolkit.org/usersguide/UsersGuidech12.html)."
   ]
  },
  {
   "cell_type": "code",
   "execution_count": 7,
   "metadata": {},
   "outputs": [
    {
     "name": "stdout",
     "output_type": "stream",
     "text": [
      "Overwriting ../Convert_to_HydroBase/schedule.ccl\n"
     ]
    }
   ],
   "source": [
    "%%writefile $basedir/schedule.ccl\n",
    "# Schedule definitions for thorn Convert_to_HydroBase\n",
    "# $Header:$\n",
    "\n",
    "SCHEDULE Convert_to_HydroBase AT CCTK_INITIAL AFTER SetTmunu\n",
    "{\n",
    "  LANG: C\n",
    "} \"Convert IllinoisGRMHD-native variables to HydroBase\"\n",
    "\n",
    "SCHEDULE Convert_to_HydroBase AT CCTK_ANALYSIS BEFORE compute_bi_b2_Poyn_fluxET BEFORE particle_tracerET BEFORE VolumeIntegralGroup BEFORE convert_to_MHD_3velocity AFTER ML_BSSN_evolCalcGroup\n",
    "{\n",
    "  OPTIONS: GLOBAL-EARLY,LOOP-LOCAL\n",
    "  LANG: C\n",
    "} \"Convert IllinoisGRMHD-native variables to HydroBase\"\n",
    "\n"
   ]
  },
  {
   "cell_type": "markdown",
   "metadata": {},
   "source": [
    "<a id='convert_to_hydrobase__make'></a>\n",
    "\n",
    "# Step 5: The `make.code.defn` file \\[Back to [top](#toc)\\]\n",
    "$$\\label{convert_to_hydrobase__make}$$\n",
    "\n",
    "The `make.code.defn` file tells the toolkit which files should be compiled during the ETK build."
   ]
  },
  {
   "cell_type": "code",
   "execution_count": 8,
   "metadata": {},
   "outputs": [
    {
     "name": "stdout",
     "output_type": "stream",
     "text": [
      "Overwriting ../Convert_to_HydroBase/src/make.code.defn\n"
     ]
    }
   ],
   "source": [
    "%%writefile $srcdir/make.code.defn\n",
    "# Main make.code.defn file for thorn Convert_to_HydroBase\n",
    "# $Header:$\n",
    "\n",
    "# Source files in this directory\n",
    "SRCS = Convert_to_HydroBase.C\n",
    "\n",
    "# Subdirectories containing source files\n",
    "SUBDIRS = \n",
    "\n"
   ]
  },
  {
   "cell_type": "markdown",
   "metadata": {},
   "source": [
    "<a id='code_validation'></a>\n",
    "\n",
    "# Step 6: Code validation \\[Back to [top](#toc)\\]\n",
    "$$\\label{code_validation}$$\n",
    "\n",
    "First we download the original `IllinoisGRMHD` source code and then compare it to the source code generated by this tutorial notebook."
   ]
  },
  {
   "cell_type": "code",
   "execution_count": 9,
   "metadata": {},
   "outputs": [],
   "source": [
    "# # Verify if the code generated by this tutorial module\n",
    "# # matches the original IllinoisGRMHD source code\n",
    "\n",
    "# # First download the original IllinoisGRMHD source code\n",
    "# import urllib\n",
    "# from os import path\n",
    "\n",
    "# original_IGM_file_url  = \"https://bitbucket.org/zach_etienne/wvuthorns/raw/5611b2f0b17135538c9d9d17c7da062abe0401b6/IllinoisGRMHD/src/A_i_rhs_no_gauge_terms.C\"\n",
    "# original_IGM_file_name = \"A_i_rhs_no_gauge_terms-original.C\"\n",
    "# original_IGM_file_path = os.path.join(IGM_src_dir_path,original_IGM_file_name)\n",
    "\n",
    "# # Then download the original IllinoisGRMHD source code\n",
    "# # We try it here in a couple of ways in an attempt to keep\n",
    "# # the code more portable\n",
    "# try:\n",
    "#     original_IGM_file_code = urllib.request.urlopen(original_IGM_file_url).read().decode(\"utf-8\")\n",
    "#     # Write down the file the original IllinoisGRMHD source code\n",
    "#     with open(original_IGM_file_path,\"w\") as file:\n",
    "#         file.write(original_IGM_file_code)\n",
    "# except:\n",
    "#     try:\n",
    "#         original_IGM_file_code = urllib.urlopen(original_IGM_file_url).read().decode(\"utf-8\")\n",
    "#         # Write down the file the original IllinoisGRMHD source code\n",
    "#         with open(original_IGM_file_path,\"w\") as file:\n",
    "#             file.write(original_IGM_file_code)\n",
    "#     except:\n",
    "#         # If all else fails, hope wget does the job\n",
    "#         !wget -O $original_IGM_file_path $original_IGM_file_url\n",
    "\n",
    "# # Perform validation\n",
    "# Validation__A_i_rhs_no_gauge_terms__C  = !diff $original_IGM_file_path $outfile_path__A_i_rhs_no_gauge_terms__C\n",
    "\n",
    "# if Validation__A_i_rhs_no_gauge_terms__C == []:\n",
    "#     # If the validation passes, we do not need to store the original IGM source code file\n",
    "#     !rm $original_IGM_file_path\n",
    "#     print(\"Validation test for A_i_rhs_no_gauge_terms.C: PASSED!\")\n",
    "# else:\n",
    "#     # If the validation fails, we keep the original IGM source code file\n",
    "#     print(\"Validation test for A_i_rhs_no_gauge_terms.C: FAILED!\")\n",
    "#     # We also print out the difference between the code generated\n",
    "#     # in this tutorial module and the original IGM source code\n",
    "#     print(\"Diff:\")\n",
    "#     for diff_line in Validation__A_i_rhs_no_gauge_terms__C:\n",
    "#         print(diff_line)"
   ]
  },
  {
   "cell_type": "markdown",
   "metadata": {},
   "source": [
    "<a id='latex_pdf_output'></a>\n",
    "\n",
    "# Step 7: Output this notebook to $\\LaTeX$-formatted PDF file \\[Back to [top](#toc)\\]\n",
    "$$\\label{latex_pdf_output}$$\n",
    "\n",
    "The following code cell converts this Jupyter notebook into a proper, clickable $\\LaTeX$-formatted PDF file. After the cell is successfully run, the generated PDF may be found in the root NRPy+ tutorial directory, with filename\n",
    "[Tutorial-IllinoisGRMHD__ETKThorn__Convert_to_HydroBase.pdf](Tutorial-IllinoisGRMHD__ETKThorn__Convert_to_HydroBase.pdf) (Note that clicking on this link may not work; you may need to open the PDF file through another means)."
   ]
  },
  {
   "cell_type": "code",
   "execution_count": 10,
   "metadata": {},
   "outputs": [],
   "source": [
    "latex_nrpy_style_path = os.path.join(nrpy_dir_path,\"latex_nrpy_style.tplx\")\n",
    "#!jupyter nbconvert --to latex --template $latex_nrpy_style_path --log-level='WARN' Tutorial-IllinoisGRMHD__ETKThorn__Convert_to_HydroBase.ipynb\n",
    "#!pdflatex -interaction=batchmode Tutorial-IllinoisGRMHD__ETKThorn__Convert_to_HydroBase.tex\n",
    "#!pdflatex -interaction=batchmode Tutorial-IllinoisGRMHD__ETKThorn__Convert_to_HydroBase.tex\n",
    "#!pdflatex -interaction=batchmode Tutorial-IllinoisGRMHD__ETKThorn__Convert_to_HydroBase.tex\n",
    "!rm -f Tut*.out Tut*.aux Tut*.log"
   ]
  }
 ],
 "metadata": {
  "kernelspec": {
   "display_name": "Python 3",
   "language": "python",
   "name": "python3"
  },
  "language_info": {
   "codemirror_mode": {
    "name": "ipython",
    "version": 3
   },
   "file_extension": ".py",
   "mimetype": "text/x-python",
   "name": "python",
   "nbconvert_exporter": "python",
   "pygments_lexer": "ipython3",
   "version": "3.8.0"
  }
 },
 "nbformat": 4,
 "nbformat_minor": 2
}
