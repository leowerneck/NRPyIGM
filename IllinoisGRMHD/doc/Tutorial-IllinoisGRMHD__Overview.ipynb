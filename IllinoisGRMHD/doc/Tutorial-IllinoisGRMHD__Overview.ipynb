{
 "cells": [
  {
   "cell_type": "markdown",
   "metadata": {},
   "source": [
    "<script async src=\"https://www.googletagmanager.com/gtag/js?id=UA-59152712-8\"></script>\n",
    "<script>\n",
    "  window.dataLayer = window.dataLayer || [];\n",
    "  function gtag(){dataLayer.push(arguments);}\n",
    "  gtag('js', new Date());\n",
    "\n",
    "  gtag('config', 'UA-59152712-8');\n",
    "</script>\n",
    "\n",
    "# IllinoisGRMHD: Basic equations and modules\n",
    "\n",
    "## Authors: Leo Werneck & Zach Etienne\n",
    "\n",
    "\n",
    "<a id='top'></a>\n",
    "\n",
    "## The structure of `IllinoisGRMHD`:\n",
    "$$\\label{top}$$\n",
    "\n",
    "* [**Introduction**](#introduction)\n",
    "* [**Required citations**](#required_citations)"
   ]
  },
  {
   "cell_type": "markdown",
   "metadata": {},
   "source": [
    "We now set up an overview of `IllinoisGRMHD` algorithm, in the order that they are used by the [Einstein Toolkit](http://einsteintoolkit.org/) (ETK):\n",
    "\n",
    "* **Step 1**: Converting [ETK](http://einsteintoolkit.org/) generated initial data so that it can be used by `IllinoisGRMHD` ([**tutorial/documentation**](Tutorial-IllinoisGRMHD__ID_converter.ipynb)). Here we outline the algorithm:\n",
    "    * **Step 1.a**: The driver of this algorithm is the function `set_IllinoisGRMHD_metric_GRMHD_variables_based_on_HydroBase_and_ADMBase_variables()` ([**tutorial/documentation**](Tutorial-IllinoisGRMHD__ID_converter.ipynb#id_converter)).\n",
    "    * **Step 1.b**: We compute BSSN quantities from the ADM quantities, which are set by the [ETK](http://einsteintoolkit.org/), using the `IllinoisGRMHD_convert_ADM_to_BSSN__enforce_detgtij_eq_1__and_compute_gtupij()` function ([**tutorial/documentation**](Tutorial-IllinoisGRMHD__convert_ADM_to_BSSN__enforce_detgtij_eq_1__and_compute_gtupij.ipynb#convert_adm_to_bssn__det_gammabar_eq_1)).\n",
    "    * **Step 1.c**: We verify that the initial data is indeed \"cold\", which is an assumption made by `IllinoisGRMHD`. To do this, we compute $P_{\\rm cold}$ from $\\rho_{b}$ and compare it with the total pressure $P$ from the initial data. To compute $P_{\\rm cold}$ we use the `find_polytropic_K_and_Gamma_index()` function ([**tutorial/documentation**](Tutorial-IllinoisGRMHD__EoS_lowlevel_functs.ipynb#ppeos__c_code__find_polytropic_k_and_gamma_index)) to find which piece of the single or piecewise polytropic EOS we should use. Calling this index $j$, we then compute $P_{\\rm cold} = K_{j}\\rho_{b}^{\\Gamma_{j}}$, and verify whether or not $\\left|P-P_{\\rm cold}\\right|$ is smaller than an acceptable threshold.\n",
    "    * **Step 1.d**: Compute, in order, $\\left(A_{i},v^{i},B^{i}_{\\rm stagger},B^{i}\\right)$.\n",
    "    * **Step 1.e**: Enforce physical limits on primitives, $\\left(P,\\rho_{b},v^{i}\\right)$, and compute conservatives, $\\left(\\rho_{\\star},\\tilde{S}_{i},\\tilde{\\tau}\\right)$. This is done using the `IllinoisGRMHD_enforce_limits_on_primitives_and_recompute_conservs()` function ([**tutorial/documentation**](Tutorial-IllinoisGRMHD__apply_tau_floor__enforce_limits_on_primitives_and_recompute_conservs.ipynb#enforce_limits_on_primitives_and_recompute_conservs))."
   ]
  },
  {
   "cell_type": "markdown",
   "metadata": {},
   "source": [
    "* **Step 2**: The `Convert_to_HydroBase` ETK thorn ([**tutorial/documentation**](Tutorial-IllinoisGRMHD__ETKThorn__Convert_to_HydroBase.ipynb)). This thorn is responsible for "
   ]
  },
  {
   "cell_type": "markdown",
   "metadata": {},
   "source": [
    "* The GRMHD evolution equations:\n",
    "    * GRMHD evolution equations driver ([**tutorial/documentation**](Tutorial-IllinoisGRMHD__driver_evaluate_MHD_rhs.ipynb))\n",
    "    * $\\partial_{t}A_{i}^{\\rm no\\ gauge\\ terms}$ ([**tutorial/documentation**](Tutorial-IllinoisGRMHD__A_i_rhs_no_gauge_terms.ipynb))\n",
    "    * $\\partial_{t}A_{i}^{\\rm gauge\\ terms}$ ([**tutorial/documentation**](Tutorial-IllinoisGRMHD__Lorenz_psi6phi_rhs__add_gauge_terms_to_A_i_rhs.ipynb))\n",
    "    * $\\partial_{t}\\left[\\sqrt{\\gamma}\\Phi\\right]$ ([**tutorial/documentation**](Tutorial-IllinoisGRMHD__Lorenz_psi6phi_rhs__add_gauge_terms_to_A_i_rhs.ipynb))\n",
    "    * Computing flux and source terms for the conservatives evolution equations ([**tutorial/documentation**](Tutorial-IllinoisGRMHD__add_fluxes_and_source_terms_to_hydro_rhss.ipynb))\n",
    "    * Computing extrinsic curvature terms for the evolution equation of $\\tilde{\\tau}$ ([**tutorial/documentation**](Tutorial-IllinoisGRMHD__compute_tau_rhs_extrinsic_curvature_terms_and_TUPMUNU.ipynb))\n",
    "\n",
    "* Computing $\\left(B^{i},B^{i}_{\\rm stagger}\\right)$ from $A_{i}$ ([**tutorial/documentation**](Tutorial-IllinoisGRMHD__compute_B_and_Bstagger_from_A.ipynb))\n",
    "\n",
    "* The conservative-to-primitive main algorithm ([**tutorial/documentation**](Tutorial-IllinoisGRMHD__the_conservative_to_primitive_algorithm.ipynb))\n",
    "    * The `HARM` conservative-to-primitive algorithm ([**tutorial/documentation**](Tutorial-IllinoisGRMHD__harm_utoprim_2d.ipynb))\n",
    "    * Low level utility functions for the `HARM` conservative-to-primitive algorithm ([**tutorial/documentation**](Tutorial-IllinoisGRMHD__harm_u2p_util.ipynb))\n",
    "    * Imposing physical limits on primitives ([**tutorial/documentation**](Tutorial-IllinoisGRMHD__apply_tau_floor__enforce_limits_on_primitives_and_recompute_conservs.ipynb))\n",
    "\n",
    "* The piecewise parabolic method (PPM) of [Colella & Woodward (1984)](https://crd.lbl.gov/assets/pubs_presos/AMCS/ANAG/A141984.pdf) ([**tutorial/documentation**](Tutorial-IllinoisGRMHD__reconstruct_set_of_prims_PPM.ipynb))\n",
    "\n",
    "* Equation of state functions (currently with support for single and piecewise polytropic equations of state) ([**tutorial/documentation**](Tutorial-IllinoisGRMHD__EoS_lowlevel_functs.ipynb))\n",
    "\n",
    "* `IllinoisGRMHD` utility functions and header files\n",
    "    * Computing BSSN quantitites from ADM quantities and enforcing the constraint $\\bar\\gamma=1$ ([**tutorial/documentation**](Tutorial-IllinoisGRMHD__convert_ADM_to_BSSN__enforce_detgtij_eq_1__and_compute_gtupij.ipynb))\n",
    "    * Imposing outer boundary conditions ([**tutorial/documentation**](Tutorial-IllinoisGRMHD__outer_boundaries.ipynb))\n",
    "    * Imposing equatorial symmetry (if enabled) ([**tutorial/documentation**](Tutorial-IllinoisGRMHD__symmetry__set_gzs_staggered_gfs.ipynb))\n",
    "    * Computing eigenvalues of a $3\\times3$ matrix ([**tutorial/documentation**](Tutorial-IllinoisGRMHD__eigen.ipynb))\n",
    "    * The `IllinoisGRMHD_headers.h` file ([**tutorial/documentation**](Tutorial-IllinoisGRMHD__IllinoisGRMHD_headers.ipynb))\n",
    "\n",
    "* Interfacing `IllinoisGRMHD` with the [Einstein Toolkit](http://einsteintoolkit.org/)\n",
    "    * Basic configuration files ([**tutorial/documentation**](Tutorial-IllinoisGRMHD__Configuration_files.ipynb))\n",
    "    * Symmetry configuration for `IllinoisGRMHD` variables ([**tutorial/documentation**](Tutorial-IllinoisGRMHD__InitSymBound.ipynb))\n",
    "    * Registrating variables to be used by the [MoL Thorn](http://einsteintoolkit.org/thornguide/CactusNumerical/MoL/documentation.html) from the [Einstein Toolkit](http://einsteintoolkit.org/) ([**tutorial/documentation**](Tutorial-IllinoisGRMHD__MoL_registration.ipynb))\n",
    "    * Copying initial data to extra time levels ([**tutorial/documentation**](Tutorial-IllinoisGRMHD__postpostinitial__set_symmetries__copy_timelevels.ipynb))"
   ]
  },
  {
   "cell_type": "markdown",
   "metadata": {},
   "source": [
    "<a id='introduction'></a>\n",
    "\n",
    "# Introduction \\[Back to [top](#top)\\]\n",
    "$$\\label{introduction}$$\n",
    "\n",
    "[`IllinoisGRMHD`](http://arxiv.org/abs/1501.07276) solves the equations of General Relativistic MagnetoHydroDynamics (GRMHD) using a high-resolution shock capturing scheme. It is a rewrite of the Illinois Numerical Relativity (ILNR) group's GRMHD code, and generates results that agree to roundoff error with that original code. Its feature set coincides with the features of the ILNR group's recent code (ca. 2009-2014), which was used in their modeling of the following systems:\n",
    "\n",
    "1. Magnetized circumbinary disk accretion onto binary black holes\n",
    "2. Magnetized black hole-neutron star mergers\n",
    "3. Magnetized Bondi flow, Bondi-Hoyle-Littleton accretion\n",
    "4. White dwarf-neutron star mergers\n",
    "\n",
    "`IllinoisGRMHD` is particularly good at modeling GRMHD flows into black holes without the need for excision. Its [HARM-based conservative-to-primitive solver](https://arxiv.org/abs/astro-ph/0512420) has also been modified to check the physicality of conservative variables prior to primitive inversion, and move them into the physical range if they become unphysical.\n",
    "\n",
    "Currently IllinoisGRMHD consists of\n",
    "\n",
    "1. the Piecewise Parabolic Method (PPM) for reconstruction, \n",
    "2. the Harten, Lax, van Leer (HLL/HLLE) approximate Riemann solver, and\n",
    "3. a modified HARM Conservative-to-Primitive solver. \n",
    "\n",
    "`IllinoisGRMHD` evolves the vector potential $A_{\\mu}$ (on staggered grids) instead of the magnetic fields ($B^i$) directly, to guarantee that the magnetic fields will remain divergenceless even at AMR boundaries. On uniform resolution grids, this vector potential formulation produces results equivalent to those generated using the standard, staggered flux-CT scheme. This scheme is based on that of [Del Zanna *et al.* (2003)](https://arxiv.org/abs/astro-ph/0210618).\n",
    "\n",
    "<a id='required_citations'></a>\n",
    "\n",
    "# Required and recommended citations \\[Back to [top](#top)\\]\n",
    "$$\\label{required_citations}$$\n",
    "\n",
    "* **(Required)** Etienne, Z. B., Paschalidis, V., Haas R., Mösta P., and Shapiro, S. L. IllinoisGRMHD: an open-source, user-friendly GRMHD code for dynamical spacetimes. Class. Quantum Grav. 32 (2015) 175009. ([arxiv:1501.07276](http://arxiv.org/abs/1501.07276)).\n",
    "* **(Required)** Noble, S. C., Gammie, C. F., McKinney, J. C., Del Zanna, L. Primitive Variable Solvers for Conservative General Relativistic Magnetohydrodynamics. Astrophysical Journal, 641, 626 (2006) ([astro-ph/0512420](https://arxiv.org/abs/astro-ph/0512420)).\n",
    "* **(Recommended)** Del Zanna, L., Bucciantini N., Londrillo, P. An efficient shock-capturing central-type scheme for multidimensional relativistic flows - II. Magnetohydrodynamics. A&A 400 (2) 397-413 (2003). DOI: 10.1051/0004-6361:20021641 ([astro-ph/0210618](https://arxiv.org/abs/astro-ph/0210618)). \n",
    "\n",
    "If using the version of `IllinoisGRMHD` with piecewise polytropic *or* tabulated (coming soon!) EOS support, then the following citation is also required:\n",
    "\n",
    "* **(Required)** Etienne, Z. B., Werneck, L., Paschalidis, V., Haas R., Mösta P., and Shapiro, S. L., *IllinoisGRMHD github repository* (2019). Source Code URL: https://github.com/zachetienne/nrpytutorial/tree/master/IllinoisGRMHD/."
   ]
  }
 ],
 "metadata": {
  "kernelspec": {
   "display_name": "Python 3",
   "language": "python",
   "name": "python3"
  },
  "language_info": {
   "codemirror_mode": {
    "name": "ipython",
    "version": 3
   },
   "file_extension": ".py",
   "mimetype": "text/x-python",
   "name": "python",
   "nbconvert_exporter": "python",
   "pygments_lexer": "ipython3",
   "version": "3.8.0"
  }
 },
 "nbformat": 4,
 "nbformat_minor": 2
}
