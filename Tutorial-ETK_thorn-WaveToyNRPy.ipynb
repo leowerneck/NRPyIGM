{
 "cells": [
  {
   "cell_type": "markdown",
   "metadata": {},
   "source": [
    "<script async src=\"https://www.googletagmanager.com/gtag/js?id=UA-59152712-8\"></script>\n",
    "<script>\n",
    "  window.dataLayer = window.dataLayer || [];\n",
    "  function gtag(){dataLayer.push(arguments);}\n",
    "  gtag('js', new Date());\n",
    "\n",
    "  gtag('config', 'UA-59152712-8');\n",
    "</script>\n",
    "\n",
    "# The Scalar Wave Equation: Creating an Einstein Toolkit thorn\n",
    "\n",
    "## Author: Zach Etienne\n",
    "### Formatting improvements courtesy Brandon Clark\n",
    "\n",
    "[comment]: <> (Abstract: TODO)\n",
    "\n",
    "[comment]: <> (Module Status and Validation Notes: TODO)\n",
    "\n",
    "### NRPy+ Source Code for this module: \n",
    "* [ScalarWave/ScalarWave_RHSs.py](../edit/ScalarWave/ScalarWave_RHSs.py) [\\[**tutorial**\\]](Tutorial-ScalarWave.ipynb) \n",
    "* [ScalarWave/InitialData_PlaneWave.py](../edit/ScalarWave/InitialData_PlaneWave.py) [\\[**tutorial**\\]](Tutorial-ScalarWave.ipynb)\n",
    "\n",
    "## Introduction:\n",
    "This tutorial notebook focuses on how to construct an Einstein Toolkit (ETK) thorn (module) that will set up the expressions for the right-hand sides of $\\partial_t u$ and $\\partial_t v$ for the scalar wave equation, as defined in the [Tutorial-ScalarWave.ipynb](Tutorial-ScalarWave.ipynb) NRPy+ tutorial notebook. In that module, we used NRPy+ to contruct the SymPy expressions for these scalar wave \"time-evolution equations\". This thorn is largely based on and should function similarly to the $\\text{WaveToyC}$ thorn included in the Einstein Toolkit (ETK) $\\text{CactusWave}$ arrangement.\n",
    "\n",
    "When interfaced properly with the ETK, this module will propagate the initial data for $u$ and $v$ defined in [IDScalarWaveNRPy](Tutorial-ETK_thorn-IDScalarWaveNRPy.ipynb) forward in time by integrating the equations for $\\partial_t u$ and $\\partial_t v$ subject to spatial boundary conditions. The time evolution itself is handled by the $\\text{MoL}$ (Method of Lines) thorn in the $\\text{CactusNumerical}$ arrangement, and the boundary conditions by the $\\text{Boundary}$ thorn in the $\\text{CactusBase}$ arrangement. \n",
    "\n",
    "Similar to the [IDScalarWaveNRPy](Tutorial-ETK_thorn-IDScalarWaveNRPy.ipynb) module, we will construct the WaveToyNRPy module in two steps.\n",
    "\n",
    "1. Call on NRPy+ to convert the SymPy expressions for the evolution equations into one C-code kernel.\n",
    "1. Write the C code and linkages to the Einstein Toolkit infrastructure (i.e., the .ccl files) to complete this Einstein Toolkit module."
   ]
  },
  {
   "cell_type": "markdown",
   "metadata": {},
   "source": [
    "<a id='toc'></a>\n",
    "\n",
    "# Table of Contents\n",
    "$$\\label{toc}$$\n",
    "\n",
    "This notebook is organized as follows\n",
    "\n",
    "1. [Step 1](#initializenrpy): Call on NRPy+ to convert the SymPy expressions for the Scalar Wave evolution equations' RHSs into a C-code kernel\n",
    "1. [Step 2](#etk): Interfacing with the Einstein Toolkit\n",
    "    1. [Step 2.a](#etkc): Constructing the Einstein Toolkit C-code calling functions that include the C code kernels\n",
    "    1. [Step 2.b](#cclfiles): CCL files - Define how this module interacts and interfaces with the larger Einstein Toolkit infrastructure\n",
    "    1. [Step 2.c](#etk_list): Add the C file to Einstein Toolkit compilation list\n",
    "1. [Step 3](#code_validation): Code Validation, Convergence Tests\n",
    "1. [Step 4](#latex_pdf_output): Output this notebook to $\\LaTeX$-formatted PDF file"
   ]
  },
  {
   "cell_type": "markdown",
   "metadata": {},
   "source": [
    "<a id='initializenrpy'></a>\n",
    "\n",
    "# Step 1: Call on NRPy+ to convert the SymPy expressions for the Scalar Wave evolution equations' RHSs into a C-code kernel \\[Back to [top](#toc)\\]\n",
    "$$\\label{initializenrpy}$$\n",
    "\n",
    "After importing the core modules, since we are writing an ETK thorn, we'll need to set `\"grid::GridFuncMemAccess\"` to `\"ETK\"`. SymPy expressions for the scalar wave evolution equations' RHSs are written inside [ScalarWave/ScalarWave_RHSs.py](../edit/ScalarWave/ScalarWave_RHSs.py), and we simply import them for use here.\n"
   ]
  },
  {
   "cell_type": "code",
   "execution_count": 1,
   "metadata": {},
   "outputs": [],
   "source": [
    "# Step 1a: Import needed NRPy+ core modules:\n",
    "import NRPy_param_funcs as par\n",
    "import indexedexp as ixp\n",
    "import grid as gri\n",
    "import finite_difference as fin\n",
    "from outputC import *\n",
    "import loop\n",
    "\n",
    "# Step 1b: This is an Einstein Toolkit (ETK) thorn. Here we\n",
    "#          tell NRPy+ that gridfunction memory access will \n",
    "#          therefore be in the \"ETK\" style.\n",
    "par.set_parval_from_str(\"grid::GridFuncMemAccess\",\"ETK\")\n",
    "\n",
    "# Step 1c: Set the finite differencing order. \n",
    "#         IMPORTANT: If you set FD_CENTDERIVS_ORDER to 8, be sure to use\n",
    "#                    the parameter files and scripts in the directory:\n",
    "#                    WaveToyNRPy/example_parfiles/8thOrder_ConvergenceTest\n",
    "#                    If you set FD_CENTDERIVS_ORDER to 4, be sure to use\n",
    "#                    the parameter files and scripts in the directory:\n",
    "#                    WaveToyNRPy/example_parfiles/4thOrder_ConvergenceTests\n",
    "par.set_parval_from_str(\"finite_difference::FD_CENTDERIVS_ORDER\",4) # SET TO EIGHTH ORDER\n",
    "\n",
    "# Step 1d: Call the ScalarWave_RHSs() function from within the\n",
    "#          ScalarWave/ScalarWave_RHSs.py module. \n",
    "#          This sets swrhs.uu_rhs and swrhs.vv_rhs.\n",
    "import ScalarWave.ScalarWave_RHSs as swrhs\n",
    "swrhs.ScalarWave_RHSs()"
   ]
  },
  {
   "cell_type": "markdown",
   "metadata": {},
   "source": [
    "Now, we need to output these expressions to C code kernel, which will be housed within a file named \"ScalarWave_RHSs.h\". This \"header\" file will be #include'd in the main C file below. Also, so that we can check that the number of ghost zones in the ETK numerical grid is set properly, we will also output the NRPy+ `finite_difference::FD_CENTDERIVS_ORDER parameter` to a `#`define statement within `NRPy_params.h`.\n"
   ]
  },
  {
   "cell_type": "code",
   "execution_count": 2,
   "metadata": {},
   "outputs": [],
   "source": [
    "# Step 2: Register uu_rhs and vv_rhs gridfunctions so \n",
    "#         they can be written to by NRPy.\n",
    "uu_rhs,vv_rhs = gri.register_gridfunctions(\"AUX\",[\"uu_rhs\",\"vv_rhs\"])\n",
    "\n",
    "# Step 3: Create the C code output kernel.\n",
    "scalar_RHSs_to_print = [\\\n",
    "                        lhrh(lhs=gri.gfaccess(\"out_gfs\",\"uu_rhs\"),rhs=swrhs.uu_rhs),\\\n",
    "                        lhrh(lhs=gri.gfaccess(\"out_gfs\",\"vv_rhs\"),rhs=swrhs.vv_rhs),]\n",
    "scalar_RHSs_CcodeKernel = fin.FD_outputC(\"returnstring\",scalar_RHSs_to_print)\n",
    "\n",
    "scalar_RHSs_looped = loop.loop([\"i2\",\"i1\",\"i0\"],[\"cctk_nghostzones[2]\",\"cctk_nghostzones[1]\",\"cctk_nghostzones[0]\"],\\\n",
    "                               [\"cctk_lsh[2]-cctk_nghostzones[2]\",\"cctk_lsh[1]-cctk_nghostzones[1]\",\\\n",
    "                                \"cctk_lsh[0]-cctk_nghostzones[0]\"],\\\n",
    "                               [\"1\",\"1\",\"1\"],[\"#pragma omp parallel for\",\"\",\"\"],\"\",scalar_RHSs_CcodeKernel)\n",
    "\n",
    "# Step 4: Create directories for the thorn if they don't exist.\n",
    "!mkdir WaveToyNRPy     2>/dev/null # 2>/dev/null: Don't throw an error if the directory already exists.\n",
    "!mkdir WaveToyNRPy/src 2>/dev/null # 2>/dev/null: Don't throw an error if the directory already exists.\n",
    "\n",
    "# Step 5: Write the C code kernel to file.\n",
    "with open(\"WaveToyNRPy/src/ScalarWave_RHSs.h\", \"w\") as file:\n",
    "    file.write(str(scalar_RHSs_looped))\n",
    "\n",
    "with open(\"WaveToyNRPy/src/NRPy_params.h\", \"w\") as file:\n",
    "    file.write(\"#define FD_CENTDERIVS_ORDER \"+str(par.parval_from_str(\"finite_difference::FD_CENTDERIVS_ORDER\"))+\"\\n\")"
   ]
  },
  {
   "cell_type": "markdown",
   "metadata": {},
   "source": [
    "<a id='etk'></a>\n",
    "\n",
    "# Step 2: Interfacing with the Einstein Toolkit \\[Back to [top](#toc)\\]\n",
    "$$\\label{etk}$$\n"
   ]
  },
  {
   "cell_type": "markdown",
   "metadata": {},
   "source": [
    "<a id='etkc'></a>\n",
    "\n",
    "## Step 2.a: Constructing the Einstein Toolkit C-code calling functions that include the C code kernels \\[Back to [top](#toc)\\]\n",
    "$$\\label{etkc}$$\n",
    "\n",
    "Now that we have generated the C code kernel `ScalarWave_RHSs.h` and the parameters file `NRPy_params.h`, we will need to write C code to make use of these files. To do this, we can simply follow the example within the [IDScalarWaveNRPy tutorial notebook](Tutorial-ETK_thorn-IDScalarWaveNRPy.ipynb). Functions defined by these files will be called by the Einstein Toolkit scheduler (specified in `schedule.ccl` below)."
   ]
  },
  {
   "cell_type": "code",
   "execution_count": 3,
   "metadata": {},
   "outputs": [
    {
     "name": "stdout",
     "output_type": "stream",
     "text": [
      "Overwriting WaveToyNRPy/src/WaveToyNRPy.c\n"
     ]
    }
   ],
   "source": [
    "%%writefile WaveToyNRPy/src/WaveToyNRPy.c\n",
    "#include <math.h>\n",
    "#include <stdio.h>\n",
    "\n",
    "#include \"cctk.h\"\n",
    "#include \"cctk_Arguments.h\"\n",
    "#include \"cctk_Parameters.h\"\n",
    "#include \"Symmetry.h\"\n",
    "\n",
    "#include \"NRPy_params.h\"\n",
    "\n",
    "void WaveToyNRPy_check_params(CCTK_ARGUMENTS) {\n",
    "    DECLARE_CCTK_ARGUMENTS;\n",
    "\n",
    "    if( (cctk_nghostzones[0] != FD_CENTDERIVS_ORDER/2) || \n",
    "        (cctk_nghostzones[1] != FD_CENTDERIVS_ORDER/2) || \n",
    "        (cctk_nghostzones[2] != FD_CENTDERIVS_ORDER/2) ) {\n",
    "            char error_string[200];\n",
    "            sprintf(error_string,\"WaveToyNRPy_check_params: expected ghost_size to be set to %d , but found ghostxyz = %d %d %d\\n\",\n",
    "                    FD_CENTDERIVS_ORDER/2,cctk_nghostzones[0],cctk_nghostzones[1],cctk_nghostzones[2]);\n",
    "            CCTK_WARN (0, error_string);\n",
    "    }\n",
    "}\n",
    "\n",
    "void WaveToyNRPy_set_rhs(CCTK_ARGUMENTS) {\n",
    "  DECLARE_CCTK_ARGUMENTS;\n",
    "  DECLARE_CCTK_PARAMETERS;\n",
    "  \n",
    "  const CCTK_REAL invdx0 = 1.0 / (CCTK_DELTA_SPACE(0));\n",
    "  const CCTK_REAL invdx1 = 1.0 / (CCTK_DELTA_SPACE(1));\n",
    "  const CCTK_REAL invdx2 = 1.0 / (CCTK_DELTA_SPACE(2));\n",
    "  \n",
    "#include \"ScalarWave_RHSs.h\" \n",
    "}\n",
    "\n",
    "/* Boundary Condition code adapted from WaveToyC thorn in ETK, implementing built-in\n",
    " * ETK BC functionality\n",
    " */\n",
    "void WaveToyNRPy_SelectBCs(CCTK_ARGUMENTS)\n",
    "{\n",
    "  DECLARE_CCTK_ARGUMENTS;\n",
    "  DECLARE_CCTK_PARAMETERS;\n",
    "\n",
    "  const char *bctype;\n",
    "\n",
    "\n",
    "  bctype = NULL;\n",
    "  if (CCTK_EQUALS(bound,\"flat\") || CCTK_EQUALS(bound,\"static\") ||\n",
    "      CCTK_EQUALS(bound,\"radiation\") || CCTK_EQUALS(bound,\"robin\") ||\n",
    "      CCTK_EQUALS(bound,\"none\"))\n",
    "  {\n",
    "    bctype = bound;\n",
    "  }\n",
    "  else if (CCTK_EQUALS(bound,\"zero\"))\n",
    "  {\n",
    "    bctype = \"scalar\";\n",
    "  }\n",
    "\n",
    "  /* Uses all default arguments, so invalid table handle -1 can be passed */\n",
    "  if (bctype && Boundary_SelectVarForBC (cctkGH, CCTK_ALL_FACES, 1, -1,\n",
    "                                         \"WaveToyNRPy::uuGF\", bctype) < 0)\n",
    "  {\n",
    "    CCTK_WARN (0, \"ScalarWave_Boundaries: Error selecting boundary condition\");\n",
    "  }\n",
    "  if (bctype && Boundary_SelectVarForBC (cctkGH, CCTK_ALL_FACES, 1, -1,\n",
    "                                         \"WaveToyNRPy::vvGF\", bctype) < 0)\n",
    "  {\n",
    "    CCTK_WARN (0, \"ScalarWave_Boundaries: Error selecting boundary condition\");\n",
    "  }\n",
    "}\n",
    "\n",
    "void WaveToyNRPy_InitSymBound(CCTK_ARGUMENTS)\n",
    "{\n",
    "  DECLARE_CCTK_ARGUMENTS;\n",
    "      \n",
    "  int sym[3];\n",
    "\n",
    "  sym[0] = 1;\n",
    "  sym[1] = 1;\n",
    "  sym[2] = 1;\n",
    "\n",
    "  SetCartSymVN(cctkGH, sym,\"WaveToyNRPy::uuGF\");\n",
    "  SetCartSymVN(cctkGH, sym,\"WaveToyNRPy::vvGF\");\n",
    "\n",
    "  return;\n",
    "}\n",
    "\n",
    "void WaveToyNRPy_RegisterVars(CCTK_ARGUMENTS)\n",
    "{\n",
    "  DECLARE_CCTK_ARGUMENTS;\n",
    "  DECLARE_CCTK_PARAMETERS;\n",
    "  \n",
    "  CCTK_INT ierr CCTK_ATTRIBUTE_UNUSED = 0;\n",
    "  /* Register all the evolved grid functions with MoL */\n",
    "  ierr += MoLRegisterEvolved(CCTK_VarIndex(\"WaveToyNRPy::uuGF\"),  CCTK_VarIndex(\"WaveToyNRPy::uu_rhsGF\"));\n",
    "  ierr += MoLRegisterEvolved(CCTK_VarIndex(\"WaveToyNRPy::vvGF\"),  CCTK_VarIndex(\"WaveToyNRPy::vv_rhsGF\"));\n",
    "  /* Register all the evolved Array functions with MoL */\n",
    "  return;\n",
    "}"
   ]
  },
  {
   "cell_type": "markdown",
   "metadata": {},
   "source": [
    "<a id='cclfiles'></a>\n",
    "\n",
    "## Step 2.b: CCL files - Define how this module interacts and interfaces with the larger Einstein Toolkit infrastructure \\[Back to [top](#toc)\\]\n",
    "$$\\label{cclfiles}$$\n",
    "\n",
    "Writing a module (\"thorn\") within the Einstein Toolkit requires that three \"ccl\" files be constructed, all in the root directory of the thorn:\n",
    "\n",
    "1. `interface.ccl`: defines the gridfunction groups needed, and provides keywords denoting what this thorn provides and what it should inherit from other thorns. This file governs the interaction between this thorn and others; more information can be found in the [official Einstein Toolkit documentation](http://cactuscode.org/documentation/referencemanual/ReferenceManualch8.html#x12-260000C2.2). \n",
    "With \"implements\", we give our thorn its unique name. By \"inheriting\" other thorns, we tell the Toolkit that we will rely on variables that exist within those functions. Then, we tell the toolkit that we want the scalars `uuGF` and `vvGF` to be visible to other thorns by using the keyword \"public\". "
   ]
  },
  {
   "cell_type": "code",
   "execution_count": 4,
   "metadata": {},
   "outputs": [
    {
     "name": "stdout",
     "output_type": "stream",
     "text": [
      "Overwriting WaveToyNRPy/interface.ccl\n"
     ]
    }
   ],
   "source": [
    "%%writefile WaveToyNRPy/interface.ccl\n",
    "implements: WaveToyNRPy\n",
    "\n",
    "inherits: Boundary grid\n",
    "\n",
    "USES INCLUDE: loopcontrol.h\n",
    "USES INCLUDE: Symmetry.h\n",
    "USES INCLUDE: Boundary.h\n",
    "    \n",
    "CCTK_INT FUNCTION MoLRegisterEvolved(CCTK_INT IN EvolvedIndex, CCTK_INT IN RHSIndex)\n",
    "USES FUNCTION MoLRegisterEvolved\n",
    "\n",
    "CCTK_INT FUNCTION GetBoundarySpecification(CCTK_INT IN size, CCTK_INT OUT ARRAY nboundaryzones, CCTK_INT OUT ARRAY is_internal, CCTK_INT OUT ARRAY is_staggered, CCTK_INT OUT ARRAY shiftout)\n",
    "USES FUNCTION GetBoundarySpecification\n",
    "\n",
    "CCTK_INT FUNCTION SymmetryTableHandleForGrid(CCTK_POINTER_TO_CONST IN cctkGH)\n",
    "USES FUNCTION SymmetryTableHandleForGrid\n",
    "\n",
    "CCTK_INT FUNCTION Boundary_SelectGroupForBC(CCTK_POINTER_TO_CONST IN GH, CCTK_INT IN faces, CCTK_INT IN boundary_width, CCTK_INT IN table_handle, CCTK_STRING IN group_name, CCTK_STRING IN bc_name)\n",
    "USES FUNCTION Boundary_SelectGroupForBC\n",
    "\n",
    "CCTK_INT FUNCTION Boundary_SelectVarForBC(CCTK_POINTER_TO_CONST IN GH, CCTK_INT IN faces, CCTK_INT IN boundary_width, CCTK_INT IN table_handle, CCTK_STRING IN var_name, CCTK_STRING IN bc_name)\n",
    "USES FUNCTION Boundary_SelectVarForBC\n",
    "\n",
    "public:\n",
    "cctk_real scalar_fields_rhs type = GF Timelevels=3 tags='tensortypealias=\"Scalar\"'\n",
    "{\n",
    "  uu_rhsGF,vv_rhsGF\n",
    "} \"The evolved scalar fields\"\n",
    "\n",
    "public:\n",
    "cctk_real scalar_fields type = GF Timelevels=3 tags='tensortypealias=\"Scalar\"'\n",
    "{\n",
    "  uuGF,vvGF\n",
    "} \"The evolved scalar fields\"\n"
   ]
  },
  {
   "cell_type": "markdown",
   "metadata": {},
   "source": [
    "2. `param.ccl`: specifies free parameters within the thorn, enabling them to be set at runtime. It is required to provide allowed ranges and default values for each parameter. More information on this file's syntax can be found in the [official Einstein Toolkit documentation](http://cactuscode.org/documentation/referencemanual/ReferenceManualch8.html#x12-265000C2.3). A number of parameters are defined, and more parameters can be easily added in later versions. We also set the number of timelevels we will store in memory."
   ]
  },
  {
   "cell_type": "code",
   "execution_count": 5,
   "metadata": {},
   "outputs": [
    {
     "name": "stdout",
     "output_type": "stream",
     "text": [
      "Overwriting WaveToyNRPy/param.ccl\n"
     ]
    }
   ],
   "source": [
    "%%writefile WaveToyNRPy/param.ccl\n",
    "shares: MethodOfLines\n",
    "\n",
    "USES CCTK_INT MoL_Num_Evolved_Vars\n",
    "USES CCTK_INT MoL_Num_ArrayEvolved_Vars\n",
    "\n",
    "restricted:\n",
    "CCTK_INT SimpleWave_MaxNumEvolvedVars \"Number of evolved variables used by this thorn\" ACCUMULATOR-BASE=MethodofLines::MoL_Num_Evolved_Vars STEERABLE=RECOVER\n",
    "{\n",
    "  2:2 :: \"Number of evolved variables used by this thorn\"\n",
    "} 2\n",
    "\n",
    "restricted:\n",
    "CCTK_INT SimpleWave_MaxNumArrayEvolvedVars \"Number of Array evolved variables used by this thorn\" ACCUMULATOR-BASE=MethodofLines::MoL_Num_ArrayEvolved_Vars STEERABLE=RECOVER\n",
    "{\n",
    "  0:0 :: \"Number of Array evolved variables used by this thorn\"\n",
    "} 0\n",
    "\n",
    "restricted:\n",
    "KEYWORD bound \"Type of boundary condition to use\"\n",
    "{\n",
    "  \"flat\"      :: \"Flat (von Neumann, n grad phi = 0) boundary condition\"\n",
    "  \"static\"    :: \"Static (Dirichlet, dphi/dt=0) boundary condition\"\n",
    "  \"radiation\" :: \"Radiation boundary condition\"\n",
    "  \"robin\"     :: \"Robin (phi(r) = C/r) boundary condition\"\n",
    "  \"zero\"      :: \"Zero (Dirichlet, phi=0) boundary condition\"\n",
    "  \"none\"      :: \"Apply no boundary condition\"\n",
    "} \"static\"\n",
    "\n",
    "restricted:\n",
    "CCTK_INT timelevels \"Number of active timelevels\" STEERABLE=RECOVER\n",
    "{\n",
    "  0:3 :: \"\"\n",
    "} 3\n",
    "\n",
    "restricted:\n",
    "CCTK_REAL wavespeed \"The speed at which the wave propagates\"\n",
    "{\n",
    " *:* :: \"Wavespeed as a multiple of c\"\n",
    "} 1.0"
   ]
  },
  {
   "cell_type": "markdown",
   "metadata": {},
   "source": [
    "3. `schedule.ccl`: allocates storage for gridfunctions, defines how the thorn's functions should be scheduled in a broader simulation, and specifies the regions of memory written to or read from gridfunctions. `schedule.ccl`'s official documentation may be found [here](http://cactuscode.org/documentation/referencemanual/ReferenceManualch8.html#x12-268000C2.4). \n",
    "\n",
    "We first assign storage for both scalar gridfunctions, and then specify the standardized ETK \"scheduling bins\" in which we want each of our thorn's functions to run."
   ]
  },
  {
   "cell_type": "code",
   "execution_count": 6,
   "metadata": {},
   "outputs": [
    {
     "name": "stdout",
     "output_type": "stream",
     "text": [
      "Overwriting WaveToyNRPy/schedule.ccl\n"
     ]
    }
   ],
   "source": [
    "%%writefile WaveToyNRPy/schedule.ccl\n",
    "STORAGE: scalar_fields_rhs[timelevels]\n",
    "STORAGE: scalar_fields[timelevels]\n",
    "\n",
    "schedule WaveToyNRPy_InitSymBound at BASEGRID\n",
    "{\n",
    "  LANG: C\n",
    "  OPTIONS: global\n",
    "} \"Schedule symmetries\"\n",
    "\n",
    "schedule WaveToyNRPy_check_params at CCTK_PARAMCHECK\n",
    "{\n",
    "  LANG: C\n",
    "  OPTIONS: global\n",
    "} \"Check sanity of parameters\"\n",
    "\n",
    "schedule WaveToyNRPy_set_rhs as WaveToy_Evolution IN MoL_CalcRHS\n",
    "{\n",
    "  LANG: C\n",
    "  READS: uuGF(Everywhere)\n",
    "  READS: vvGF(Everywhere)\n",
    "  WRITES: uu_rhsGF(Interior)\n",
    "  WRITES: VV_rhsGF(Interior)\n",
    "    # FIXME: Add syncs\n",
    "} \"Evolution of 3D wave equation\"\n",
    "\n",
    "schedule WaveToyNRPy_SelectBCs in MoL_PostStep\n",
    "{\n",
    "  LANG: C\n",
    "  OPTIONS: level\n",
    "  SYNC: scalar_fields\n",
    "} \"Boundaries of 3D wave equation\"\n",
    "\n",
    "schedule GROUP ApplyBCs as WaveToyNRPy_ApplyBCs in MoL_PostStep after WaveToyNRPy_SelectBCs\n",
    "{\n",
    "} \"Apply boundary conditions\"\n",
    "\n",
    "\n",
    "schedule GROUP ApplyBCs as WaveToyNRPy_ApplyBCs at POSTRESTRICT\n",
    "{\n",
    "} \"Apply boundary conditions\"\n",
    "\n",
    "schedule WaveToyNRPy_RegisterVars in MoL_Register\n",
    "{\n",
    "  LANG: C\n",
    "  OPTIONS: meta\n",
    "} \"Register Variables for MoL\"\n"
   ]
  },
  {
   "cell_type": "markdown",
   "metadata": {},
   "source": [
    "<a id='etk_list'></a>\n",
    "\n",
    "## Step 2.c: Add the C file to Einstein Toolkit compilation list \\[Back to [top](#toc)\\]\n",
    "$$\\label{etk_list}$$\n",
    "\n",
    "We will also need `make.code.defn`, which indicates the list of files that need to be compiled. This thorn only has the one C file to compile."
   ]
  },
  {
   "cell_type": "code",
   "execution_count": 7,
   "metadata": {},
   "outputs": [
    {
     "name": "stdout",
     "output_type": "stream",
     "text": [
      "Overwriting WaveToyNRPy/src/make.code.defn\n"
     ]
    }
   ],
   "source": [
    "%%writefile WaveToyNRPy/src/make.code.defn\n",
    "SRCS = WaveToyNRPy.c"
   ]
  },
  {
   "cell_type": "markdown",
   "metadata": {},
   "source": [
    "<a id='code_validation'></a>\n",
    "\n",
    "# Step 3: Code Validation, Convergence Tests \\[Back to [top](#toc)\\]\n",
    "$$\\label{code_validation}$$\n",
    "\n",
    "We have performed a number of convergence tests with $\\text{WaveToyNRPy}$ and $\\text{IDScalarWaveNRPy}$ within the ETK, which are presented below. \n",
    "\n",
    "**One and three-dimensional scalar wave equation code tests, adopting fourth-order finite differencing, coupled to RK4 method-of-lines for time integration**\n",
    "\n",
    "Inside the directory *`WaveToyNRPy/example_parfiles/4thOrder_ConvergenceTests/`* are the files used for this convergence test:\n",
    "1. **1D-planewave-\\*.par** : ETK parameter files needed for performing the 1D tests. These parameter files set up a sinusoidal wave propagating along the x-axis of a numerical grid that is of minimal extent in the y and z directions, but extends from -12 to +12 along the x-axis (in units of $\\omega=k=c=1$). The parameter files are identical, except one has grid resolution that is twice as high (so the errors should drop in the higher resolution case by a factor of $2^4$, since we adopt fourth-order-convergent timestepping and spatial finite differencing.)\n",
    "1. **planewave_along_3D_diagonal\\*.par** : ETK parameter files needed for performing the 3D tests. These parameter files set up a sinusoidal plane wave propagating along the x=y=z diagonal of a 3D numerical grid that extends from -12 to +12 along the x-, y-, and z-axis (in units of $\\omega=k=c=1$). The parameter files are identical, except one has grid resolution that is twice as high (so the errors should drop in the higher resolution case by a factor of $2^4$, since we adopt fourth-order-convergent timestepping and spatial finite differencing.)\n",
    "1. **runscript.sh** : Runs the cactus executable (assumed to be named *cactus_etilgrmhd-FD4*) for all of the above parameter files.\n",
    "    1. **convert_IOASCII_1D_to_gnuplot.sh** : Used by **runscript.sh** to convert the 1D output from the execution into a format that [gnuplot](http://gnuplot.info/) can recognize.\n",
    "1. **gnuplot_script** : Script for creating code validation convergence plots with [gnuplot](http://gnuplot.info/).\n",
    "\n",
    "**Fourth-order code validation test results:**\n",
    "\n",
    "We start with the 1D tests. The plot below shows the discrepancy between numerical and exact solutions to the scalar wave equation at two different resolutions: purple is low resolution ($\\Delta x_{\\rm low}=0.4$) and green is high resolution ($\\Delta x_{\\rm high}=0.2$). Since this test adopts fourth-order finite differencing for spatial derivatives and fourth-order Runge-Kutta (RK4) for timestepping, we would expect this error to drop by a factor of approximately $(\\Delta x_{\\rm low}/\\Delta x_{\\rm high})^4 = (0.4/0.2)^4 = 2^4=16$ when going from low to high resolution, and after rescaling the error in the high-resolution case by 16, we see that indeed it overlaps the low-resolution result quite nicely, confirming fourth-order convergence."
   ]
  },
  {
   "cell_type": "code",
   "execution_count": 8,
   "metadata": {},
   "outputs": [
    {
     "data": {
      "image/png": "[encoded data removed]",
      "text/plain": [
       "<IPython.core.display.Image object>"
      ]
     },
     "execution_count": 8,
     "metadata": {
      "image/png": {
       "height": 600,
       "width": 600
      }
     },
     "output_type": "execute_result"
    }
   ],
   "source": [
    "from IPython.display import Image\n",
    "Image(\"./WaveToyNRPy/example_parfiles/4thOrder_ConvergenceTests/out-RK4-FD4-1D.png\", width=600, height=600)"
   ]
  },
  {
   "cell_type": "markdown",
   "metadata": {},
   "source": [
    "Next we perform the same test, but with a plane wave propagating along the x=y=z diagonal. This test verifies that errors in propagation along the y and z directions converge to zero as expected as well."
   ]
  },
  {
   "cell_type": "code",
   "execution_count": 9,
   "metadata": {},
   "outputs": [
    {
     "data": {
      "image/png": "[encoded data removed]",
      "text/plain": [
       "<IPython.core.display.Image object>"
      ]
     },
     "execution_count": 9,
     "metadata": {
      "image/png": {
       "height": 600,
       "width": 600
      }
     },
     "output_type": "execute_result"
    }
   ],
   "source": [
    "Image(\"./WaveToyNRPy/example_parfiles/4thOrder_ConvergenceTests/out-RK4-FD4-3D.png\", width=600, height=600)"
   ]
  },
  {
   "cell_type": "markdown",
   "metadata": {},
   "source": [
    "#### Three-dimensional scalar wave equation code tests, adopting *eighth*-order finite differencing, coupled to *RK8* method-of-lines for time integration\n",
    "\n",
    "Inside the directory *`WaveToyNRPy/example_parfiles/8thOrder_ConvergenceTests/`* are the files used for this convergence test:\n",
    "1. **planewave_along_3D_diagonal\\*.par** : ETK parameter files needed for performing the 3D tests. These parameter files set up a sinusoidal plane wave propagating along the x=y=z diagonal of a 3D numerical grid that extends from -12 to +12 along the x-, y-, and z-axis (in units of $\\omega=k=c=1$). The parameter files are identical, except one has grid resolution that is twice as high (so the errors should drop in the higher resolution case by a factor of $2^4$, since we adopt fourth-order-convergent timestepping and spatial finite differencing.)\n",
    "1. **runscript.sh** : Runs the cactus executable (assumed to be named *cactus_etilgrmhd-FD8*) for all of the above parameter files.\n",
    "    1. **convert_IOASCII_1D_to_gnuplot.sh** : Used by **runscript.sh** to convert the 1D output from the execution into a format that [gnuplot](http://gnuplot.info/) can recognize.\n",
    "1. **gnuplot_script** : Script for creating code validation convergence plots with [gnuplot](http://gnuplot.info/).\n",
    "\n",
    "**Eighth-order code validation test results:**\n",
    "\n",
    "The plot below shows the discrepancy between numerical and exact solutions to the scalar wave equation at two different resolutions: purple is low resolution ($\\Delta x_{\\rm low}=0.4$) and green is high resolution ($\\Delta x_{\\rm high}=0.2$). Since this test adopts **eighth**-order finite differencing for spatial derivatives and **eighth**-order Runge-Kutta (RK8) for timestepping, we would expect this error to drop by a factor of approximately $(\\Delta x_{\\rm low}/\\Delta x_{\\rm high})^8 = (0.4/0.2)^8 = 2^8=256$ when going from low to high resolution, and after rescaling the error in the high-resolution case by 16, we see that indeed it overlaps the low-resolution result quite nicely, confirming fourth-order convergence."
   ]
  },
  {
   "cell_type": "code",
   "execution_count": 10,
   "metadata": {},
   "outputs": [
    {
     "data": {
      "image/png": "[encoded data removed]",
      "text/plain": [
       "<IPython.core.display.Image object>"
      ]
     },
     "execution_count": 10,
     "metadata": {
      "image/png": {
       "height": 600,
       "width": 600
      }
     },
     "output_type": "execute_result"
    }
   ],
   "source": [
    "Image(\"WaveToyNRPy/example_parfiles/8thOrder_ConvergenceTest/FD8-RK8__test_output_plot.png\", width=600, height=600)"
   ]
  },
  {
   "cell_type": "markdown",
   "metadata": {},
   "source": [
    "<a id='latex_pdf_output'></a>\n",
    "\n",
    "# Step 4: Output this notebook to $\\LaTeX$-formatted PDF file \\[Back to [top](#toc)\\]\n",
    "$$\\label{latex_pdf_output}$$\n",
    "\n",
    "The following code cell converts this Jupyter notebook into a proper, clickable $\\LaTeX$-formatted PDF file. After the cell is successfully run, the generated PDF may be found in the root NRPy+ tutorial directory, with filename\n",
    "[Tutorial-ETK_thorn-WaveToyNRPy.pdf](Tutorial-ETK_thorn-WaveToyNRPy.pdf) (Note that clicking on this link may not work; you may need to open the PDF file through another means.)"
   ]
  },
  {
   "cell_type": "code",
   "execution_count": 11,
   "metadata": {},
   "outputs": [
    {
     "name": "stdout",
     "output_type": "stream",
     "text": [
      "[NbConvertApp] Converting notebook Tutorial-ETK_thorn-WaveToyNRPy.ipynb to latex\n",
      "[NbConvertApp] Support files will be in Tutorial-ETK_thorn-WaveToyNRPy_files/\n",
      "[NbConvertApp] Making directory Tutorial-ETK_thorn-WaveToyNRPy_files\n",
      "[NbConvertApp] Making directory Tutorial-ETK_thorn-WaveToyNRPy_files\n",
      "[NbConvertApp] Making directory Tutorial-ETK_thorn-WaveToyNRPy_files\n",
      "[NbConvertApp] Writing 68462 bytes to Tutorial-ETK_thorn-WaveToyNRPy.tex\n",
      "This is pdfTeX, Version 3.14159265-2.6-1.40.18 (TeX Live 2017/Debian) (preloaded format=pdflatex)\n",
      " restricted \\write18 enabled.\n",
      "entering extended mode\n",
      "This is pdfTeX, Version 3.14159265-2.6-1.40.18 (TeX Live 2017/Debian) (preloaded format=pdflatex)\n",
      " restricted \\write18 enabled.\n",
      "entering extended mode\n",
      "This is pdfTeX, Version 3.14159265-2.6-1.40.18 (TeX Live 2017/Debian) (preloaded format=pdflatex)\n",
      " restricted \\write18 enabled.\n",
      "entering extended mode\n"
     ]
    }
   ],
   "source": [
    "!jupyter nbconvert --to latex --template latex_nrpy_style.tplx --log-level='WARN' Tutorial-ETK_thorn-WaveToyNRPy.ipynb\n",
    "!pdflatex -interaction=batchmode Tutorial-ETK_thorn-WaveToyNRPy.tex\n",
    "!pdflatex -interaction=batchmode Tutorial-ETK_thorn-WaveToyNRPy.tex\n",
    "!pdflatex -interaction=batchmode Tutorial-ETK_thorn-WaveToyNRPy.tex\n",
    "!rm -f Tut*.out Tut*.aux Tut*.log"
   ]
  }
 ],
 "metadata": {
  "kernelspec": {
   "display_name": "Python 3",
   "language": "python",
   "name": "python3"
  },
  "language_info": {
   "codemirror_mode": {
    "name": "ipython",
    "version": 3
   },
   "file_extension": ".py",
   "mimetype": "text/x-python",
   "name": "python",
   "nbconvert_exporter": "python",
   "pygments_lexer": "ipython3",
   "version": "3.6.7"
  }
 },
 "nbformat": 4,
 "nbformat_minor": 2
}
