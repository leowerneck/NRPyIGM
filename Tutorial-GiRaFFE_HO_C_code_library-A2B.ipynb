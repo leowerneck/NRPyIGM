{
 "cells": [
  {
   "cell_type": "markdown",
   "metadata": {},
   "source": [
    "<script async src=\"https://www.googletagmanager.com/gtag/js?id=UA-59152712-8\"></script>\n",
    "<script>\n",
    "  window.dataLayer = window.dataLayer || [];\n",
    "  function gtag(){dataLayer.push(arguments);}\n",
    "  gtag('js', new Date());\n",
    "\n",
    "  gtag('config', 'UA-59152712-8');\n",
    "</script>\n",
    "\n",
    "# `GiRaFFE_HO` C code library: A-to-B code\n",
    "\n",
    "## Author: Patrick Nelson\n",
    "\n",
    "<a id='intro'></a>\n",
    "\n",
    "**Module Status:** <font color=orange><b> Self-Validated </b></font>\n",
    "\n",
    "**Validation Notes:** This code produces the expected magnetic fields for Exact Wald, Aligned Rotator, and Alfv&eacute;n Wave initial data.\n",
    "\n",
    "# This module presents the functionality of [GiRaFFE_HO_A2B.py](../edit/GiRaFFE_HO/GiRaFFE_HO_A2B.py) and builds on it by providing C code to incorporate the generated header files into `GiRaFFE`.\n",
    "\n",
    "## Introduction: \n",
    "This writes and documents the C code that `GiRaFFE_HO` uses to compute the magnetic fields from the vector potential. This is a relatively straightforward calculation, but requires care to be taken in the ghost zones. \n",
    "\n",
    "We will need to compute $B^i$ everywhere in order to evolve $\\tilde{S}_i$. However, $B^i = \\epsilon^{ijk} \\partial_j A_k$ requires derivatives of $A_i$, so getting $B^i$ in the ghostzones (and not just on the interior) will require some finesse. A chief aspect of this will require using lower-order finite differencing in the ghost zones. To that end, we will create header files for each finite differencing order $\\leq 10$, as well as upwinded- and downwinded-derivatives at 2nd order. These will let us compute the derivative at the outermost gridpoints.\n"
   ]
  },
  {
   "cell_type": "markdown",
   "metadata": {},
   "source": [
    "<a id='toc'></a>\n",
    "\n",
    "# Table of Contents\n",
    "$$\\label{toc}$$\n",
    "\n",
    "This notebook is organized as follows\n",
    "\n",
    "1. [Step 1](#headers): Creating the header files\n",
    "    1. [Step 1.a](#bu_to_print): A useful function\n",
    "    1. [Step 1.b](#interior): Handling the interior and inner ghostzones\n",
    "    1. [Step 1.c](#outermost): Handling the outermost ghostzones\n",
    "    1. [Step 1.d](#library): Output from the .py file for validation\n",
    "1. [Step 2](#ccode): C code\n",
    "    1. [Step 2.a](#a2b): Deciding which header file to use\n",
    "    1. [Step 2.b](#driver): Looping over all ghostzones\n",
    "1. [Step 3](#code_validation): Code Validation against original C code\n",
    "1. [Step 4](#latex_pdf_output): Output this notebook to $\\LaTeX$-formatted PDF file"
   ]
  },
  {
   "cell_type": "code",
   "execution_count": 1,
   "metadata": {},
   "outputs": [],
   "source": [
    "import os\n",
    "import cmdline_helper as cmd\n",
    "outdir = \"GiRaFFE_HO/GiRaFFE_Ccode_validation/A2B/\"\n",
    "cmd.mkdir(outdir)"
   ]
  },
  {
   "cell_type": "markdown",
   "metadata": {},
   "source": [
    "<a id='headers'></a>\n",
    "\n",
    "## Step 1: Creating the header files \\[Back to [top](#toc)\\]\n",
    "$$\\label{headers}$$\n",
    "\n",
    "We start in the usual way - import the modules we need and set `DIM = 3`. We will also import the Levi-Civita symbol from `WeylScalars_Cartesian` and use it to set the Levi-Civita tensor $\\epsilon^{ijk} = [ijk]/\\sqrt{\\gamma}$."
   ]
  },
  {
   "cell_type": "code",
   "execution_count": 2,
   "metadata": {},
   "outputs": [],
   "source": [
    "# Step 1: The A-to-B driver\n",
    "from outputC import *\n",
    "import grid as gri\n",
    "import indexedexp as ixp\n",
    "import NRPy_param_funcs as par\n",
    "import finite_difference as fin\n",
    "\n",
    "# Set spatial dimension (must be 3 for BSSN)\n",
    "DIM = 3\n",
    "par.set_parval_from_str(\"grid::DIM\",DIM)\n",
    "\n",
    "# Register the gridfunction gammadet. This determinant will be calculated separately\n",
    "gammadet = gri.register_gridfunctions(\"AUXEVOL\",\"gammadet\")\n",
    "\n",
    "# Import the Levi-Civita symbol and build the corresponding tensor.\n",
    "# We already have a handy function to define the Levi-Civita symbol in WeylScalars\n",
    "import WeylScal4NRPy.WeylScalars_Cartesian as weyl\n",
    "LeviCivitaDDD = weyl.define_LeviCivitaSymbol_rank3()\n",
    "LeviCivitaUUU = ixp.zerorank3()\n",
    "for i in range(DIM):\n",
    "    for j in range(DIM):\n",
    "        for k in range(DIM):\n",
    "            LCijk = LeviCivitaDDD[i][j][k]\n",
    "            #LeviCivitaDDD[i][j][k] = LCijk * sp.sqrt(gho.gammadet)\n",
    "            LeviCivitaUUU[i][j][k] = LCijk / sp.sqrt(gammadet)\n"
   ]
  },
  {
   "cell_type": "markdown",
   "metadata": {},
   "source": [
    "<a id='bu_to_print'></a>\n",
    "\n",
    "### Step 1.a: A useful function \\[Back to [top](#toc)\\]\n",
    "$$\\label{bu_to_print}$$\n",
    "\n",
    "We will now create the structures we need: register the gridfunctions `AD` and `BU`, declare `AD_dD` for $A_{i,j}$ and zero `BU` for $B^i$. We will also define a quick function `set_BU_to_print()`; this will allow us to quickly rebuild the data structure that we will pass to `fin.FD_outputC()` each time we change `BU`.\n",
    "\n",
    "Also, we'll build the standard form of `BU` that we will use: $$B^i = \\epsilon^{ijk} A_{k,j}.$$"
   ]
  },
  {
   "cell_type": "code",
   "execution_count": 3,
   "metadata": {},
   "outputs": [],
   "source": [
    "# Step 1.a: A useful function\n",
    "AD = ixp.register_gridfunctions_for_single_rank1(\"EVOL\",\"AD\")\n",
    "BU = ixp.register_gridfunctions_for_single_rank1(\"AUXEVOL\",\"BU\")\n",
    "AD_dD = ixp.declarerank2(\"AD_dD\",\"nosym\")\n",
    "BU = ixp.zerorank1() # BU is already registered as a gridfunction, but we need to zero its values and declare it in this scope.\n",
    "# We can use this function to compactly reset to expressions to print at each FD order.\n",
    "def set_BU_to_print():\n",
    "    return [lhrh(lhs=gri.gfaccess(\"out_gfs\",\"BU0\"),rhs=BU[0]),\\\n",
    "            lhrh(lhs=gri.gfaccess(\"out_gfs\",\"BU1\"),rhs=BU[1]),\\\n",
    "            lhrh(lhs=gri.gfaccess(\"out_gfs\",\"BU2\"),rhs=BU[2])]            \n",
    "\n",
    "for i in range(DIM):\n",
    "    for j in range(DIM):\n",
    "        for k in range(DIM):\n",
    "            BU[i] += LeviCivitaUUU[i][j][k] * AD_dD[k][j]\n"
   ]
  },
  {
   "cell_type": "markdown",
   "metadata": {},
   "source": [
    "<a id='interior'></a>\n",
    "\n",
    "### Step 1.b: Handling the interior and inner ghostzones \\[Back to [top](#toc)\\]\n",
    "$$\\label{interior}$$\n",
    "\n",
    "Now, we can output the header files that will be used to calculate $B^i$ on the interior of the grid and on the non-outermost ghost zones. For each FD order $\\leq 10$, we will set the NRPy+ parameter `FD_CENTDERIVS_ORDER` to that order, then run `fin.FD_outputC()`, taking care to use our new function `set_BU_to_print()` to define *what* we are writing to the file."
   ]
  },
  {
   "cell_type": "code",
   "execution_count": 4,
   "metadata": {},
   "outputs": [
    {
     "name": "stdout",
     "output_type": "stream",
     "text": [
      "Wrote to file \"GiRaFFE_HO/GiRaFFE_Ccode_validation/A2B/B_from_A_order10.h\"\n",
      "Wrote to file \"GiRaFFE_HO/GiRaFFE_Ccode_validation/A2B/B_from_A_order8.h\"\n",
      "Wrote to file \"GiRaFFE_HO/GiRaFFE_Ccode_validation/A2B/B_from_A_order6.h\"\n",
      "Wrote to file \"GiRaFFE_HO/GiRaFFE_Ccode_validation/A2B/B_from_A_order4.h\"\n",
      "Wrote to file \"GiRaFFE_HO/GiRaFFE_Ccode_validation/A2B/B_from_A_order2.h\"\n"
     ]
    }
   ],
   "source": [
    "# Step 1.b: Grid interior and inner ghostzones\n",
    "par.set_parval_from_str(\"finite_difference::FD_CENTDERIVS_ORDER\", 10)\n",
    "fin.FD_outputC(os.path.join(outdir,\"B_from_A_order10.h\"),set_BU_to_print(),params=\"outCverbose=False\")\n",
    "\n",
    "par.set_parval_from_str(\"finite_difference::FD_CENTDERIVS_ORDER\", 8)\n",
    "fin.FD_outputC(os.path.join(outdir,\"B_from_A_order8.h\"),set_BU_to_print(),params=\"outCverbose=False\")\n",
    "\n",
    "par.set_parval_from_str(\"finite_difference::FD_CENTDERIVS_ORDER\", 6)\n",
    "fin.FD_outputC(os.path.join(outdir,\"B_from_A_order6.h\"),set_BU_to_print(),params=\"outCverbose=False\")\n",
    "\n",
    "par.set_parval_from_str(\"finite_difference::FD_CENTDERIVS_ORDER\", 4)\n",
    "fin.FD_outputC(os.path.join(outdir,\"B_from_A_order4.h\"),set_BU_to_print(),params=\"outCverbose=False\")\n",
    "\n",
    "par.set_parval_from_str(\"finite_difference::FD_CENTDERIVS_ORDER\", 2)\n",
    "fin.FD_outputC(os.path.join(outdir,\"B_from_A_order2.h\"),set_BU_to_print(),params=\"outCverbose=False\")"
   ]
  },
  {
   "cell_type": "markdown",
   "metadata": {},
   "source": [
    "<a id='outermost'></a>\n",
    "\n",
    "### Step 1.c: Handling the outermost ghostzones \\[Back to [top](#toc)\\]\n",
    "$$\\label{outermost}$$\n",
    "\n",
    "Finally, we will write the files that will handle the outermost ghost zones. Each of these ghostzones represents one face of a cube. Since there is no data outside the cube, we will use an up- or downwinded derivative so that we use only interior data. (For example, on the +x ghostzone, we will use a downwinded derivative in the x-direction.) This is what creates the difference between these loops and the one [above](#bu_to_print) - while we are building from the same equation as before, we define a derivative in one direction to be either up- or downwinded. So, we will need to create a total of six files: "
   ]
  },
  {
   "cell_type": "code",
   "execution_count": 5,
   "metadata": {},
   "outputs": [
    {
     "name": "stdout",
     "output_type": "stream",
     "text": [
      "Wrote to file \"GiRaFFE_HO/GiRaFFE_Ccode_validation/A2B/B_from_A_order2_dirx0_dnwind.h\"\n",
      "Wrote to file \"GiRaFFE_HO/GiRaFFE_Ccode_validation/A2B/B_from_A_order2_dirx0_upwind.h\"\n",
      "Wrote to file \"GiRaFFE_HO/GiRaFFE_Ccode_validation/A2B/B_from_A_order2_dirx1_dnwind.h\"\n",
      "Wrote to file \"GiRaFFE_HO/GiRaFFE_Ccode_validation/A2B/B_from_A_order2_dirx1_upwind.h\"\n",
      "Wrote to file \"GiRaFFE_HO/GiRaFFE_Ccode_validation/A2B/B_from_A_order2_dirx2_dnwind.h\"\n",
      "Wrote to file \"GiRaFFE_HO/GiRaFFE_Ccode_validation/A2B/B_from_A_order2_dirx2_upwind.h\"\n"
     ]
    }
   ],
   "source": [
    "# Step 1.c: Handling the outermost ghostzones\n",
    "# For the outermost points, we'll need a separate file for each face. \n",
    "# These will correspond to an upwinded and a downwinded file for each direction.\n",
    "AD_ddnD = ixp.declarerank2(\"AD_ddnD\",\"nosym\")\n",
    "for i in range(DIM):\n",
    "    BU[i] = 0\n",
    "    for j in range(DIM):\n",
    "        for k in range(DIM):\n",
    "            if j is 0:\n",
    "                BU[i] += LeviCivitaUUU[i][j][k] * AD_ddnD[k][j]\n",
    "            else:\n",
    "                BU[i] += LeviCivitaUUU[i][j][k] * AD_dD[k][j]\n",
    "\n",
    "fin.FD_outputC(os.path.join(outdir,\"B_from_A_order2_dirx0_dnwind.h\"),set_BU_to_print(),params=\"outCverbose=False\")\n",
    "\n",
    "AD_dupD = ixp.declarerank2(\"AD_dupD\",\"nosym\")\n",
    "for i in range(DIM):\n",
    "    BU[i] = 0\n",
    "    for j in range(DIM):\n",
    "        for k in range(DIM):\n",
    "            if j is 0:\n",
    "                BU[i] += LeviCivitaUUU[i][j][k] * AD_dupD[k][j]\n",
    "            else:\n",
    "                BU[i] += LeviCivitaUUU[i][j][k] * AD_dD[k][j]\n",
    "\n",
    "fin.FD_outputC(os.path.join(outdir,\"B_from_A_order2_dirx0_upwind.h\"),set_BU_to_print(),params=\"outCverbose=False\")\n",
    "\n",
    "for i in range(DIM):\n",
    "    BU[i] = 0\n",
    "    for j in range(DIM):\n",
    "        for k in range(DIM):\n",
    "            if j is 1:\n",
    "                BU[i] += LeviCivitaUUU[i][j][k] * AD_ddnD[k][j]\n",
    "            else:\n",
    "                BU[i] += LeviCivitaUUU[i][j][k] * AD_dD[k][j]\n",
    "\n",
    "fin.FD_outputC(os.path.join(outdir,\"B_from_A_order2_dirx1_dnwind.h\"),set_BU_to_print(),params=\"outCverbose=False\")\n",
    "for i in range(DIM):\n",
    "    BU[i] = 0\n",
    "    for j in range(DIM):\n",
    "        for k in range(DIM):\n",
    "            if j is 1:\n",
    "                BU[i] += LeviCivitaUUU[i][j][k] * AD_dupD[k][j]\n",
    "            else:\n",
    "                BU[i] += LeviCivitaUUU[i][j][k] * AD_dD[k][j]\n",
    "\n",
    "fin.FD_outputC(os.path.join(outdir,\"B_from_A_order2_dirx1_upwind.h\"),set_BU_to_print(),params=\"outCverbose=False\")\n",
    "\n",
    "for i in range(DIM):\n",
    "    BU[i] = 0\n",
    "    for j in range(DIM):\n",
    "        for k in range(DIM):\n",
    "            if j is 2:\n",
    "                BU[i] += LeviCivitaUUU[i][j][k] * AD_ddnD[k][j]\n",
    "            else:\n",
    "                BU[i] += LeviCivitaUUU[i][j][k] * AD_dD[k][j]\n",
    "\n",
    "fin.FD_outputC(os.path.join(outdir,\"B_from_A_order2_dirx2_dnwind.h\"),set_BU_to_print(),params=\"outCverbose=False\")\n",
    "for i in range(DIM):\n",
    "    BU[i] = 0\n",
    "    for j in range(DIM):\n",
    "        for k in range(DIM):\n",
    "            if j is 2:\n",
    "                BU[i] += LeviCivitaUUU[i][j][k] * AD_dupD[k][j]\n",
    "            else:\n",
    "                BU[i] += LeviCivitaUUU[i][j][k] * AD_dD[k][j]\n",
    "\n",
    "fin.FD_outputC(os.path.join(outdir,\"B_from_A_order2_dirx2_upwind.h\"),set_BU_to_print(),params=\"outCverbose=False\")"
   ]
  },
  {
   "cell_type": "markdown",
   "metadata": {},
   "source": [
    "<a id='library'></a>\n",
    "\n",
    "### Step 1.d: Output from the .py file for validation \\[Back to [top](#toc)\\]\n",
    "$$\\label{library}$$\n",
    "\n",
    "Now, let's use the python function `GiRaFFE_HO_A2B` to generate the copies that will actually be used by `GiRaFFE_standalone`. [Below](#code_validation), we'll validate the code we wrote here and make sure it's the same."
   ]
  },
  {
   "cell_type": "code",
   "execution_count": 6,
   "metadata": {},
   "outputs": [
    {
     "name": "stdout",
     "output_type": "stream",
     "text": [
      "Wrote to file \"GiRaFFE_HO/GiRaFFE_Ccode_library/A2B/B_from_A_order10.h\"\n",
      "Wrote to file \"GiRaFFE_HO/GiRaFFE_Ccode_library/A2B/B_from_A_order8.h\"\n",
      "Wrote to file \"GiRaFFE_HO/GiRaFFE_Ccode_library/A2B/B_from_A_order6.h\"\n",
      "Wrote to file \"GiRaFFE_HO/GiRaFFE_Ccode_library/A2B/B_from_A_order4.h\"\n",
      "Wrote to file \"GiRaFFE_HO/GiRaFFE_Ccode_library/A2B/B_from_A_order2.h\"\n",
      "Wrote to file \"GiRaFFE_HO/GiRaFFE_Ccode_library/A2B/B_from_A_order2_dirx0_dnwind.h\"\n",
      "Wrote to file \"GiRaFFE_HO/GiRaFFE_Ccode_library/A2B/B_from_A_order2_dirx0_upwind.h\"\n",
      "Wrote to file \"GiRaFFE_HO/GiRaFFE_Ccode_library/A2B/B_from_A_order2_dirx1_dnwind.h\"\n",
      "Wrote to file \"GiRaFFE_HO/GiRaFFE_Ccode_library/A2B/B_from_A_order2_dirx1_upwind.h\"\n",
      "Wrote to file \"GiRaFFE_HO/GiRaFFE_Ccode_library/A2B/B_from_A_order2_dirx2_dnwind.h\"\n",
      "Wrote to file \"GiRaFFE_HO/GiRaFFE_Ccode_library/A2B/B_from_A_order2_dirx2_upwind.h\"\n"
     ]
    }
   ],
   "source": [
    "gri.glb_gridfcs_list = []\n",
    "import GiRaFFE_HO.GiRaFFE_HO_A2B as A2B\n",
    "A2B.GiRaFFE_HO_A2B(\"GiRaFFE_HO/GiRaFFE_Ccode_library/A2B\")"
   ]
  },
  {
   "cell_type": "markdown",
   "metadata": {},
   "source": [
    "<a id='ccode'></a>\n",
    "\n",
    "## Step 2: C code \\[Back to [top](#toc)\\]\n",
    "$$\\label{ccode}$$\n",
    "\n",
    "With the header files created to actually calculate $B^i$ from $A_k$, we will write the C code to direct how those are used. We will start by including needed header files. We will then define `REAL` as type `double` (so that we can easily change it everywhere if we want to use a different precision) and the `IDX` macros that we use to access specific points in the gridfunction arrays. "
   ]
  },
  {
   "cell_type": "code",
   "execution_count": 7,
   "metadata": {},
   "outputs": [
    {
     "name": "stdout",
     "output_type": "stream",
     "text": [
      "Overwriting GiRaFFE_HO/GiRaFFE_Ccode_validation/A2B//driver_AtoB.c\n"
     ]
    }
   ],
   "source": [
    "%%writefile $outdir/driver_AtoB.c\n",
    "#include <math.h>\n",
    "#include <stdio.h>\n",
    "#include <stdlib.h>\n",
    "\n",
    "#ifndef REAL\n",
    "#define REAL double\n",
    "#include \"NGHOSTS.h\" // A NRPy+-generated file, which is set based on FD_CENTDERIVS_ORDER.\n",
    "#include \"../CurviBoundaryConditions/gridfunction_defines.h\"\n",
    "#define IDX4(g,i,j,k) \\\n",
    "( (i) + Nxx_plus_2NGHOSTS[0] * ( (j) + Nxx_plus_2NGHOSTS[1] * ( (k) + Nxx_plus_2NGHOSTS[2] * (g) ) ) )\n",
    "#define IDX3(i,j,k) ( (i) + Nxx_plus_2NGHOSTS[0] * ( (j) + Nxx_plus_2NGHOSTS[1] * (k) ) )\n",
    "// Assuming idx = IDX3(i,j,k). Much faster if idx can be reused over and over:\n",
    "#define IDX4pt(g,idx)   ( (idx) + (Nxx_plus_2NGHOSTS[0]*Nxx_plus_2NGHOSTS[1]*Nxx_plus_2NGHOSTS[2]) * (g) )\n",
    "#endif\n",
    "\n",
    "// In the standalone, these are already defined by the boundary conditions module.\n",
    "/*const int MAXFACE = -1;\n",
    "*const int NUL     = +0;\n",
    "*const int MINFACE = +1;\n",
    "*/\n"
   ]
  },
  {
   "cell_type": "markdown",
   "metadata": {},
   "source": [
    "<a id='a2b'></a>\n",
    "\n",
    "### Step 2.a: Deciding which header file to use \\[Back to [top](#toc)\\]\n",
    "$$\\label{a2b}$$\n",
    "\n",
    "The rest of this file will consist of two functions. The first, `AtoB`, will loop over the region specified by `i0min`, `i0max`, `i1min`, `i1max`, `i2min`, and `i2max`. At each point therein, it will calculate $B^i$ at the specified finite-differencing order. Note that if `ORDER = 0` is passed to this function, it will instead use second-order derivatives with an up- or downwinded derivative in one direction as appropriate, which is specified by the parameters `FACEX0`, `FACEX1`, and `FACEX2`."
   ]
  },
  {
   "cell_type": "code",
   "execution_count": 8,
   "metadata": {},
   "outputs": [
    {
     "name": "stdout",
     "output_type": "stream",
     "text": [
      "Appending to GiRaFFE_HO/GiRaFFE_Ccode_validation/A2B//driver_AtoB.c\n"
     ]
    }
   ],
   "source": [
    "%%writefile -a $outdir/driver_AtoB.c\n",
    "\n",
    "// Declare boundary condition FACE_UPDATE function,\n",
    "// which fills in the ghost zones with successively\n",
    "// lower order finite differencing\n",
    "void AtoB(const int ORDER, const int Nxx_plus_2NGHOSTS[3], const REAL *in_gfs, REAL *auxevol_gfs, const REAL dxx[3],\n",
    "          const int i0min, const int i0max, \n",
    "          const int i1min, const int i1max, \n",
    "          const int i2min, const int i2max, \n",
    "          const int FACEX0, const int FACEX1, const int FACEX2) {\n",
    "  \n",
    "  const REAL invdx0 = 1.0 / dxx[0];\n",
    "  const REAL invdx1 = 1.0 / dxx[1];\n",
    "  const REAL invdx2 = 1.0 / dxx[2];\n",
    "\n",
    "  if(ORDER==8) {\n",
    "    //printf(\"Computing A to B with Order = 8...\\n\");\n",
    "    for(int i2=i2min;i2<i2max;i2++) for(int i1=i1min;i1<i1max;i1++) for(int i0=i0min;i0<i0max;i0++) {\n",
    "        #include \"B_from_A_order8.h\"\n",
    "    }\n",
    "  } else if(ORDER==6) {\n",
    "    //printf(\"Computing A to B with Order = 6...\\n\");\n",
    "    for(int i2=i2min;i2<i2max;i2++) for(int i1=i1min;i1<i1max;i1++) for(int i0=i0min;i0<i0max;i0++) {\n",
    "        #include \"B_from_A_order6.h\"\n",
    "    }\n",
    "  } else if(ORDER==4) {\n",
    "    //printf(\"Computing A to B with Order = 4...\\n\");\n",
    "    for(int i2=i2min;i2<i2max;i2++) for(int i1=i1min;i1<i1max;i1++) for(int i0=i0min;i0<i0max;i0++) {\n",
    "        #include \"B_from_A_order4.h\"\n",
    "    }\n",
    "  } else if(ORDER==2) {\n",
    "    //printf(\"Computing A to B with Order = 2...\\n\");\n",
    "    for(int i2=i2min;i2<i2max;i2++) for(int i1=i1min;i1<i1max;i1++) for(int i0=i0min;i0<i0max;i0++) {\n",
    "        #include \"B_from_A_order2.h\"\n",
    "    } \n",
    "  } else if(ORDER==0) {\n",
    "    if(FACEX0==MAXFACE) {\n",
    "    //printf(\"Computing A to B at x = max...\\n\");\n",
    "        for(int i2=i2min;i2<i2max;i2++) for(int i1=i1min;i1<i1max;i1++) for(int i0=i0min;i0<i0max;i0++) {\n",
    "            #include \"B_from_A_order2_dirx0_dnwind.h\"\n",
    "        }\n",
    "    } else if(FACEX0==MINFACE) {\n",
    "    //printf(\"Computing A to B at x = min...\\n\");\n",
    "        for(int i2=i2min;i2<i2max;i2++) for(int i1=i1min;i1<i1max;i1++) for(int i0=i0min;i0<i0max;i0++) {\n",
    "            #include \"B_from_A_order2_dirx0_upwind.h\"\n",
    "        }\n",
    "    } else if(FACEX1==MAXFACE) {\n",
    "    //printf(\"Computing A to B at y = max...\\n\");\n",
    "        for(int i2=i2min;i2<i2max;i2++) for(int i1=i1min;i1<i1max;i1++) for(int i0=i0min;i0<i0max;i0++) {\n",
    "            #include \"B_from_A_order2_dirx1_dnwind.h\"\n",
    "        }\n",
    "    } else if(FACEX1==MINFACE) {\n",
    "    //printf(\"Computing A to B at y = min...\\n\");\n",
    "        for(int i2=i2min;i2<i2max;i2++) for(int i1=i1min;i1<i1max;i1++) for(int i0=i0min;i0<i0max;i0++) {\n",
    "            #include \"B_from_A_order2_dirx1_upwind.h\"\n",
    "        }\n",
    "    } else if(FACEX2==MAXFACE) {\n",
    "    //printf(\"Computing A to B at z = max...\\n\");\n",
    "        for(int i2=i2min;i2<i2max;i2++) for(int i1=i1min;i1<i1max;i1++) for(int i0=i0min;i0<i0max;i0++) {\n",
    "            #include \"B_from_A_order2_dirx2_dnwind.h\"\n",
    "        }\n",
    "    } else if(FACEX2==MINFACE) {\n",
    "    //printf(\"Computing A to B at z = min...\\n\");\n",
    "        for(int i2=i2min;i2<i2max;i2++) for(int i1=i1min;i1<i1max;i1++) for(int i0=i0min;i0<i0max;i0++) {\n",
    "            #include \"B_from_A_order2_dirx2_upwind.h\"\n",
    "        }\n",
    "    } else {\n",
    "        printf(\"ERROR. FACEX parameters not set properly.\\n\");\n",
    "        exit(1);\n",
    "    }\n",
    "  } else {\n",
    "    printf(\"ERROR. ORDER = %d not supported!\\n\",ORDER);\n",
    "    exit(1);\n",
    "  }\n",
    "}\n"
   ]
  },
  {
   "cell_type": "markdown",
   "metadata": {},
   "source": [
    "<a id='driver'></a>\n",
    "\n",
    "### Step 2.b: Looping over all ghostzones \\[Back to [top](#toc)\\]\n",
    "$$\\label{driver}$$\n",
    "\n",
    "This function is responsible for driving the logic needed to compute $B^i$ from $A_i$ whenever it is needed in the main code (typically done along with applying BCs after a timestep in the main code). We first calculate the order that we want on the interior of the grid from the parameter `NGHOSTS`. We set the boundaries `imin` and `imax` such that they define the interior of the grid. We also poison the values of $B^i$ by setting them to `NaN` everywhere: this will allow us to immediately tell if something is causing us to skip a point in the rest of the algorithm. \n",
    "\n",
    "With the preliminaries handled, we call `AtoB` at `ORDER` (which is being used for the rest of the derivatives throughout `GiRaFFE`). Note that `imin` and `imax` are passed such that they define the interior of the grid, and that the `FACEX` parameters are all `NUL` here. "
   ]
  },
  {
   "cell_type": "code",
   "execution_count": 9,
   "metadata": {},
   "outputs": [
    {
     "name": "stdout",
     "output_type": "stream",
     "text": [
      "Appending to GiRaFFE_HO/GiRaFFE_Ccode_validation/A2B//driver_AtoB.c\n"
     ]
    }
   ],
   "source": [
    "%%writefile -a $outdir/driver_AtoB.c\n",
    "\n",
    "void driver_A_to_B(const int Nxx[3],const int Nxx_plus_2NGHOSTS[3], const REAL dxx[3],const REAL *in_gfs,REAL *auxevol_gfs) {\n",
    "  \n",
    "  int ORDER = NGHOSTS*2;\n",
    "  for(int ii=0;ii<Nxx_plus_2NGHOSTS[2]*Nxx_plus_2NGHOSTS[1]*Nxx_plus_2NGHOSTS[0];ii++) {\n",
    "      auxevol_gfs[IDX4pt(BU0GF,ii)] = 1.0 / 0.0;\n",
    "      auxevol_gfs[IDX4pt(BU1GF,ii)] = 1.0 / 0.0;\n",
    "      auxevol_gfs[IDX4pt(BU2GF,ii)] = 1.0 / 0.0;\n",
    "  }\n",
    "\n",
    "  //printf(\"Starting A to B driver with Order = %d...\\n\",ORDER);\n",
    "  int imin[3] = { NGHOSTS, NGHOSTS, NGHOSTS };\n",
    "  int imax[3] = { Nxx[0]+NGHOSTS, Nxx[1]+NGHOSTS, Nxx[2]+NGHOSTS };\n",
    "  AtoB(ORDER, Nxx_plus_2NGHOSTS, in_gfs, auxevol_gfs,dxx, imin[0],imax[0],imin[1],imax[1],imin[2],imax[2], NUL,NUL,NUL);\n"
   ]
  },
  {
   "cell_type": "markdown",
   "metadata": {},
   "source": [
    "Now, we will handle the ghost zones. We first step down the order the next lower even number. Then, for each face (taking care to match the region specified by the `imin` and `imax` parameters with the appropriate `FACEX` values), we calculate $B^i$ in the innermost ghostzone. We also decrement `imin` and increment `imax`. This serves two purposes: the next time through the loop, `AtoB` will operate on the next-outer ghost zone, and the size of each face will increase, eventually allowing us to act on each point. \n",
    "\n",
    "We then repeat the process for each lower (even!) order until we reach the outermost ghost zone. "
   ]
  },
  {
   "cell_type": "code",
   "execution_count": 10,
   "metadata": {},
   "outputs": [
    {
     "name": "stdout",
     "output_type": "stream",
     "text": [
      "Appending to GiRaFFE_HO/GiRaFFE_Ccode_validation/A2B//driver_AtoB.c\n"
     ]
    }
   ],
   "source": [
    "%%writefile -a $outdir/driver_AtoB.c\n",
    "\n",
    "  while(ORDER>0) {\n",
    "      // After updating each face, adjust imin[] and imax[] \n",
    "      //   to reflect the newly-updated face extents.\n",
    "      ORDER -= 2;\n",
    "      AtoB(ORDER, Nxx_plus_2NGHOSTS, in_gfs, auxevol_gfs,dxx, imin[0]-1,imin[0], imin[1],imax[1], imin[2],imax[2], MINFACE,NUL,NUL); \n",
    "      if(ORDER!=0) imin[0]--;\n",
    "      AtoB(ORDER, Nxx_plus_2NGHOSTS, in_gfs, auxevol_gfs,dxx, imax[0],imax[0]+1, imin[1],imax[1], imin[2],imax[2], MAXFACE,NUL,NUL); \n",
    "      if(ORDER!=0) imax[0]++;\n",
    "\n",
    "      AtoB(ORDER, Nxx_plus_2NGHOSTS, in_gfs, auxevol_gfs,dxx, imin[0],imax[0], imin[1]-1,imin[1], imin[2],imax[2], NUL,MINFACE,NUL); \n",
    "      if(ORDER!=0) imin[1]--;\n",
    "      AtoB(ORDER, Nxx_plus_2NGHOSTS, in_gfs, auxevol_gfs,dxx, imin[0],imax[0], imax[1],imax[1]+1, imin[2],imax[2], NUL,MAXFACE,NUL); \n",
    "      if(ORDER!=0) imax[1]++;\n",
    "\n",
    "      AtoB(ORDER, Nxx_plus_2NGHOSTS, in_gfs, auxevol_gfs,dxx, imin[0],imax[0], imin[1],imax[1], imin[2]-1,imin[2], NUL,NUL,MINFACE); \n",
    "      if(ORDER!=0) imin[2]--;\n",
    "      AtoB(ORDER, Nxx_plus_2NGHOSTS, in_gfs, auxevol_gfs,dxx, imin[0],imax[0], imin[1],imax[1], imax[2],imax[2]+1, NUL,NUL,MAXFACE); \n",
    "      if(ORDER!=0) imax[2]++;\n",
    "    }\n",
    "}\n"
   ]
  },
  {
   "cell_type": "markdown",
   "metadata": {},
   "source": [
    "<a id='code_validation'></a>\n",
    "\n",
    "# Step 3: Code Validation against original C code \\[Back to [top](#toc)\\]\n",
    "$$\\label{code_validation}$$\n",
    "\n",
    "To validate the code in this tutorial we check for agreement between the files\n",
    "\n",
    "1. that were written in this tutorial and\n",
    "1. those that are stored in `GiRaFFE_HO/GiRaFFE_Ccode_library` or generated by `GiRaFFE_HO_A2B.py`\n"
   ]
  },
  {
   "cell_type": "code",
   "execution_count": 11,
   "metadata": {
    "scrolled": false
   },
   "outputs": [
    {
     "name": "stdout",
     "output_type": "stream",
     "text": [
      "Printing difference between original C code and this code...\n",
      "Checking file B_from_A_order10.h\n",
      "No difference. TEST PASSED!\n",
      "Checking file B_from_A_order8.h\n",
      "No difference. TEST PASSED!\n",
      "Checking file B_from_A_order6.h\n",
      "No difference. TEST PASSED!\n",
      "Checking file B_from_A_order4.h\n",
      "No difference. TEST PASSED!\n",
      "Checking file B_from_A_order2.h\n",
      "No difference. TEST PASSED!\n",
      "Checking file B_from_A_order2_dirx0_dnwind.h\n",
      "No difference. TEST PASSED!\n",
      "Checking file B_from_A_order2_dirx0_upwind.h\n",
      "No difference. TEST PASSED!\n",
      "Checking file B_from_A_order2_dirx1_dnwind.h\n",
      "No difference. TEST PASSED!\n",
      "Checking file B_from_A_order2_dirx1_upwind.h\n",
      "No difference. TEST PASSED!\n",
      "Checking file B_from_A_order2_dirx2_dnwind.h\n",
      "No difference. TEST PASSED!\n",
      "Checking file B_from_A_order2_dirx2_upwind.h\n",
      "No difference. TEST PASSED!\n",
      "Checking file driver_AtoB.c\n",
      "No difference. TEST PASSED!\n"
     ]
    }
   ],
   "source": [
    "import difflib\n",
    "import sys\n",
    "\n",
    "# Define the directory that we wish to validate against:\n",
    "valdir = \"GiRaFFE_HO/GiRaFFE_Ccode_library/A2B/\"\n",
    "\n",
    "print(\"Printing difference between original C code and this code...\")\n",
    "# Open the files to compare\n",
    "files_to_check = [\"B_from_A_order10.h\",\"B_from_A_order8.h\",\"B_from_A_order6.h\",\"B_from_A_order4.h\",\"B_from_A_order2.h\",\n",
    "                  \"B_from_A_order2_dirx0_dnwind.h\",\"B_from_A_order2_dirx0_upwind.h\",\n",
    "                  \"B_from_A_order2_dirx1_dnwind.h\",\"B_from_A_order2_dirx1_upwind.h\",\n",
    "                  \"B_from_A_order2_dirx2_dnwind.h\",\"B_from_A_order2_dirx2_upwind.h\",\n",
    "                  \"driver_AtoB.c\"]\n",
    "\n",
    "for file in files_to_check:\n",
    "    print(\"Checking file \" + file)\n",
    "    with open(os.path.join(valdir+file)) as file1, open(os.path.join(outdir+file)) as file2:\n",
    "        # Read the lines of each file\n",
    "        file1_lines = file1.readlines()\n",
    "        file2_lines = file2.readlines()\n",
    "        num_diffs = 0\n",
    "        for line in difflib.unified_diff(file1_lines, file2_lines, fromfile=os.path.join(valdir+file), tofile=os.path.join(outdir+file)):\n",
    "            sys.stdout.writelines(line)\n",
    "            num_diffs = num_diffs + 1\n",
    "        if num_diffs == 0:\n",
    "            print(\"No difference. TEST PASSED!\")\n",
    "        else:\n",
    "            print(\"ERROR: Disagreement found with .py file. See differences above.\")"
   ]
  },
  {
   "cell_type": "markdown",
   "metadata": {},
   "source": [
    "<a id='latex_pdf_output'></a>\n",
    "\n",
    "# Step 4: Output this notebook to $\\LaTeX$-formatted PDF file \\[Back to [top](#toc)\\]\n",
    "$$\\label{latex_pdf_output}$$\n",
    "\n",
    "The following code cell converts this Jupyter notebook into a proper, clickable $\\LaTeX$-formatted PDF file. After the cell is successfully run, the generated PDF may be found in the root NRPy+ tutorial directory, with filename\n",
    "[Tutorial-GiRaFFE_HO_C_code_library-A2B](TTutorial-GiRaFFE_HO_C_code_library-A2B.pdf) (Note that clicking on this link may not work; you may need to open the PDF file through another means.)"
   ]
  },
  {
   "cell_type": "code",
   "execution_count": 12,
   "metadata": {},
   "outputs": [
    {
     "name": "stdout",
     "output_type": "stream",
     "text": [
      "[NbConvertApp] Converting notebook Tutorial-GiRaFFE_HO_C_code_library-A2B.ipynb to latex\n",
      "[NbConvertApp] Writing 65777 bytes to Tutorial-GiRaFFE_HO_C_code_library-A2B.tex\n",
      "This is pdfTeX, Version 3.14159265-2.6-1.40.18 (TeX Live 2017/Debian) (preloaded format=pdflatex)\n",
      " restricted \\write18 enabled.\n",
      "entering extended mode\n",
      "This is pdfTeX, Version 3.14159265-2.6-1.40.18 (TeX Live 2017/Debian) (preloaded format=pdflatex)\n",
      " restricted \\write18 enabled.\n",
      "entering extended mode\n",
      "This is pdfTeX, Version 3.14159265-2.6-1.40.18 (TeX Live 2017/Debian) (preloaded format=pdflatex)\n",
      " restricted \\write18 enabled.\n",
      "entering extended mode\n"
     ]
    }
   ],
   "source": [
    "!jupyter nbconvert --to latex --template latex_nrpy_style.tplx --log-level='WARN' Tutorial-GiRaFFE_HO_C_code_library-A2B.ipynb\n",
    "!pdflatex -interaction=batchmode Tutorial-GiRaFFE_HO_C_code_library-A2B.tex\n",
    "!pdflatex -interaction=batchmode Tutorial-GiRaFFE_HO_C_code_library-A2B.tex\n",
    "!pdflatex -interaction=batchmode Tutorial-GiRaFFE_HO_C_code_library-A2B.tex\n",
    "!rm -f Tut*.out Tut*.aux Tut*.log"
   ]
  }
 ],
 "metadata": {
  "kernelspec": {
   "display_name": "Python 2",
   "language": "python",
   "name": "python2"
  },
  "language_info": {
   "codemirror_mode": {
    "name": "ipython",
    "version": 2
   },
   "file_extension": ".py",
   "mimetype": "text/x-python",
   "name": "python",
   "nbconvert_exporter": "python",
   "pygments_lexer": "ipython2",
   "version": "2.7.13"
  }
 },
 "nbformat": 4,
 "nbformat_minor": 2
}
