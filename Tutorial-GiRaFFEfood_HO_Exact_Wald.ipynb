{
 "cells": [
  {
   "cell_type": "markdown",
   "metadata": {},
   "source": [
    "<script async src=\"https://www.googletagmanager.com/gtag/js?id=UA-59152712-8\"></script>\n",
    "<script>\n",
    "  window.dataLayer = window.dataLayer || [];\n",
    "  function gtag(){dataLayer.push(arguments);}\n",
    "  gtag('js', new Date());\n",
    "\n",
    "  gtag('config', 'UA-59152712-8');\n",
    "</script>\n",
    "\n",
    "# Exact Wald `GiRaFFEfood` Initial Data for `GiRaFFE`\n",
    "\n",
    "## Author: Zach Etienne & Patrick Nelson\n",
    "### Formatting improvements courtesy Brandon Clark\n",
    "\n",
    "[comment]: <> (Abstract: TODO)\n",
    "\n",
    "### NRPy+ Source Code for this module: [GiRaFFEfood_HO/GiRaFFEfood_HO_Exact_Wald.py](../edit/GiRaFFEfood_HO/GiRaFFEfood_HO_Exact_Wald.py)\n",
    "\n",
    "**Module Status:** <font color='orange'><b> Self-Validated </b></font>\n",
    "\n",
    "**Validation Notes:** This tutorial notebook has been confirmed to be self-consistent with its corresponding NRPy+ module, as documented [below](#code_validation1). **Additional validation tests may have been performed, but are as yet, undocumented. (TODO)**\n",
    "\n",
    "## Introduction: \n",
    "With the `GiRaFFE` evolution thorn constructed, we now need to \"feed\" our giraffe with initial data to evolve. While there are several different choices of initial data we can use here, for the moment, we will only be implementing the \"Exact Wald\" initial data, given by Table 3 in [the original paper](https://arxiv.org/pdf/1704.00599.pdf):\n",
    "\\begin{align}\n",
    "A_{\\phi} &= \\frac{C_0}{2} r^2 \\sin^2 \\theta \\\\\n",
    "E_{\\phi} &= 2 M C_0 \\left( 1+ \\frac {2M}{r} \\right)^{-1/2} \\sin^2 \\theta \\\\\n",
    "\\end{align}\n",
    "(the unspecified components are set to 0). Here, $C_0$ is a constant that we will set to $1$ in our simulations. Now, to use this initial data scheme, we need to transform the above into the quantities actually tracked by `GiRaFFE` and HydroBase: $A_i$, $B^i$, $\\tilde{S}_i$, $v^i$, and $\\Phi$. Of these quantities, $\\texttt{GiRaFFEfood}$ will only set $A_i$, $v^i$, and $\\Phi=0$, then call a separate function to calculate  $\\tilde{S}_i$; `GiRaFFE` itself will call a function to set $B^i$ before the time-evolution begins. This can be done with eqs. 16 and 18, here given in that same order:\n",
    "\\begin{align}\n",
    "v^i &= \\alpha \\frac{\\epsilon^{ijk} E_j B_k}{B^2} -\\beta^i \\\\\n",
    "B^i &= \\frac{[ijk]}{\\sqrt{\\gamma}} \\partial_j A_k \\\\\n",
    "\\end{align}\n",
    "In the simulations, $B^i$ will be calculated numerically from $A_i$; however, it will be useful to analytically calculate $B^i$ to use calculating the initial $v^i$."
   ]
  },
  {
   "cell_type": "markdown",
   "metadata": {},
   "source": [
    "<a id='toc'></a>\n",
    "\n",
    "# Table of Contents:\n",
    "$$\\label{toc}$$\n",
    "\n",
    "This notebook is organized as follows\n",
    "\n",
    "1. [Step 1](#initializenrpy): Import core NRPy+ modules and set NRPy+ parameters\n",
    "1. [Step 2](#set_aphi_ephi): Set the vectors $A_{\\phi}$ and $E_{\\phi}$ in Spherical coordinates \n",
    "1. [Step 3](#jacobian): Use the Jacobian matrix to transform the vectors to Cartesian coordinates\n",
    "1. [Step 4](#vi): Calculate $v^i$ from $A_i$ and $E_i$\n",
    "    1. [Step 4.a](#code_validation1): Code Validation against `GiRaFFEfood_HO.GiRaFFEfood_HO` NRPy+ Module\n",
    "1. [Step 5](#si): Build the expression for $\\tilde{S}_i$\n",
    "    1. [Step 5.a](#code_validation2): Code Validation against `GiRaFFEfood_HO.GiRaFFEfood_HO` NRPy+ Module\n",
    "1. [Step 6](#latex_pdf_output): Output this notebook to $\\LaTeX$-formatted PDF file"
   ]
  },
  {
   "cell_type": "markdown",
   "metadata": {},
   "source": [
    "<a id='initializenrpy'></a>\n",
    "\n",
    "# Step 1: Import core NRPy+ modules and set NRPy+ parameters \\[Back to [top](#toc)\\]\n",
    "$$\\label{initializenrpy}$$\n",
    "\n",
    "Here, we will import the NRPy+ core modules and set the reference metric to Cartesian, set commonly used NRPy+ parameters, and set C parameters that will be set from outside the code eventually generated from these expressions. We will also set up a parameter to determine what initial data is set up, although it won't do much yet.\n",
    "\n"
   ]
  },
  {
   "cell_type": "code",
   "execution_count": 1,
   "metadata": {},
   "outputs": [],
   "source": [
    "# Step 0: Import the NRPy+ core modules and set the reference metric to Cartesian\n",
    "import NRPy_param_funcs as par\n",
    "import indexedexp as ixp\n",
    "import grid as gri\n",
    "import finite_difference as fin\n",
    "from outputC import *\n",
    "import loop\n",
    "\n",
    "import reference_metric as rfm\n",
    "par.set_parval_from_str(\"reference_metric::CoordSystem\",\"Cartesian\")\n",
    "rfm.reference_metric()\n",
    "\n",
    "# Step 1a: Set commonly used parameters.\n",
    "thismodule = \"GiRaFFEfood_HO\"\n",
    "# Set the spatial dimension parameter to 3.\n",
    "par.set_parval_from_str(\"grid::DIM\", 3)\n",
    "DIM = par.parval_from_str(\"grid::DIM\")\n",
    "\n",
    "# Create a parameter to control the initial data choice. For now, this will only have Exact Wald as an option.\n",
    "par.initialize_param(par.glb_param(\"char\", thismodule, \"IDchoice\", \"Exact_Wald\"))\n",
    "\n",
    "# Step 1b: Set needed Cparameters\n",
    "M    = par.Cparameters(\"REAL\",thismodule,[\"M\"],1.0)      # The mass of the black hole\n",
    "M_PI = par.Cparameters(\"#define\",thismodule,[\"M_PI\"],\"\") # pi, 3.141592...\n",
    "KerrSchild_radial_shift = par.Cparameters(\"REAL\",thismodule,\"KerrSchild_radial_shift\",0.4) # Default value for ExactWald"
   ]
  },
  {
   "cell_type": "markdown",
   "metadata": {},
   "source": [
    "<a id='set_aphi_ephi'></a>\n",
    "\n",
    "# Step 2: Set the vectors $A_{\\phi}$ and $E_{\\phi}$ in Spherical coordinates \\[Back to [top](#toc)\\]\n",
    "$$\\label{set_aphi_ephi}$$\n",
    "\n",
    "We will first build the fundamental vectors $A_i$ and $E_i$ in spherical coordinates (see [Table 3](https://arxiv.org/pdf/1704.00599.pdf)). Note that we use reference_metric.py to set $r$ and $\\theta$ in terms of Cartesian coordinates; this will save us a step later when we convert to Cartesian coordinates. Since $C_0 = 1$,\n",
    "\\begin{align}\n",
    "A_{\\phi} &= \\frac{1}{2} r^2 \\sin^2 \\theta \\\\\n",
    "E_{\\phi} &= 2 M \\left( 1+ \\frac {2M}{r} \\right)^{-1/2} \\sin^2 \\theta. \\\\\n",
    "\\end{align}\n",
    "While we have $E_i$ set as a variable in NRPy+, note that the final C code won't store these values.\n",
    "\n"
   ]
  },
  {
   "cell_type": "code",
   "execution_count": 2,
   "metadata": {},
   "outputs": [],
   "source": [
    "# Step 2: Set the vectors A and E in Spherical coordinates\n",
    "\n",
    "r     = rfm.xxSph[0] + KerrSchild_radial_shift # We are setting the data up in Shifted Kerr-Schild coordinates\n",
    "theta = rfm.xxSph[1]\n",
    "\n",
    "IDchoice = par.parval_from_str(\"IDchoice\")\n",
    "\n",
    "# Initialize all components of A and E in the *spherical basis* to zero\n",
    "ASphD = ixp.zerorank1()\n",
    "ESphD = ixp.zerorank1()\n",
    "if IDchoice is \"Exact_Wald\":\n",
    "    ASphD[2] = (r * r * sp.sin(theta)**2)/2\n",
    "    ESphD[2] = 2 * M * sp.sin(theta)**2 / sp.sqrt(1+2*M/r)\n",
    "else:\n",
    "    print(\"Error: IDchoice == \"+par.parval_from_str(\"IDchoice\")+\" unsupported!\")\n",
    "    exit(1)"
   ]
  },
  {
   "cell_type": "markdown",
   "metadata": {},
   "source": [
    "<a id='jacobian'></a>\n",
    "\n",
    "# Step 3: Use the Jacobian matrix to transform the vectors to Cartesian coordinates \\[Back to [top](#toc)\\]\n",
    "$$\\label{jacobian}$$\n",
    "\n",
    "Now, we will use the coordinate transformation definitions provided by reference_metric.py to build the Jacobian \n",
    "$$ \n",
    "\\frac{\\partial x_{\\rm Sph}^j}{\\partial x_{\\rm Cart}^i},\n",
    "$$ \n",
    "where $x_{\\rm Sph}^j \\in \\{r,\\theta,\\phi\\}$ and $x_{\\rm Cart}^i \\in \\{x,y,z\\}$. We would normally compute its inverse, but since none of the quantities we need to transform have upper indices, it is not necessary. Then, since both $A_i$ and $E_i$ have one lower index, both will need to be multiplied by the Jacobian:\n",
    "\n",
    "$$\n",
    "A_i^{\\rm Cart} = A_j^{\\rm Sph} \\frac{\\partial x_{\\rm Sph}^j}{\\partial x_{\\rm Cart}^i},\n",
    "$$\n",
    "\n"
   ]
  },
  {
   "cell_type": "code",
   "execution_count": 3,
   "metadata": {},
   "outputs": [],
   "source": [
    "# Step 3: Use the Jacobian matrix to transform the vectors to Cartesian coordinates.\n",
    "drrefmetric__dx_0UDmatrix = sp.Matrix([[sp.diff(rfm.xxSph[0],rfm.xx[0]), sp.diff(rfm.xxSph[0],rfm.xx[1]), sp.diff(rfm.xxSph[0],rfm.xx[2])],\n",
    "                                       [sp.diff(rfm.xxSph[1],rfm.xx[0]), sp.diff(rfm.xxSph[1],rfm.xx[1]), sp.diff(rfm.xxSph[1],rfm.xx[2])],\n",
    "                                       [sp.diff(rfm.xxSph[2],rfm.xx[0]), sp.diff(rfm.xxSph[2],rfm.xx[1]), sp.diff(rfm.xxSph[2],rfm.xx[2])]])\n",
    "#dx__drrefmetric_0UDmatrix = drrefmetric__dx_0UDmatrix.inv() # We don't actually need this in this case.\n",
    "\n",
    "AD = ixp.register_gridfunctions_for_single_rank1(\"EVOL\",\"AD\")\n",
    "ED = ixp.zerorank1()\n",
    "\n",
    "for i in range(DIM):\n",
    "    for j in range(DIM):\n",
    "        AD[i] = drrefmetric__dx_0UDmatrix[(j,i)]*ASphD[j]\n",
    "        ED[i] = drrefmetric__dx_0UDmatrix[(j,i)]*ESphD[j]\n",
    "\n",
    "#Step 4: Register the basic spacetime quantities\n",
    "alpha   = gri.register_gridfunctions(\"AUX\",\"alpha\")\n",
    "betaU   = ixp.register_gridfunctions_for_single_rank1(\"AUX\",\"betaU\",DIM=3)\n",
    "gammaDD = ixp.register_gridfunctions_for_single_rank2(\"AUX\",\"gammaDD\", \"sym01\",DIM=3)\n",
    "gammaUU, gammadet = ixp.symm_matrix_inverter3x3(gammaDD)\n"
   ]
  },
  {
   "cell_type": "markdown",
   "metadata": {},
   "source": [
    "<a id='vi'></a>\n",
    "\n",
    "# Step 4: Calculate $v^i$ from $A_i$ and $E_i$ \\[Back to [top](#toc)\\]\n",
    "$$\\label{vi}$$\n",
    "\n",
    "We will now find the magnetic field using equation 18 in [the original paper](https://arxiv.org/pdf/1704.00599.pdf) $$B^i = \\frac{[ijk]}{\\sqrt{\\gamma}} \\partial_j A_k. $$ We will need the metric quantites: the lapse $\\alpha$, the shift $\\beta^i$, and the three-metric $\\gamma_{ij}$. We will also need the Levi-Civita symbol, provided by `WeylScal4NRPy.WeylScalars_Cartesian`. \n",
    "\n"
   ]
  },
  {
   "cell_type": "code",
   "execution_count": 4,
   "metadata": {},
   "outputs": [],
   "source": [
    "# Step 4: Calculate v^i from A_i and E_i\n",
    "# Step 4a: Calculate the magnetic field B^i\n",
    "# Here, we build the Levi-Civita tensor from the Levi-Civita symbol.\n",
    "import WeylScal4NRPy.WeylScalars_Cartesian as weyl\n",
    "LeviCivitaSymbolDDD = weyl.define_LeviCivitaSymbol_rank3()\n",
    "LeviCivitaTensorUUU = ixp.zerorank3()\n",
    "for i in range(DIM):\n",
    "    for j in range(DIM):\n",
    "        for k in range(DIM):\n",
    "            LeviCivitaTensorUUU[i][j][k] = LeviCivitaSymbolDDD[i][j][k] / sp.sqrt(gammadet)\n",
    "\n",
    "# For the initial data, we can analytically take the derivatives of A_i\n",
    "ADdD = ixp.zerorank2()\n",
    "for i in range(DIM):\n",
    "    for j in range(DIM):\n",
    "        ADdD[i][j] = sp.simplify(sp.diff(AD[i],rfm.xxCart[j]))\n",
    "                                  \n",
    "BU = ixp.zerorank1()\n",
    "for i in range(DIM):\n",
    "    for j in range(DIM):\n",
    "        for k in range(DIM):\n",
    "            BU[i] += LeviCivitaTensorUUU[i][j][k] * ADdD[k][j]\n"
   ]
  },
  {
   "cell_type": "markdown",
   "metadata": {},
   "source": [
    "We will now build the initial velocity using equation 152 in [this paper,](https://arxiv.org/pdf/1310.3274v2.pdf) cited in the original `GiRaFFE` code: $$ v^i = \\alpha \\frac{\\epsilon^{ijk} E_j B_k}{B^2} -\\beta^i. $$ \n",
    "However, our code needs the Valencia 3-velocity while this expression is for the drift velocity. So, we will need to transform it to the Valencia 3-velocity using the rule $\\bar{v}^i = \\frac{1}{\\alpha} \\left(v^i +\\beta^i \\right)$.\n",
    "Thus, $$\\bar{v}^i = \\frac{\\epsilon^{ijk} E_j B_k}{B^2}$$"
   ]
  },
  {
   "cell_type": "code",
   "execution_count": 5,
   "metadata": {},
   "outputs": [],
   "source": [
    "# Step 4b: Calculate B^2 and B_i\n",
    "# B^2 is an inner product defined in the usual way:\n",
    "B2 = sp.sympify(0)\n",
    "for i in range(DIM):\n",
    "    for j in range(DIM):\n",
    "        B2 += gammaDD[i][j] * BU[i] * BU[j]\n",
    "        \n",
    "# Lower the index on B^i\n",
    "BD = ixp.zerorank1()\n",
    "for i in range(DIM):\n",
    "    for j in range(DIM):\n",
    "        BD[i] += gammaDD[i][j] * BU[j]\n",
    "\n",
    "# Step 4c: Calculate the Valencia 3-velocity \n",
    "ValenciavU = ixp.zerorank1()\n",
    "for i in range(DIM):\n",
    "    for j in range(DIM):\n",
    "        for k in range(DIM):\n",
    "            ValenciavU[i] += LeviCivitaTensorUUU[i][j][k]*ED[j]*BD[k]/B2\n"
   ]
  },
  {
   "cell_type": "markdown",
   "metadata": {},
   "source": [
    "<a id='code_validation1'></a>\n",
    "\n",
    "## Step 4.a: Code Validation against `GiRaFFEfood_HO.GiRaFFEfood_HO` NRPy+ module  \\[Back to [top](#toc)\\]\n",
    "$$\\label{code_validation1}$$\n",
    "\n",
    "Here, as a code validation check, we verify agreement in the SymPy expressions for the `GiRaFFE` Exact Wald initial data equations  we intend to use between\n",
    "1. this tutorial and \n",
    "2. the NRPy+ [GiRaFFEfood_HO.GiRaFFEfood_HO_Exact_Wald](../edit/GiRaFFEfood_HO/GiRaFFEfood_HO_Exact_Wald.py) module.\n"
   ]
  },
  {
   "cell_type": "code",
   "execution_count": 6,
   "metadata": {},
   "outputs": [
    {
     "name": "stdout",
     "output_type": "stream",
     "text": [
      "Consistency check between GiRaFFEfood_HO tutorial and NRPy+ module: ALL SHOULD BE ZERO.\n",
      "ValenciavU[0] - gfho.ValenciavU[0] = 0\n",
      "AD[0] - gfho.AD[0] = 0\n",
      "ValenciavU[1] - gfho.ValenciavU[1] = 0\n",
      "AD[1] - gfho.AD[1] = 0\n",
      "ValenciavU[2] - gfho.ValenciavU[2] = 0\n",
      "AD[2] - gfho.AD[2] = 0\n"
     ]
    }
   ],
   "source": [
    "# Reset the list of gridfunctions, as registering a gridfunction\n",
    "#   twice will spawn an error.\n",
    "gri.glb_gridfcs_list = []\n",
    "\n",
    "import GiRaFFEfood_HO.GiRaFFEfood_HO_Exact_Wald as gfho\n",
    "gfho.GiRaFFEfood_HO_Exact_Wald()\n",
    "\n",
    "print(\"Consistency check between GiRaFFEfood_HO tutorial and NRPy+ module: ALL SHOULD BE ZERO.\")\n",
    "\n",
    "for i in range(DIM):\n",
    "\n",
    "    print(\"ValenciavU[\"+str(i)+\"] - gfho.ValenciavU[\"+str(i)+\"] = \" + str(ValenciavU[i] - gfho.ValenciavU[i]))\n",
    "    print(\"AD[\"+str(i)+\"] - gfho.AD[\"+str(i)+\"] = \" + str(AD[i] - gfho.AD[i]))"
   ]
  },
  {
   "cell_type": "markdown",
   "metadata": {},
   "source": [
    "<a id='si'></a>\n",
    "\n",
    "# Step 5: Build the expression for $\\tilde{S}_i$ \\[Back to [top](#toc)\\]\n",
    "$$\\label{si}$$\n",
    "\n",
    "We will now find the densitized Poynting flux given by equation 21 in [the original paper](https://arxiv.org/pdf/1704.00599.pdf), $$\\boxed{\\tilde{S}_i = \\gamma_{ij} \\frac{(v^j+\\beta^j)\\sqrt{\\gamma}B^2}{4 \\pi \\alpha}.}$$ This is needed to set initial data for $\\tilde{S}_i$ after $B^i$ is set from the initial $A_i$. Note, however, that this expression uses the drift velocity $v^i = \\alpha v^i_{(n)} - \\beta^i$; substituting this into the definition of $\\tilde{S}_i$ yields an expression in terms of the Valencia velocity: $$\\tilde{S}_i = \\gamma_{ij} \\frac{v^j_{(n)} \\sqrt{\\gamma}B^2}{4 \\pi}.$$\n",
    "\n",
    "* Initial data require only that the spatial vector potential $A_i$, the densitized zeroth-component of the vector potential $[\\sqrt{\\gamma}\\Phi]$, and the Valencia 3-velocity $v^i_{(n)}$ be set. However, the velocity is not an evolved quantity; $\\tilde{S}_i$ is the evolved quantity. We can set $\\tilde{S}_i$ initially based on the given initial data via $\\tilde{S}_i=\\gamma_{ij} \\frac{v^j_{(n)} \\sqrt{\\gamma}B^2}{4 \\pi}$.\n"
   ]
  },
  {
   "cell_type": "code",
   "execution_count": 7,
   "metadata": {},
   "outputs": [],
   "source": [
    "# Step 5: Build the expression for \\tilde{S}_i\n",
    "StildeD = ixp.zerorank1()\n",
    "BU = ixp.register_gridfunctions_for_single_rank1(\"AUX\",\"BU\") # Reset so that NRPy will access stored values of BU\n",
    "ValenciavU = ixp.register_gridfunctions_for_single_rank1(\"AUX\",\"ValenciavU\") # Reset so that NRPy will access stored values of ValenciavU\n",
    "B2 = sp.sympify(0)\n",
    "for i in range(DIM):\n",
    "    for j in range(DIM):\n",
    "        B2 += gammaDD[i][j] * BU[i] * BU[j]\n",
    "for i in range(DIM):\n",
    "    for j in range(DIM):\n",
    "        StildeD[i] += gammaDD[i][j] * (ValenciavU[j])*sp.sqrt(gammadet)*B2/4/M_PI"
   ]
  },
  {
   "cell_type": "markdown",
   "metadata": {},
   "source": [
    "<a id='code_validation2'></a>\n",
    "\n",
    "## Step 5.a: Code Validation against `GiRaFFEfood_HO.GiRaFFEfood_HO` NRPy+ module \\[Back to [top](#toc)\\]\n",
    "$$\\label{code_validation2}$$\n",
    "\n",
    "Here, as a code validation check, we verify agreement in the SymPy expressions for the `GiRaFFE` Exact Wald initial data equations  we intend to use between\n",
    "1. this tutorial and \n",
    "2. the NRPy+ [GiRaFFEfood_HO.GiRaFFEfood_HO_Exact_Wald](../edit/GiRaFFEfood_HO/GiRaFFEfood_HO_Exact_Wald.py) module.\n"
   ]
  },
  {
   "cell_type": "code",
   "execution_count": 8,
   "metadata": {},
   "outputs": [
    {
     "name": "stdout",
     "output_type": "stream",
     "text": [
      "Consistency check between GiRaFFEfood_HO tutorial and NRPy+ module: ALL SHOULD BE ZERO.\n",
      "StildeD[0] - gfho.StildeD[0] = 0\n",
      "StildeD[1] - gfho.StildeD[1] = 0\n",
      "StildeD[2] - gfho.StildeD[2] = 0\n"
     ]
    }
   ],
   "source": [
    "# Reset the list of gridfunctions, as registering a gridfunction\n",
    "#   twice will spawn an error.\n",
    "gri.glb_gridfcs_list = []\n",
    "\n",
    "#import GiRaFFEfood_HO.GiRaFFEfood_HO as gfho\n",
    "gfho.GiRaFFEfood_HO_ID_converter()\n",
    "\n",
    "print(\"Consistency check between GiRaFFEfood_HO tutorial and NRPy+ module: ALL SHOULD BE ZERO.\")\n",
    "\n",
    "for i in range(DIM):\n",
    "    print(\"StildeD[\"+str(i)+\"] - gfho.StildeD[\"+str(i)+\"] = \" + str(StildeD[i] - gfho.StildeD[i]))"
   ]
  },
  {
   "cell_type": "markdown",
   "metadata": {},
   "source": [
    "<a id='latex_pdf_output'></a>\n",
    "\n",
    "# Step 6: Output this notebook to $\\LaTeX$-formatted PDF file \\[Back to [top](#toc)\\]\n",
    "$$\\label{latex_pdf_output}$$\n",
    "\n",
    "The following code cell converts this Jupyter notebook into a proper, clickable $\\LaTeX$-formatted PDF file. After the cell is successfully run, the generated PDF may be found in the root NRPy+ tutorial directory, with filename\n",
    "[Tutorial-GiRaFFEfood_HO.pdf](Tutorial-GiRaFFEfood_HO.pdf) (Note that clicking on this link may not work; you may need to open the PDF file through another means.)"
   ]
  },
  {
   "cell_type": "code",
   "execution_count": 9,
   "metadata": {},
   "outputs": [
    {
     "name": "stdout",
     "output_type": "stream",
     "text": [
      "[NbConvertApp] Converting notebook Tutorial-GiRaFFEfood_HO_Exact_Wald.ipynb to latex\n",
      "[NbConvertApp] Writing 55581 bytes to Tutorial-GiRaFFEfood_HO_Exact_Wald.tex\n",
      "This is pdfTeX, Version 3.14159265-2.6-1.40.18 (TeX Live 2017/Debian) (preloaded format=pdflatex)\n",
      " restricted \\write18 enabled.\n",
      "entering extended mode\n",
      "This is pdfTeX, Version 3.14159265-2.6-1.40.18 (TeX Live 2017/Debian) (preloaded format=pdflatex)\n",
      " restricted \\write18 enabled.\n",
      "entering extended mode\n",
      "This is pdfTeX, Version 3.14159265-2.6-1.40.18 (TeX Live 2017/Debian) (preloaded format=pdflatex)\n",
      " restricted \\write18 enabled.\n",
      "entering extended mode\n"
     ]
    }
   ],
   "source": [
    "!jupyter nbconvert --to latex --template latex_nrpy_style.tplx --log-level='WARN' Tutorial-GiRaFFEfood_HO_Exact_Wald.ipynb\n",
    "!pdflatex -interaction=batchmode Tutorial-GiRaFFEfood_HO_Exact_Wald.tex\n",
    "!pdflatex -interaction=batchmode Tutorial-GiRaFFEfood_HO_Exact_Wald.tex\n",
    "!pdflatex -interaction=batchmode Tutorial-GiRaFFEfood_HO_Exact_Wald.tex\n",
    "!rm -f Tut*.out Tut*.aux Tut*.log"
   ]
  }
 ],
 "metadata": {
  "kernelspec": {
   "display_name": "Python 2",
   "language": "python",
   "name": "python2"
  },
  "language_info": {
   "codemirror_mode": {
    "name": "ipython",
    "version": 2
   },
   "file_extension": ".py",
   "mimetype": "text/x-python",
   "name": "python",
   "nbconvert_exporter": "python",
   "pygments_lexer": "ipython2",
   "version": "2.7.13"
  }
 },
 "nbformat": 4,
 "nbformat_minor": 2
}
