{
 "cells": [
  {
   "cell_type": "markdown",
   "metadata": {},
   "source": [
    "<script async src=\"https://www.googletagmanager.com/gtag/js?id=UA-59152712-8\"></script>\n",
    "<script>\n",
    "  window.dataLayer = window.dataLayer || [];\n",
    "  function gtag(){dataLayer.push(arguments);}\n",
    "  gtag('js', new Date());\n",
    "\n",
    "  gtag('config', 'UA-59152712-8');\n",
    "</script>\n",
    "\n",
    "# 1D Alfven Wave `GiRaFFEfood` Initial Data for `GiRaFFE`\n",
    "\n",
    "## This module provides another initial data option for `GiRaFFE`, drawn from [this paper](https://arxiv.org/abs/1310.3274) .\n",
    "\n",
    "**Module Status:** <font color='orange'><b> Self-Validated </b></font>\n",
    "\n",
    "**Validation Notes:** This tutorial notebook has been confirmed to be self-consistent with its corresponding NRPy+ module, as documented [below](#code_validation). **Additional validation tests may have been performed, but are as yet, undocumented. (TODO)**\n",
    "\n",
    "### NRPy+ Source Code for this module: [GiRaFFEfood_HO/GiRaFFEfood_HO_1D_tests.py](../edit/GiRaFFEfood_HO/GiRaFFEfood_HO_1D_tests.py)\n",
    "\n",
    "## Introduction:\n",
    "\n",
    "### Alfv&eacute;n Wave:\n",
    "\n",
    " This is a flat-spacetime test with initial data \n",
    "\\begin{align}\n",
    "A_x &= 0 \\\\\n",
    "A_y &= \\left \\{ \\begin{array}{lll}\\gamma_\\mu x - 0.015 & \\mbox{if} & x \\leq -0.1/\\gamma_\\mu \\\\\n",
    "1.15 \\gamma_\\mu x - 0.03g(x) & \\mbox{if} & -0.1/\\gamma_\\mu \\leq x \\leq 0.1/\\gamma_\\mu \\\\ \n",
    "1.3 \\gamma_\\mu x - 0.015 & \\mbox{if} & x \\geq 0.1/\\gamma_\\mu \\end{array} \\right. , \\\\\n",
    " A_z = &\\ y - \\gamma_\\mu (1-\\mu)x ,\n",
    "\\end{align}\n",
    "which generates the magnetic field in the wave frame,\n",
    "\\begin{align}\n",
    "B'^{x'}(x') = &\\ 1.0,\\ B'^y(x') = 1.0, \\\\\n",
    "B'^z(x') = &\\ \\left \\{ \\begin{array}{lll} 1.0 & \\mbox{if} & x' \\leq -0.1 \\\\\n",
    "\t\t\t\t1.0+0.15 f(x') & \\mbox{if} & -0.1 \\leq x' \\leq 0.1 \\\\\n",
    "\t\t\t\t1.3 & \\mbox{if} & x' \\geq 0.1 \\end{array} \\right. .\n",
    "\\end{align}\n",
    "The electric field in the wave frame is then given by\n",
    "$$E'^{x'}(x') = -B'^z(0,x') \\ \\ , \\ \\ E'^y(x') = 0.0 \\ \\ , \\ \\ E'^z(x') = 1.0  .$$\n",
    "\n",
    "These are converted to the grid frame by \n",
    "\\begin{align}\n",
    "  B^x(0,x) = &\\ B'^{x'}(\\gamma_\\mu x) , \\\\\n",
    "  B^y(0,x) = &\\ \\gamma_\\mu [ B'^y(\\gamma_\\mu x) - \\mu E'^z(\\gamma_\\mu x) ] , \\\\ \n",
    "  B^z(0,x) = &\\ \\gamma_\\mu [ B'^z(\\gamma_\\mu x) + \\mu E'^y(\\gamma_\\mu x) ] , \n",
    "\\end{align}\n",
    "and\n",
    "\\begin{align}\n",
    "  E^x(0,x) = &\\ E'^{x'}(\\gamma_\\mu x) , \\\\ \n",
    "  E^y(0,x) = &\\ \\gamma_\\mu [ E'^y(\\gamma_\\mu x) + \\mu B'^z(\\gamma_\\mu x) ] ,\\\\ \n",
    "  E^z(0,x) = &\\ \\gamma_\\mu [ E'^z(\\gamma_\\mu x) - \\mu B'^y(\\gamma_\\mu x) ],\n",
    "\\end{align}\n",
    "and the velocity is given by $$\\mathbf{v} = \\frac{\\mathbf{E} \\times \\mathbf{B}}{B^2}$$ in flat spacetime. Additionally, $f(x)=1+\\sin (5\\pi x)$, $-1<\\mu<1$ is the wave speed relative to the grid frame and $\\gamma_\\mu = (1-\\mu^2)^{-1/2}$, and $g(x) = \\cos (5\\pi \\gamma_\\mu x)/\\pi$.\n",
    "\n",
    "For the eventual purpose of testing convergence, any quantity $Q$ evolves as $Q(t,x) = Q(0,x-\\mu t)$\n",
    "\n",
    "See the [Tutorial-GiRaFFEfood_HO](Tutorial-GiRaFFEfood_HO.ipynb) tutorial notebook for more general detail on how this is used.\n"
   ]
  },
  {
   "cell_type": "markdown",
   "metadata": {},
   "source": [
    "<a id='toc'></a>\n",
    "\n",
    "# Table of Contents:\n",
    "$$\\label{toc}$$\n",
    "\n",
    "This notebook is organized as follows\n",
    "\n",
    "1. [Step 1](#initializenrpy): Import core NRPy+ modules and set NRPy+ parameters \n",
    "1. [Step 2](#vector_ak): Set the vector $A_k$\n",
    "1. [Step 3](#vectors_for_velocity): Set the vectors $B^i$ and $E^i$ for the velocity\n",
    "1. [Step 4](#vi): Calculate $v^i$\n",
    "1. [Step 5](#code_validation): Code Validation against `GiRaFFEfood_HO/GiRaFFEfood_HO_1D_tests` NRPy+ module\n",
    "1. [Step 6](#latex_pdf_output): Output this notebook to $\\LaTeX$-formatted PDF file"
   ]
  },
  {
   "cell_type": "markdown",
   "metadata": {},
   "source": [
    "<a id='initializenrpy'></a>\n",
    "\n",
    "# Step 1: Import core NRPy+ modules and set NRPy+ parameters \\[Back to [top](#toc)\\]\n",
    "$$\\label{initializenrpy}$$\n",
    "\n",
    "Here, we will import the NRPy+ core modules and set the reference metric to Cartesian, set commonly used NRPy+ parameters, and set C parameters that will be set from outside the code eventually generated from these expressions. We will also set up a parameter to determine what initial data is set up, although it won't do much yet."
   ]
  },
  {
   "cell_type": "code",
   "execution_count": 1,
   "metadata": {},
   "outputs": [],
   "source": [
    "# Step 0: Import the NRPy+ core modules and set the reference metric to Cartesian\n",
    "import NRPy_param_funcs as par\n",
    "import indexedexp as ixp\n",
    "import grid as gri\n",
    "import finite_difference as fin\n",
    "from outputC import *\n",
    "import loop\n",
    "\n",
    "import reference_metric as rfm\n",
    "par.set_parval_from_str(\"reference_metric::CoordSystem\",\"Cartesian\")\n",
    "rfm.reference_metric()\n",
    "\n",
    "# Step 1a: Set commonly used parameters.\n",
    "thismodule = \"GiRaFFEfood_HO_1D\"\n",
    "# Set the spatial dimension parameter to 3.\n",
    "par.set_parval_from_str(\"grid::DIM\", 3)\n",
    "DIM = par.parval_from_str(\"grid::DIM\")\n"
   ]
  },
  {
   "cell_type": "markdown",
   "metadata": {},
   "source": [
    "<a id='vector_ak'></a>\n",
    "\n",
    "# Step 2: Set the vector $A_k$ \\[Back to [top](#toc)\\]\n",
    "$$\\label{vector_ak}$$\n",
    "\n",
    "The vector potential is given as\n",
    "\\begin{align}\n",
    "A_x &= 0 \\\\\n",
    "A_y &= \\left \\{ \\begin{array}{lll}\\gamma_\\mu x - 0.015 & \\mbox{if} & x \\leq -0.1/\\gamma_\\mu \\\\\n",
    "1.15 \\gamma_\\mu x - 0.03g(x) & \\mbox{if} & -0.1/\\gamma_\\mu \\leq x \\leq 0.1/\\gamma_\\mu \\\\ \n",
    "1.3 \\gamma_\\mu x - 0.015 & \\mbox{if} & x \\geq 0.1/\\gamma_\\mu \\end{array} \\right. , \\\\\n",
    "A_z &= y - \\gamma_\\mu (1-\\mu)x .\n",
    "\\end{align}\n",
    "First, however, we must set $$\\gamma_\\mu = (1-\\mu^2)^{-1/2}$$ and $$g(x) = \\cos (5\\pi \\gamma_\\mu x)/\\pi$$.\n"
   ]
  },
  {
   "cell_type": "code",
   "execution_count": 2,
   "metadata": {},
   "outputs": [],
   "source": [
    "mu_AW = par.Cparameters(\"REAL\",thismodule,[\"mu_AW\"], -0.5) # The wave speed\n",
    "M_PI  = par.Cparameters(\"#define\",thismodule,[\"M_PI\"], \"\")\n",
    "\n",
    "gammamu = 1/sp.sqrt(1-mu_AW**2)\n",
    "\n",
    "# We'll use reference_metric.py to define x and y\n",
    "x = rfm.xxCart[0]\n",
    "y = rfm.xxCart[1]\n",
    "\n",
    "g_AW = sp.cos(5*M_PI*gammamu*x)/M_PI"
   ]
  },
  {
   "cell_type": "markdown",
   "metadata": {},
   "source": [
    "Now, we can define the vector potential. We will create three copies of this variable, because the potential is uniquely defined in three zones. Data for $x \\leq -0.1/\\gamma_\\mu$ shall be referred to as \"left\", data for $-0.1/\\gamma_\\mu \\leq x \\leq 0.1/\\gamma_\\mu$ as \"center\", and data for $x \\geq 0.1/\\gamma_\\mu$ as \"right\".\n",
    "\n",
    "Starting on the left, \n",
    "\\begin{align}\n",
    "A_x &= 0 \\\\\n",
    "A_y &= \\gamma_\\mu x - 0.015 \\\\\n",
    "A_z &= y - \\gamma_\\mu (1-\\mu)x .\n",
    "\\end{align}"
   ]
  },
  {
   "cell_type": "code",
   "execution_count": 3,
   "metadata": {},
   "outputs": [],
   "source": [
    "AD = ixp.register_gridfunctions_for_single_rank1(\"EVOL\",\"AD\")\n",
    "AleftD = ixp.zerorank1()\n",
    "\n",
    "AleftD[0] = sp.sympify(0)\n",
    "AleftD[1] = gammamu*x-0.015\n",
    "AleftD[2] = y-gammamu*(1-mu_AW)*x"
   ]
  },
  {
   "cell_type": "markdown",
   "metadata": {},
   "source": [
    "In the center,\n",
    "\\begin{align}\n",
    "A_x &= 0 \\\\\n",
    "A_y &= 1.15 \\gamma_\\mu x - 0.03g(x) \\\\\n",
    "A_z &= y - \\gamma_\\mu (1-\\mu)x .\n",
    "\\end{align}"
   ]
  },
  {
   "cell_type": "code",
   "execution_count": 4,
   "metadata": {},
   "outputs": [],
   "source": [
    "AcenterD = ixp.zerorank1()\n",
    "\n",
    "AcenterD[0] = sp.sympify(0)\n",
    "AcenterD[1] = 1.15*gammamu*x-0.03*g_AW\n",
    "AcenterD[2] = y-gammamu*(1-mu_AW)*x"
   ]
  },
  {
   "cell_type": "markdown",
   "metadata": {},
   "source": [
    "And on the right,\n",
    "\\begin{align}\n",
    "A_x &= 0 \\\\\n",
    "A_y &= 1.3 \\gamma_\\mu x - 0.015 \\\\\n",
    "A_z &= y - \\gamma_\\mu (1-\\mu)x .\n",
    "\\end{align}"
   ]
  },
  {
   "cell_type": "code",
   "execution_count": 5,
   "metadata": {},
   "outputs": [],
   "source": [
    "ArightD = ixp.zerorank1()\n",
    "\n",
    "ArightD[0] = sp.sympify(0)\n",
    "ArightD[1] = 1.3*gammamu*x-0.015\n",
    "ArightD[2] = y-gammamu*(1-mu_AW)*x"
   ]
  },
  {
   "cell_type": "markdown",
   "metadata": {},
   "source": [
    "<a id='vectors_for_velocity'></a>\n",
    "\n",
    "# Step 3: Set the vectors $B^i$ and $E^i$ for the velocity \\[Back to [top](#toc)\\]\n",
    "$$\\label{vectors_for_velocity}$$\n",
    "\n",
    "Now, we will set the magnetic and electric fields that we will need to define the initial velocities. First, we need to define $$f(x)=1+\\sin (5\\pi x);$$ note that in the definition of $B^i$, we need $f(x')$ where $x'=\\gamma_\\mu x$.\n"
   ]
  },
  {
   "cell_type": "code",
   "execution_count": 6,
   "metadata": {},
   "outputs": [
    {
     "name": "stdout",
     "output_type": "stream",
     "text": [
      "sin(5.0*M_PI*xx0/sqrt(1 - mu_AW**2)) + 1.0\n"
     ]
    }
   ],
   "source": [
    "xprime = gammamu*x\n",
    "f_AW = 1.0 + sp.sin(5.0*M_PI*xprime)\n",
    "print(f_AW)"
   ]
  },
  {
   "cell_type": "markdown",
   "metadata": {},
   "source": [
    "We will now set the magnetic field in the wave frame:\n",
    "\\begin{align}\n",
    "B'^{x'}(x') = &\\ 1.0,\\ B'^y(x') = 1.0, \\\\\n",
    "B'^z(x') = &\\ \\left \\{ \\begin{array}{lll} 1.0 & \\mbox{if} & x' \\leq -0.1 \\\\\n",
    "\t\t\t\t1.0+0.15 f(x') & \\mbox{if} & -0.1 \\leq x' \\leq 0.1 \\\\\n",
    "\t\t\t\t1.3 & \\mbox{if} & x' \\geq 0.1 \\end{array} \\right. .\n",
    "\\end{align}\n"
   ]
  },
  {
   "cell_type": "code",
   "execution_count": 7,
   "metadata": {},
   "outputs": [],
   "source": [
    "BleftpU = ixp.zerorank1()\n",
    "BleftpU[0] = sp.sympify(1.0)\n",
    "BleftpU[1] = sp.sympify(1.0)\n",
    "BleftpU[2] = sp.sympify(1.0)\n",
    "\n",
    "BcenterpU = ixp.zerorank1()\n",
    "BcenterpU[0] = sp.sympify(1.0)\n",
    "BcenterpU[1] = sp.sympify(1.0)\n",
    "BcenterpU[2] = 1.0 + 0.15*f_AW\n",
    "\n",
    "BrightpU = ixp.zerorank1()\n",
    "BrightpU[0] = sp.sympify(1.0)\n",
    "BrightpU[1] = sp.sympify(1.0)\n",
    "BrightpU[2] = sp.sympify(1.3)\n"
   ]
  },
  {
   "cell_type": "markdown",
   "metadata": {},
   "source": [
    "Now, we will set the electric field in the wave frame:\n",
    "\\begin{align}\n",
    "E'^{x'}(x') &= -B'^z(0,x'), \\\\ \n",
    "E'^y(x') &= 0.0, \\\\ \n",
    "E'^z(x') &= 1.0  .\n",
    "\\end{align}"
   ]
  },
  {
   "cell_type": "code",
   "execution_count": 8,
   "metadata": {},
   "outputs": [],
   "source": [
    "EleftpU = ixp.zerorank1()\n",
    "EleftpU[0] = -BleftpU[2]\n",
    "EleftpU[1] = sp.sympify(0.0)\n",
    "EleftpU[2] = sp.sympify(1.0)\n",
    "\n",
    "EcenterpU = ixp.zerorank1()\n",
    "EcenterpU[0] = -BcenterpU[2]\n",
    "EcenterpU[1] = sp.sympify(0.0)\n",
    "EcenterpU[2] = sp.sympify(1.0)\n",
    "\n",
    "ErightpU = ixp.zerorank1()\n",
    "ErightpU[0] = -BrightpU[2]\n",
    "ErightpU[1] = sp.sympify(0.0)\n",
    "ErightpU[2] = sp.sympify(1.0)\n"
   ]
  },
  {
   "cell_type": "markdown",
   "metadata": {},
   "source": [
    "Next, we must transform the fields into the grid frame. We'll do the magnetic fields first.\n",
    "\\begin{align}\n",
    "  B^x(0,x) = &\\ B'^{x'}(\\gamma_\\mu x) , \\\\\n",
    "  B^y(0,x) = &\\ \\gamma_\\mu [ B'^y(\\gamma_\\mu x) - \\mu E'^z(\\gamma_\\mu x) ] , \\\\ \n",
    "  B^z(0,x) = &\\ \\gamma_\\mu [ B'^z(\\gamma_\\mu x) + \\mu E'^y(\\gamma_\\mu x) ] , \n",
    "\\end{align}\n"
   ]
  },
  {
   "cell_type": "code",
   "execution_count": 9,
   "metadata": {},
   "outputs": [],
   "source": [
    "BleftU = ixp.zerorank1()\n",
    "BleftU[0] = BleftpU[0]\n",
    "BleftU[1] = gammamu*(BleftpU[1]-mu_AW*EleftpU[2])\n",
    "BleftU[2] = gammamu*(BleftpU[2]+mu_AW*EleftpU[1])\n",
    "\n",
    "BcenterU = ixp.zerorank1()\n",
    "BcenterU[0] = BcenterpU[0]\n",
    "BcenterU[1] = gammamu*(BcenterpU[1]-mu_AW*EcenterpU[2])\n",
    "BcenterU[2] = gammamu*(BcenterpU[2]+mu_AW*EcenterpU[1])\n",
    "\n",
    "BrightU = ixp.zerorank1()\n",
    "BrightU[0] = BrightpU[0]\n",
    "BrightU[1] = gammamu*(BrightpU[1]-mu_AW*ErightpU[2])\n",
    "BrightU[2] = gammamu*(BrightpU[2]+mu_AW*ErightpU[1])\n"
   ]
  },
  {
   "cell_type": "markdown",
   "metadata": {},
   "source": [
    "And now the electric fields:\n",
    "\\begin{align}\n",
    "  E^x(0,x) = &\\ E'^{x'}(\\gamma_\\mu x) , \\\\ \n",
    "  E^y(0,x) = &\\ \\gamma_\\mu [ E'^y(\\gamma_\\mu x) + \\mu B'^z(\\gamma_\\mu x) ] ,\\\\ \n",
    "  E^z(0,x) = &\\ \\gamma_\\mu [ E'^z(\\gamma_\\mu x) - \\mu B'^y(\\gamma_\\mu x) ],\n",
    "\\end{align}\n"
   ]
  },
  {
   "cell_type": "code",
   "execution_count": 10,
   "metadata": {},
   "outputs": [],
   "source": [
    "EleftU = ixp.zerorank1()\n",
    "EleftU[0] = EleftpU[0]\n",
    "EleftU[1] = gammamu*(EleftpU[1]+mu_AW*BleftpU[2])\n",
    "EleftU[2] = gammamu*(EleftpU[2]-mu_AW*BleftpU[1])\n",
    "\n",
    "EcenterU = ixp.zerorank1()\n",
    "EcenterU[0] = EcenterpU[0]\n",
    "EcenterU[1] = gammamu*(EcenterpU[1]+mu_AW*BcenterpU[2])\n",
    "EcenterU[2] = gammamu*(EcenterpU[2]-mu_AW*BcenterpU[1])\n",
    "\n",
    "ErightU = ixp.zerorank1()\n",
    "ErightU[0] = ErightpU[0]\n",
    "ErightU[1] = gammamu*(ErightpU[1]+mu_AW*BrightpU[2])\n",
    "ErightU[2] = gammamu*(ErightpU[2]-mu_AW*BrightpU[1])\n"
   ]
  },
  {
   "cell_type": "markdown",
   "metadata": {},
   "source": [
    "<a id='vi'></a>\n",
    "\n",
    "# Step 4: Calculate $v^i$ \\[Back to [top](#toc)\\]\n",
    "$$\\label{vi}$$\n",
    "\n",
    "Now, we calculate $$\\mathbf{v} = \\frac{\\mathbf{E} \\times \\mathbf{B}}{B^2},$$ which is equivalent to $$v^i = [ijk] \\frac{E^j B^k}{B^2},$$ where $[ijk]$ is the Levi-Civita symbol and $B^2 = \\gamma_{ij} B^i B^j$ is a trivial dot product in flat space.\n"
   ]
  },
  {
   "cell_type": "code",
   "execution_count": 11,
   "metadata": {},
   "outputs": [],
   "source": [
    "import WeylScal4NRPy.WeylScalars_Cartesian as weyl\n",
    "LeviCivitaSymbolDDD = weyl.define_LeviCivitaSymbol_rank3()\n",
    "\n",
    "Bleft2 = BleftU[0]*BleftU[0] + BleftU[1]*BleftU[1] + BleftU[2]*BleftU[2]\n",
    "Bcenter2 = BcenterU[0]*BcenterU[0] + BcenterU[1]*BcenterU[1] + BcenterU[2]*BcenterU[2]\n",
    "Bright2 = BrightU[0]*BrightU[0] + BrightU[1]*BrightU[1] + BrightU[2]*BrightU[2]\n",
    "\n",
    "ValenciavU = ixp.register_gridfunctions_for_single_rank1(\"AUX\",\"ValenciavU\")\n",
    "\n",
    "ValenciavleftU = ixp.zerorank1()\n",
    "for i in range(DIM):\n",
    "    for j in range(DIM):\n",
    "        for k in range(DIM):\n",
    "            ValenciavleftU[i] += LeviCivitaSymbolDDD[i][j][k] * EleftU[j] * BleftU[k] / Bleft2\n",
    "            \n",
    "ValenciavcenterU = ixp.zerorank1()\n",
    "for i in range(DIM):\n",
    "    for j in range(DIM):\n",
    "        for k in range(DIM):\n",
    "            ValenciavcenterU[i] += LeviCivitaSymbolDDD[i][j][k] * EcenterU[j] * BcenterU[k] / Bcenter2\n",
    "            \n",
    "ValenciavrightU = ixp.zerorank1()\n",
    "for i in range(DIM):\n",
    "    for j in range(DIM):\n",
    "        for k in range(DIM):\n",
    "            ValenciavrightU[i] += LeviCivitaSymbolDDD[i][j][k] * ErightU[j] * BrightU[k] / Bright2"
   ]
  },
  {
   "cell_type": "markdown",
   "metadata": {},
   "source": [
    "<a id='code_validation'></a>\n",
    "\n",
    "# Step 5: Code Validation against `GiRaFFEfood_HO/GiRaFFEfood_HO_1D_tests` NRPy+ module \\[Back to [top](#toc)\\]\n",
    "$$\\label{code_validation}$$\n",
    "\n",
    "Here, as a code validation check, we verify agreement in the SymPy expressions for the `GiRaFFE` Aligned Rotator initial data equations  we intend to use between\n",
    "1. this tutorial and \n",
    "2. the NRPy+ [`GiRaFFEfood_HO/GiRaFFEfood_HO_1D_tests.py`](../edit/GiRaFFEfood_HO/GiRaFFEfood_HO_1D_tests.py) module.\n",
    "\n"
   ]
  },
  {
   "cell_type": "code",
   "execution_count": 12,
   "metadata": {},
   "outputs": [
    {
     "name": "stdout",
     "output_type": "stream",
     "text": [
      "Consistency check between GiRaFFEfood_HO tutorial and NRPy+ module: ALL SHOULD BE ZERO.\n",
      "ValenciavleftU[0] - gfho.ValenciavleftU[0] = 0\n",
      "AleftD[0] - gfho.AleftD[0] = 0\n",
      "ValenciavcenterU[0] - gfho.ValenciavcenterU[0] = 0\n",
      "AcenterD[0] - gfho.AcenterD[0] = 0\n",
      "ValenciavrightU[0] - gfho.ValenciavrightU[0] = 0\n",
      "ArightD[0] - gfho.ArightD[0] = 0\n",
      "ValenciavleftU[1] - gfho.ValenciavleftU[1] = 0\n",
      "AleftD[1] - gfho.AleftD[1] = 0\n",
      "ValenciavcenterU[1] - gfho.ValenciavcenterU[1] = 0\n",
      "AcenterD[1] - gfho.AcenterD[1] = 0\n",
      "ValenciavrightU[1] - gfho.ValenciavrightU[1] = 0\n",
      "ArightD[1] - gfho.ArightD[1] = 0\n",
      "ValenciavleftU[2] - gfho.ValenciavleftU[2] = 0\n",
      "AleftD[2] - gfho.AleftD[2] = 0\n",
      "ValenciavcenterU[2] - gfho.ValenciavcenterU[2] = 0\n",
      "AcenterD[2] - gfho.AcenterD[2] = 0\n",
      "ValenciavrightU[2] - gfho.ValenciavrightU[2] = 0\n",
      "ArightD[2] - gfho.ArightD[2] = 0\n"
     ]
    }
   ],
   "source": [
    "# Reset the list of gridfunctions, as registering a gridfunction\n",
    "#   twice will spawn an error.\n",
    "gri.glb_gridfcs_list = []\n",
    "\n",
    "import GiRaFFEfood_HO.GiRaFFEfood_HO_1D_tests as gfho\n",
    "gfho.GiRaFFEfood_HO_1D_tests()\n",
    "\n",
    "print(\"Consistency check between GiRaFFEfood_HO tutorial and NRPy+ module: ALL SHOULD BE ZERO.\")\n",
    "\n",
    "for i in range(DIM):\n",
    "\n",
    "    print(\"ValenciavleftU[\"+str(i)+\"] - gfho.ValenciavleftU[\"+str(i)+\"] = \" + str(ValenciavleftU[i] - gfho.ValenciavleftU[i]))\n",
    "    print(\"AleftD[\"+str(i)+\"] - gfho.AleftD[\"+str(i)+\"] = \" + str(AleftD[i] - gfho.AleftD[i]))\n",
    "    print(\"ValenciavcenterU[\"+str(i)+\"] - gfho.ValenciavcenterU[\"+str(i)+\"] = \" + str(ValenciavcenterU[i] - gfho.ValenciavcenterU[i]))\n",
    "    print(\"AcenterD[\"+str(i)+\"] - gfho.AcenterD[\"+str(i)+\"] = \" + str(AcenterD[i] - gfho.AcenterD[i]))\n",
    "    print(\"ValenciavrightU[\"+str(i)+\"] - gfho.ValenciavrightU[\"+str(i)+\"] = \" + str(ValenciavrightU[i] - gfho.ValenciavrightU[i]))\n",
    "    print(\"ArightD[\"+str(i)+\"] - gfho.ArightD[\"+str(i)+\"] = \" + str(ArightD[i] - gfho.ArightD[i]))"
   ]
  },
  {
   "cell_type": "markdown",
   "metadata": {},
   "source": [
    "<a id='latex_pdf_output'></a>\n",
    "\n",
    "# Step 6: Output this notebook to $\\LaTeX$-formatted PDF file \\[Back to [top](#toc)\\]\n",
    "$$\\label{latex_pdf_output}$$\n",
    "\n",
    "The following code cell converts this Jupyter notebook into a proper, clickable $\\LaTeX$-formatted PDF file. After the cell is successfully run, the generated PDF may be found in the root NRPy+ tutorial directory, with filename\n",
    "[Tutorial-GiRaFFEfood_HO_1D_tests.pdf](Tutorial-GiRaFFEfood_HO_1D_tests.pdf) (Note that clicking on this link may not work; you may need to open the PDF file through another means.)"
   ]
  },
  {
   "cell_type": "code",
   "execution_count": 13,
   "metadata": {},
   "outputs": [
    {
     "name": "stdout",
     "output_type": "stream",
     "text": [
      "[NbConvertApp] Converting notebook Tutorial-GiRaFFEfood_HO_1D_tests.ipynb to latex\n",
      "[NbConvertApp] Writing 54828 bytes to Tutorial-GiRaFFEfood_HO_1D_tests.tex\n",
      "This is pdfTeX, Version 3.14159265-2.6-1.40.18 (TeX Live 2017/Debian) (preloaded format=pdflatex)\n",
      " restricted \\write18 enabled.\n",
      "entering extended mode\n",
      "This is pdfTeX, Version 3.14159265-2.6-1.40.18 (TeX Live 2017/Debian) (preloaded format=pdflatex)\n",
      " restricted \\write18 enabled.\n",
      "entering extended mode\n",
      "This is pdfTeX, Version 3.14159265-2.6-1.40.18 (TeX Live 2017/Debian) (preloaded format=pdflatex)\n",
      " restricted \\write18 enabled.\n",
      "entering extended mode\n"
     ]
    }
   ],
   "source": [
    "!jupyter nbconvert --to latex --template latex_nrpy_style.tplx --log-level='WARN' Tutorial-GiRaFFEfood_HO_1D_tests.ipynb\n",
    "!pdflatex -interaction=batchmode Tutorial-GiRaFFEfood_HO_1D_tests.tex\n",
    "!pdflatex -interaction=batchmode Tutorial-GiRaFFEfood_HO_1D_tests.tex\n",
    "!pdflatex -interaction=batchmode Tutorial-GiRaFFEfood_HO_1D_tests.tex\n",
    "!rm -f Tut*.out Tut*.aux Tut*.log"
   ]
  }
 ],
 "metadata": {
  "kernelspec": {
   "display_name": "Python 2",
   "language": "python",
   "name": "python2"
  },
  "language_info": {
   "codemirror_mode": {
    "name": "ipython",
    "version": 2
   },
   "file_extension": ".py",
   "mimetype": "text/x-python",
   "name": "python",
   "nbconvert_exporter": "python",
   "pygments_lexer": "ipython2",
   "version": "2.7.13"
  }
 },
 "nbformat": 4,
 "nbformat_minor": 2
}
