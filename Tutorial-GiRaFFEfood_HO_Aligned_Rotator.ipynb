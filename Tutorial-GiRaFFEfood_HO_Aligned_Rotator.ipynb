{
 "cells": [
  {
   "cell_type": "markdown",
   "metadata": {},
   "source": [
    "<script async src=\"https://www.googletagmanager.com/gtag/js?id=UA-59152712-8\"></script>\n",
    "<script>\n",
    "  window.dataLayer = window.dataLayer || [];\n",
    "  function gtag(){dataLayer.push(arguments);}\n",
    "  gtag('js', new Date());\n",
    "\n",
    "  gtag('config', 'UA-59152712-8');\n",
    "</script>\n",
    "\n",
    "# `GiRaFFEfood`: Initial data for `GiRaFFE` Aligned Rotator\n",
    "\n",
    "## Author: Zach Etienne & Patrick Nelson\n",
    "### Formatting improvements courtesy Brandon Clark\n",
    "\n",
    "[comment]: <> (Abstract: TODO)\n",
    "\n",
    "**Module Status:** <font color='orange'><b> Self-Validated </b></font>\n",
    "\n",
    "**Validation Notes:** This tutorial notebook has been confirmed to be self-consistent with its corresponding NRPy+ module, as documented [below](#code_validation). **Additional validation tests may have been performed, but are as yet, undocumented. (TODO)**\n",
    "\n",
    "### NRPy+ Source Code for this module: [GiRaFFEfood_HO_Aligned_Rotator.py](../edit/GiRaFFEfood_HO/GiRaFFEfood_HO_Aligned_Rotator.py)\n",
    "\n",
    "## Introduction: \n",
    "\n",
    "This module provides another initial data option for $\\texttt{GiRaFFE}$. This is a flat-spacetime test with initial data $$A_{\\phi} = \\frac{\\mu \\varpi^2}{r^3},$$ where  $\\mu = B_p R^3_{\\rm NS} / 2$, $R_{\\rm NS}$ is the neutron star radius, and $\\varpi = \\sqrt{x^2+y^2}$ is the cylindrical radius. We let $A_r = A_\\theta = 0$.\n",
    "\n",
    "Additionally, the drift velocity $v^i = \\Omega \\textbf{e}_z \\times \\textbf{r} = [ijk] \\Omega \\textbf{e}^j_z x^k$, where $[ijk]$ is the Levi-Civita permutation symbol and $\\textbf{e}^i_z = (0,0,1)$. See the [Tutorial-GiRaFFEfood_HO](Tutorial-GiRaFFEfood_HO.ipynb) tutorial notebook for details on how this is used."
   ]
  },
  {
   "cell_type": "markdown",
   "metadata": {},
   "source": [
    "<a id='toc'></a>\n",
    "\n",
    "# Table of Contents:\n",
    "$$\\label{toc}$$\n",
    "\n",
    "This notebook is organized as follows\n",
    "\n",
    "1. [Step 1](#initializenrpy): Import core NRPy+ modules and set NRPy+ parameters\n",
    "1. [Step 2](#set_aphi): Set the vector $A_{\\phi}$ Spherical coordinates \n",
    "1. [Step 3](#jacobian): Use the Jacobian matrix to transform the vectors to Cartesian coordinates\n",
    "1. [Step 4](#vi): Calculate $v^i$\n",
    "1. [Step 5](#code_validation): Code Validation against `GiRaFFEfood_HO.GiRaFFEfood_HO_Aligned_Rotator` NRPy+ Module\n",
    "1. [Step 6](#latex_pdf_output): Output this notebook to $\\LaTeX$-formatted PDF file"
   ]
  },
  {
   "cell_type": "markdown",
   "metadata": {},
   "source": [
    "<a id='initializenrpy'></a>\n",
    "\n",
    "# Step 1: Import core NRPy+ modules and set NRPy+ parameters \\[Back to [top](#toc)\\]\n",
    "$$\\label{initializenrpy}$$\n",
    "\n",
    "Here, we will import the NRPy+ core modules and set the reference metric to Cartesian, set commonly used NRPy+ parameters, and set C parameters that will be set from outside the code eventually generated from these expressions. We will also set up a parameter to determine what initial data is set up, although it won't do much yet."
   ]
  },
  {
   "cell_type": "code",
   "execution_count": 1,
   "metadata": {},
   "outputs": [],
   "source": [
    "# Step 0: Import the NRPy+ core modules and set the reference metric to Cartesian\n",
    "import NRPy_param_funcs as par\n",
    "import indexedexp as ixp\n",
    "import grid as gri\n",
    "import finite_difference as fin\n",
    "from outputC import *\n",
    "import loop\n",
    "\n",
    "import reference_metric as rfm\n",
    "par.set_parval_from_str(\"reference_metric::CoordSystem\",\"Cartesian\")\n",
    "rfm.reference_metric()\n",
    "\n",
    "# Step 1a: Set commonly used parameters.\n",
    "thismodule = \"GiRaFFEfood_HO_Aligned_Rotator\"\n",
    "# Set the spatial dimension parameter to 3.\n",
    "par.set_parval_from_str(\"grid::DIM\", 3)\n",
    "DIM = par.parval_from_str(\"grid::DIM\")\n",
    "\n",
    "B_p_aligned_rotator,R_NS_aligned_rotator = par.Cparameters(\"REAL\",thismodule,\n",
    "                                                           # B_p_aligned_rotator = the intensity of the magnetic field and\n",
    "                                                           # R_NS_aligned_rotator= \"Neutron star\" radius\n",
    "                                                           [\"B_p_aligned_rotator\",\"R_NS_aligned_rotator\"],\n",
    "                                                           [1e-5, 1.0])"
   ]
  },
  {
   "cell_type": "markdown",
   "metadata": {},
   "source": [
    "<a id='set_aphi'></a>\n",
    "\n",
    "# Step 2: Set the vector $A_{\\phi}$ in Spherical coordinates \\[Back to [top](#toc)\\]\n",
    "$$\\label{set_aphi}$$\n",
    "\n",
    "We will first build the fundamental vector $A_i$ in spherical coordinates (see [Table 3](https://arxiv.org/pdf/1704.00599.pdf)). Note that we use [reference_metric.py](../edit/reference_metric.py) to set $r$ and $\\theta$ in terms of Cartesian coordinates; this will save us a step later when we convert to Cartesian coordinates. So, we set \n",
    "\\begin{align}\n",
    "A_{\\phi} &= \\frac{\\mu \\varpi^2}{r^3}, \\\\\n",
    "\\end{align}\n",
    "with $\\mu = B_p R^3_{\\rm NS} / 2$, $R_{\\rm NS}$ is the neutron star radius, and $\\varpi = \\sqrt{x^2+y^2}$\n"
   ]
  },
  {
   "cell_type": "code",
   "execution_count": 2,
   "metadata": {},
   "outputs": [],
   "source": [
    "r     = rfm.xxSph[0]\n",
    "varpi = sp.sqrt(rfm.xxCart[0]**2 + rfm.xxCart[1]**2)\n",
    "\n",
    "mu = B_p_aligned_rotator * R_NS_aligned_rotator**3 / 2\n",
    "#mu = 5e-6\n",
    "\n",
    "ASphD = ixp.zerorank1()\n",
    "\n",
    "ASphD[2] = mu * varpi**2 / (r**3) # The other components were already declared to be 0.\n"
   ]
  },
  {
   "cell_type": "markdown",
   "metadata": {},
   "source": [
    "<a id='jacobian'></a>\n",
    "\n",
    "# Step 3: Use the Jacobian matrix to transform the vector to Cartesian coordinates \\[Back to [top](#toc)\\]\n",
    "$$\\label{jacobian}$$\n",
    "\n",
    "Now, we will use the coordinate transformation definitions provided by [reference_metric.py](../edit/reference_metric.py) to build the Jacobian \n",
    "$$ \n",
    "\\frac{\\partial x_{\\rm Sph}^j}{\\partial x_{\\rm Cart}^i},\n",
    "$$ \n",
    "where $x_{\\rm Sph}^j \\in \\{r,\\theta,\\phi\\}$ and $x_{\\rm Cart}^i \\in \\{x,y,z\\}$. We would normally compute its inverse, but since none of the quantities we need to transform have upper indices, it is not necessary. Then, since $A_i$ and has one lower index, it will need to be multiplied by the Jacobian:\n",
    "\n",
    "$$\n",
    "A_i^{\\rm Cart} = A_j^{\\rm Sph} \\frac{\\partial x_{\\rm Sph}^j}{\\partial x_{\\rm Cart}^i},\n",
    "$$"
   ]
  },
  {
   "cell_type": "code",
   "execution_count": 3,
   "metadata": {},
   "outputs": [
    {
     "name": "stdout",
     "output_type": "stream",
     "text": [
      "-B_p_aligned_rotator*R_NS_aligned_rotator**3*xx1/(2*(xx0**2 + xx1**2 + xx2**2)**(3/2))\n",
      "B_p_aligned_rotator*R_NS_aligned_rotator**3*xx0/(2*(xx0**2 + xx1**2 + xx2**2)**(3/2))\n",
      "0\n"
     ]
    }
   ],
   "source": [
    "# Step 3: Use the Jacobian matrix to transform the vectors to Cartesian coordinates.\n",
    "drrefmetric__dx_0UDmatrix = sp.Matrix([[sp.diff(rfm.xxSph[0],rfm.xx[0]), sp.diff(rfm.xxSph[0],rfm.xx[1]), sp.diff(rfm.xxSph[0],rfm.xx[2])],\n",
    "                                       [sp.diff(rfm.xxSph[1],rfm.xx[0]), sp.diff(rfm.xxSph[1],rfm.xx[1]), sp.diff(rfm.xxSph[1],rfm.xx[2])],\n",
    "                                       [sp.diff(rfm.xxSph[2],rfm.xx[0]), sp.diff(rfm.xxSph[2],rfm.xx[1]), sp.diff(rfm.xxSph[2],rfm.xx[2])]])\n",
    "#dx__drrefmetric_0UDmatrix = drrefmetric__dx_0UDmatrix.inv() # We don't actually need this in this case.\n",
    "\n",
    "AD = ixp.register_gridfunctions_for_single_rank1(\"AUX\",\"AD\")\n",
    "for i in range(DIM):\n",
    "    for j in range(DIM):\n",
    "        AD[i] = drrefmetric__dx_0UDmatrix[(j,i)]*ASphD[j]\n",
    "    print(AD[i])\n"
   ]
  },
  {
   "cell_type": "markdown",
   "metadata": {},
   "source": [
    "<a id='vi'></a>\n",
    "\n",
    "# Step 4: Calculate $v^i$ \\[Back to [top](#toc)\\]\n",
    "$$\\label{vi}$$\n",
    "\n",
    "Here, we will calculate the drift velocity $v^i = \\Omega \\textbf{e}_z \\times \\textbf{r} = [ijk] \\Omega \\textbf{e}^j_z x^k$, where $[ijk]$ is the Levi-Civita permutation symbol and $\\textbf{e}^i_z = (0,0,1)$. Conveniently, in flat space, the drift velocity reduces to the Valencia velocity because $\\alpha = 1$ and $\\beta^i = 0$.\n"
   ]
  },
  {
   "cell_type": "code",
   "execution_count": 4,
   "metadata": {},
   "outputs": [],
   "source": [
    "# Step 4: Calculate v^i\n",
    "# Here, we build the Levi-Civita tensor from the Levi-Civita symbol.\n",
    "import WeylScal4NRPy.WeylScalars_Cartesian as weyl\n",
    "LeviCivitaSymbolDDD = weyl.define_LeviCivitaSymbol_rank3()\n",
    "\n",
    "ADdD = ixp.zerorank2()\n",
    "for i in range(DIM):\n",
    "    for j in range(DIM):\n",
    "        ADdD[i][j] = sp.simplify(sp.diff(AD[i],rfm.xxCart[j]))\n",
    "BU = ixp.zerorank1()\n",
    "for i in range(DIM):\n",
    "    for j in range(DIM):\n",
    "        for k in range(DIM):\n",
    "            BU[i] += LeviCivitaSymbolDDD[i][j][k] * ADdD[k][j]\n",
    "\n",
    "# The angular velocity of the \"neutron star\"\n",
    "Omega_aligned_rotator = par.Cparameters(\"REAL\",thismodule,\"Omega_aligned_rotator\",1e3) \n",
    "\n",
    "unit_zU = ixp.zerorank1()\n",
    "unit_zU[2] = 1\n",
    "\n",
    "ValenciavU = ixp.zerorank1()\n",
    "for i in range(DIM):\n",
    "    for j in range(DIM):\n",
    "        for k in range(DIM):\n",
    "            ValenciavU[i] += LeviCivitaSymbolDDD[i][j][k] * Omega_aligned_rotator * unit_zU[j] * rfm.xx[k]"
   ]
  },
  {
   "cell_type": "markdown",
   "metadata": {},
   "source": [
    "<a id='code_validation'></a>\n",
    "\n",
    "# Step 5: Code Validation against `GiRaFFEfood_HO.GiRaFFEfood_HO_Aligned_Rotator` NRPy+ Module  \\[Back to [top](#toc)\\]\n",
    "$$\\label{code_validation}$$\n",
    "\n",
    "Here, as a code validation check, we verify agreement in the SymPy expressions for the $\\texttt{GiRaFFE}$ Aligned Rotator initial data equations we intend to use between\n",
    "\n",
    "1. this tutorial and \n",
    "2. the NRPy+ [GiRaFFEfood_HO.GiRaFFEfood_HO_Aligned_Rotator](../edit/GiRaFFEfood_HO/GiRaFFEfood_HO_Aligned_Rotator.py) module."
   ]
  },
  {
   "cell_type": "code",
   "execution_count": 5,
   "metadata": {},
   "outputs": [
    {
     "name": "stdout",
     "output_type": "stream",
     "text": [
      "Consistency check between GiRaFFEfood_HO tutorial and NRPy+ module: ALL SHOULD BE ZERO.\n",
      "ValenciavU[0] - gfho.ValenciavU[0] = \t0\n",
      "AD[0] - gfho.AD[0] = \t\t\t0\n",
      "ValenciavU[1] - gfho.ValenciavU[1] = \t0\n",
      "AD[1] - gfho.AD[1] = \t\t\t0\n",
      "ValenciavU[2] - gfho.ValenciavU[2] = \t0\n",
      "AD[2] - gfho.AD[2] = \t\t\t0\n"
     ]
    }
   ],
   "source": [
    "# Reset the list of gridfunctions, as registering a gridfunction\n",
    "#   twice will spawn an error.\n",
    "gri.glb_gridfcs_list = []\n",
    "\n",
    "import GiRaFFEfood_HO.GiRaFFEfood_HO_Aligned_Rotator as gfho\n",
    "gfho.GiRaFFEfood_HO_Aligned_Rotator()\n",
    "\n",
    "print(\"Consistency check between GiRaFFEfood_HO tutorial and NRPy+ module: ALL SHOULD BE ZERO.\")\n",
    "\n",
    "for i in range(DIM):\n",
    "\n",
    "    print(\"ValenciavU[\"+str(i)+\"] - gfho.ValenciavU[\"+str(i)+\"] = \\t\" + str(ValenciavU[i] - gfho.ValenciavU[i]))\n",
    "    print(\"AD[\"+str(i)+\"] - gfho.AD[\"+str(i)+\"] = \\t\\t\\t\" + str(AD[i] - gfho.AD[i]))"
   ]
  },
  {
   "cell_type": "markdown",
   "metadata": {},
   "source": [
    "<a id='latex_pdf_output'></a>\n",
    "\n",
    "# Step 6: Output this notebook to $\\LaTeX$-formatted PDF file \\[Back to [top](#toc)\\]\n",
    "$$\\label{latex_pdf_output}$$\n",
    "\n",
    "The following code cell converts this Jupyter notebook into a proper, clickable $\\LaTeX$-formatted PDF file. After the cell is successfully run, the generated PDF may be found in the root NRPy+ tutorial directory, with filename\n",
    "[Tutorial-GiRaFFEfood_HO_Aligned_Rotator.pdf](Tutorial-GiRaFFEfood_HO_Aligned_Rotator.pdf) (Note that clicking on this link may not work; you may need to open the PDF file through another means.)"
   ]
  },
  {
   "cell_type": "code",
   "execution_count": 6,
   "metadata": {},
   "outputs": [
    {
     "name": "stdout",
     "output_type": "stream",
     "text": [
      "[NbConvertApp] Converting notebook Tutorial-GiRaFFEfood_HO_Aligned_Rotator.ipynb to latex\n",
      "[NbConvertApp] Writing 41172 bytes to Tutorial-GiRaFFEfood_HO_Aligned_Rotator.tex\n",
      "This is pdfTeX, Version 3.14159265-2.6-1.40.18 (TeX Live 2017/Debian) (preloaded format=pdflatex)\n",
      " restricted \\write18 enabled.\n",
      "entering extended mode\n",
      "This is pdfTeX, Version 3.14159265-2.6-1.40.18 (TeX Live 2017/Debian) (preloaded format=pdflatex)\n",
      " restricted \\write18 enabled.\n",
      "entering extended mode\n",
      "This is pdfTeX, Version 3.14159265-2.6-1.40.18 (TeX Live 2017/Debian) (preloaded format=pdflatex)\n",
      " restricted \\write18 enabled.\n",
      "entering extended mode\n"
     ]
    }
   ],
   "source": [
    "!jupyter nbconvert --to latex --template latex_nrpy_style.tplx --log-level='WARN' Tutorial-GiRaFFEfood_HO_Aligned_Rotator.ipynb\n",
    "!pdflatex -interaction=batchmode Tutorial-GiRaFFEfood_HO_Aligned_Rotator.tex\n",
    "!pdflatex -interaction=batchmode Tutorial-GiRaFFEfood_HO_Aligned_Rotator.tex\n",
    "!pdflatex -interaction=batchmode Tutorial-GiRaFFEfood_HO_Aligned_Rotator.tex\n",
    "!rm -f Tut*.out Tut*.aux Tut*.log"
   ]
  }
 ],
 "metadata": {
  "kernelspec": {
   "display_name": "Python 2",
   "language": "python",
   "name": "python2"
  },
  "language_info": {
   "codemirror_mode": {
    "name": "ipython",
    "version": 2
   },
   "file_extension": ".py",
   "mimetype": "text/x-python",
   "name": "python",
   "nbconvert_exporter": "python",
   "pygments_lexer": "ipython2",
   "version": "2.7.13"
  }
 },
 "nbformat": 4,
 "nbformat_minor": 2
}
