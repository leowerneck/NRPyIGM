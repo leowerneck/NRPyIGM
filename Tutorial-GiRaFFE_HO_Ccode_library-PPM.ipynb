{
 "cells": [
  {
   "cell_type": "markdown",
   "metadata": {},
   "source": [
    "<script async src=\"https://www.googletagmanager.com/gtag/js?id=UA-59152712-8\"></script>\n",
    "<script>\n",
    "  window.dataLayer = window.dataLayer || [];\n",
    "  function gtag(){dataLayer.push(arguments);}\n",
    "  gtag('js', new Date());\n",
    "\n",
    "  gtag('config', 'UA-59152712-8');\n",
    "</script>\n",
    "\n",
    "# The Piecewise-Parabolic Method\n",
    "\n",
    "This notebook documents the function from the original `GiRaFFE` that implements the reconstruction algorithm used by the piecewise-parabolic method (PPM) of [Colella and Woodward (1984)](https://crd.lbl.gov/assets/pubs_presos/AMCS/ANAG/A141984.pdf).\n",
    "\n",
    "The differential equations that `GiRaFFE` evolves have two different terms that contribute to the time evolution of some quantity: the flux term and the source term. The PPM method is what the original `GiRaFFE` uses to handle the flux term; hopefully, using this instead of finite-differencing will fix some of the problems we've been having with `GiRaFFE_HO`.\n",
    "\n",
    "This algorithm is not quite as accessible as the much simpler finite-difference methods; as such, [this notebook](https://mybinder.org/v2/gh/python-hydro/how_to_write_a_hydro_code/master) is recommended as an introduction. It covers a simpler reconstruction scheme, and proved useful in preparing the documentation for this more complicated scheme.\n",
    "\n",
    "The algorithm for finite-volume methods in general is as follows: \n",
    "\n",
    "1. **The Reconstruction Step (This notebook)**\n",
    "    1. **Within each cell, fit to a function that conserves the volume in that cell using information from the neighboring cells**\n",
    "        * **For PPM, we will naturally use parabolas**\n",
    "    1. **Use that fit to define the state at the left and right interface of each cell**\n",
    "    1. **Apply a slope limiter to mitigate Gibbs phenomenon**\n",
    "1. Solving the Riemann Problem\n",
    "    1. Use the left and right reconstructed states to calculate the unique state at boundary\n",
    "    1. Use the unique state to estimate the derivative in the cell\n",
    "1. Repeat the above for each conservative gridfunction in each direction"
   ]
  },
  {
   "cell_type": "markdown",
   "metadata": {},
   "source": [
    "<a id='toc'></a>\n",
    "\n",
    "# Table of Contents\n",
    "$$\\label{toc}$$\n",
    "\n",
    "This notebook is organized as follows\n",
    "\n",
    "0. [Step 0](#prelim): Preliminaries\n",
    "1. [Step 1](#reconstruction): The reconstruction function\n",
    "    1. [Step 1.a](#define): Some definitions and declarations\n",
    "    1. [Step 1.b](#func): The function definition\n",
    "    1. [Step 1.c](#face): Interpolate the face values\n",
    "    1. [Step 1.d](#monotonize): Monotonize the values within each cell\n",
    "    1. [Step 1.e](#shift): Shift indices\n",
    "1. [Step 2](#slope_limit): The slope limiter\n",
    "1. [Step 3](#monotonize_def): The monotonization algorithm\n",
    "1. [Step 4](#latex_pdf_output): Output this notebook to $\\LaTeX$-formatted PDF file"
   ]
  },
  {
   "cell_type": "markdown",
   "metadata": {},
   "source": [
    "<a id='prelim'></a>\n",
    "\n",
    "## Step 0: Preliminaries \\[Back to [top](#toc)\\]\n",
    "$$\\label{prelim}$$\n",
    "\n",
    "This first block of code just sets up a subdirectory within `GiRaFFE_standalone_Ccodes/` to which we will write the C code."
   ]
  },
  {
   "cell_type": "code",
   "execution_count": 1,
   "metadata": {},
   "outputs": [],
   "source": [
    "import cmdline_helper as cmd\n",
    "import os\n",
    "outdir = \"GiRaFFE_standalone_Ccodes/PPM\"\n",
    "cmd.mkdir(os.path.join(outdir,\"/\"))"
   ]
  },
  {
   "cell_type": "markdown",
   "metadata": {},
   "source": [
    "When we convert the code to work with NRPy+, we will be able to make a simplification: since `GiRaFFE_HO` does not use staggered grids, we will be able to skip reconstructing the staggered quantities\n",
    "\n",
    "The structure `gf_and_gz_struct` is a C++ structure used to keep track of ghostzone information between routines. It contains a pointer and two arrays. It is specified by the following code:\n",
    "\n",
    "```c\n",
    "// Keeping track of ghostzones between routines is a nightmare, so\n",
    "//   we instead attach ghostzone info to each gridfunction and set\n",
    "//   the ghostzone information correctly within each routine.\n",
    "struct gf_and_gz_struct {\n",
    "  REAL *gf;\n",
    "  int gz_lo[4],gz_hi[4];\n",
    "};\n",
    "```"
   ]
  },
  {
   "cell_type": "markdown",
   "metadata": {},
   "source": [
    "<a id='reconstruction'></a>\n",
    "\n",
    "## Step 1: The reconstruction function \\[Back to [top](#toc)\\]\n",
    "$$\\label{reconstruction}$$\n",
    "\n",
    "<a id='define'></a>\n",
    "\n",
    "### Step 1.a: Some definitions and declarations \\[Back to [top](#toc)\\]\n",
    "$$\\label{define}$$\n",
    "\n",
    "This file contains the functions necessary for reconstruction. It is based on Colella & Woodward PPM in the case where pressure and density $P = \\rho = 0$.\n",
    "\n",
    "We start by defining the values of `MINUS2`...`PLUS2` as $\\{0, \\ldots ,4\\}$ for the sake of convenience later on; we also define `MAXNUMINDICES` as 5 so we can easily loop over the above. We include `loop_defines_reconstruction.h` for some macros that will allow us to conveniently write common loops that we will use (this will be imminently replaced with the NRPy+ standard `LOOP_REGION` **(Actually, might be better to directly port these)**) and give the function prototypes for our slope limiter, `slope_limit()`, and our monotization algorithm, `monotonize()`."
   ]
  },
  {
   "cell_type": "code",
   "execution_count": 2,
   "metadata": {},
   "outputs": [
    {
     "name": "stdout",
     "output_type": "stream",
     "text": [
      "Overwriting GiRaFFE_standalone_Ccodes/PPM/reconstruct_set_of_prims_PPM_GRFFE.C\n"
     ]
    }
   ],
   "source": [
    "%%writefile $outdir/reconstruct_set_of_prims_PPM_GRFFE.C\n",
    "/*****************************************\n",
    " * PPM Reconstruction Interface.\n",
    " * Zachariah B. Etienne (2013)\n",
    " *\n",
    " * This version of PPM implements the standard \n",
    " * Colella & Woodward PPM, but in the GRFFE\n",
    " * limit, where P=rho=0. Thus, e.g., ftilde=0.\n",
    " *****************************************/\n",
    "\n",
    "#define MINUS2 0\n",
    "#define MINUS1 1\n",
    "#define PLUS0  2\n",
    "#define PLUS1  3\n",
    "#define PLUS2  4\n",
    "#define MAXNUMINDICES 5\n",
    "//    ^^^^^^^^^^^^^ Be _sure_ to define MAXNUMINDICES appropriately!\n",
    "\n",
    "// You'll find the #define's for LOOP_DEFINE and SET_INDEX_ARRAYS inside:\n",
    "#include \"loop_defines_reconstruction.h\"\n",
    "\n",
    "static inline REAL slope_limit(const REAL dU,const REAL dUp1);\n",
    "static inline void monotonize(const REAL U,REAL &Ur,REAL &Ul);\n",
    "\n"
   ]
  },
  {
   "cell_type": "markdown",
   "metadata": {},
   "source": [
    "<a id='func'></a>\n",
    "\n",
    "### Step 1.b: The function definition \\[Back to [top](#toc)\\]\n",
    "$$\\label{func}$$\n",
    "\n",
    "Here, we start the function definition for the main function for our reconstruction, `reconstruct_set_of_prims_PPM_GRFFE()`. Among its parameters are the arrays that define the grid (that will need to be replaced with NRPy+ equivalents), a flux direction, the integer array specifying which primitives to reconstruct (as well as the number of primitives to reconstruct), the input structure `in_prims`, the output structures `out_prims_r` and `out_prims_l`, and a temporary array (this will be used to help switch variable names).\n",
    "\n",
    "We then check the number of ghostzones and error out if there are too few - this method requires three. Note the `for` loop here; it continues through the next two cells as well, looping over each primitive we will reconstruct in the chosen direction. "
   ]
  },
  {
   "cell_type": "code",
   "execution_count": 3,
   "metadata": {},
   "outputs": [
    {
     "name": "stdout",
     "output_type": "stream",
     "text": [
      "Appending to GiRaFFE_standalone_Ccodes/PPM/reconstruct_set_of_prims_PPM_GRFFE.C\n"
     ]
    }
   ],
   "source": [
    "%%writefile -a $outdir/reconstruct_set_of_prims_PPM_GRFFE.C\n",
    "\n",
    "static void reconstruct_set_of_prims_PPM_GRFFE(const cGH *cctkGH,const int *cctk_lsh,const int flux_dirn,const int num_prims_to_reconstruct,const int *which_prims_to_reconstruct,\n",
    "                                               const gf_and_gz_struct *in_prims,gf_and_gz_struct *out_prims_r,gf_and_gz_struct *out_prims_l, REAL *temporary) {\n",
    "\n",
    "  REAL U[MAXNUMVARS][MAXNUMINDICES],dU[MAXNUMVARS][MAXNUMINDICES],slope_lim_dU[MAXNUMVARS][MAXNUMINDICES],\n",
    "    Ur[MAXNUMVARS][MAXNUMINDICES],Ul[MAXNUMVARS][MAXNUMINDICES];\n",
    "  int ijkgz_lo_hi[4][2];\n",
    "\n",
    "  for(int ww=0;ww<num_prims_to_reconstruct;ww++) {\n",
    "    const int whichvar=which_prims_to_reconstruct[ww];\n",
    "\n",
    "    if(in_prims[whichvar].gz_lo[flux_dirn]!=0 || in_prims[whichvar].gz_hi[flux_dirn]!=0) {\n",
    "      CCTK_VError(VERR_DEF_PARAMS,\"TOO MANY GZ'S! WHICHVAR=%d: %d %d %d : %d %d %d DIRECTION %d\",whichvar,\n",
    "\t\t  in_prims[whichvar].gz_lo[1],in_prims[whichvar].gz_lo[2],in_prims[whichvar].gz_lo[3],\n",
    "\t\t  in_prims[whichvar].gz_hi[1],in_prims[whichvar].gz_hi[2],in_prims[whichvar].gz_hi[3],flux_dirn);\n",
    "    }\n",
    "    "
   ]
  },
  {
   "cell_type": "markdown",
   "metadata": {},
   "source": [
    "<a id='face'></a>\n",
    "\n",
    "### Step 1.c: Interpolate the face values \\[Back to [top](#toc)\\]\n",
    "$$\\label{face}$$\n",
    "\n",
    "In Loop 1, we will interpolate the face values at the left and right interfaces, `Ur` and `Ul`, respectively. This is done on a point-by-point basis as defined by the `LOOP_DEFINE`. \n",
    "\n",
    "After reading in the relevant values from memory, we calculate thesimple `dU`:\n",
    "\\begin{align}\n",
    "dU_{-1} &= U_{-1} - U_{-2} \\\\\n",
    "dU_{+0} &= U_{+0} - U_{-1} \\\\\n",
    "dU_{+1} &= U_{+1} - U_{+0} \\\\\n",
    "dU_{+2} &= U_{+2} - U_{+1}. \\\\\n",
    "\\end{align}\n",
    "From that, we compute the slope-limited `slope_lim_dU`, or $\\nabla U$ (see [below](#slope_limit)). Then, we compute the face values using eq. A1 from [arxiv:astro-ph/050342](http://arxiv.org/pdf/astro-ph/0503420.pdf), adapted from 1.9 in [Colella and Woodward (1984)](https://crd.lbl.gov/assets/pubs_presos/AMCS/ANAG/A141984.pdf):\n",
    "\\begin{align}\n",
    "U_r &= \\frac{1}{2} \\left( U_{+1} + U_{+0} \\right) + \\frac{1}{6} \\left( \\nabla U_{+0} - \\nabla U_{+1} \\right) \\\\\n",
    "U_l &= \\frac{1}{2} \\left( U_{+0} + U_{-1} \\right) + \\frac{1}{6} \\left( \\nabla U_{-1} - \\nabla U_{+0} \\right). \\\\\n",
    "\\end{align}\n",
    "(Note, however, that we use the standard coefficient $1/6$ instead of $1/8$.) Finally, we write the values to memory in the output structures."
   ]
  },
  {
   "cell_type": "code",
   "execution_count": 4,
   "metadata": {},
   "outputs": [
    {
     "name": "stdout",
     "output_type": "stream",
     "text": [
      "Appending to GiRaFFE_standalone_Ccodes/PPM/reconstruct_set_of_prims_PPM_GRFFE.C\n"
     ]
    }
   ],
   "source": [
    "%%writefile -a $outdir/reconstruct_set_of_prims_PPM_GRFFE.C\n",
    "\n",
    "    // *** LOOP 1: Interpolate to Ur and Ul, which are face values ***\n",
    "    //  You will find that Ur depends on U at MINUS1,PLUS0, PLUS1,PLUS2, and\n",
    "    //                     Ul depends on U at MINUS2,MINUS1,PLUS0,PLUS1.\n",
    "    //  However, we define the below loop from MINUS2 to PLUS2. Why not split\n",
    "    //     this up and get additional points? Maybe we should. In GRMHD, the\n",
    "    //     reason is that later on, Ur and Ul depend on ftilde, which is\n",
    "    //     defined from MINUS2 to PLUS2, so we would lose those points anyway.\n",
    "    //     But in GRFFE, ftilde is set to zero, so there may be a potential\n",
    "    //     for boosting performance here.\n",
    "    LOOP_DEFINE(2,2,  cctk_lsh,flux_dirn,  ijkgz_lo_hi,in_prims[whichvar].gz_lo,in_prims[whichvar].gz_hi) {\n",
    "      SET_INDEX_ARRAYS(-2,2,flux_dirn);\n",
    "      /* *** LOOP 1a: READ INPUT *** */\n",
    "      // Read in a primitive at all gridpoints between m = MINUS2 & PLUS2, where m's direction is given by flux_dirn. Store to U. \n",
    "      for(int ii=MINUS2;ii<=PLUS2;ii++) U[whichvar][ii] = in_prims[whichvar].gf[index_arr[flux_dirn][ii]];\n",
    "      \n",
    "      /* *** LOOP 1b: DO COMPUTATION *** */\n",
    "      /* First, compute simple dU = U(i) - U(i-1), where direction of i \n",
    "       *         is given by flux_dirn, and U is a primitive variable: \n",
    "       *         {vx,vy,vz,Bx,By,Bz}. */\n",
    "      // Note that for Ur and Ul at i, we must compute dU(i-1),dU(i),dU(i+1), \n",
    "      //         and dU(i+2)\n",
    "      dU[whichvar][MINUS1] = U[whichvar][MINUS1]- U[whichvar][MINUS2];  \n",
    "      dU[whichvar][PLUS0]  = U[whichvar][PLUS0] - U[whichvar][MINUS1]; \n",
    "      dU[whichvar][PLUS1]  = U[whichvar][PLUS1] - U[whichvar][PLUS0];  \n",
    "      dU[whichvar][PLUS2]  = U[whichvar][PLUS2] - U[whichvar][PLUS1];  \n",
    "\n",
    "      // Then, compute slope-limited dU, using MC slope limiter:\n",
    "      slope_lim_dU[whichvar][MINUS1]=slope_limit(dU[whichvar][MINUS1],dU[whichvar][PLUS0]);\n",
    "      slope_lim_dU[whichvar][PLUS0] =slope_limit(dU[whichvar][PLUS0], dU[whichvar][PLUS1]);\n",
    "      slope_lim_dU[whichvar][PLUS1] =slope_limit(dU[whichvar][PLUS1], dU[whichvar][PLUS2]);\n",
    "\n",
    "      // Finally, compute face values Ur and Ul based on the PPM prescription \n",
    "      //   (Eq. A1 in http://arxiv.org/pdf/astro-ph/0503420.pdf, but using standard 1/6=(1.0/6.0) coefficient)\n",
    "      // Ur[PLUS0] represents U(i+1/2)\n",
    "      // We applied a simplification to the following line: Ur=U+0.5*(U(i+1)-U) + ... = 0.5*(U(i+1)+U) + ...\n",
    "      Ur[whichvar][PLUS0] = 0.5*(U[whichvar][PLUS1] + U[whichvar][PLUS0] ) + (1.0/6.0)*(slope_lim_dU[whichvar][PLUS0]  - slope_lim_dU[whichvar][PLUS1]);\n",
    "      // Ul[PLUS0] represents U(i-1/2)\n",
    "      // We applied a simplification to the following line: Ul=U(i-1)+0.5*(U-U(i-1)) + ... = 0.5*(U+U(i-1)) + ...\n",
    "      Ul[whichvar][PLUS0] = 0.5*(U[whichvar][PLUS0] + U[whichvar][MINUS1]) + (1.0/6.0)*(slope_lim_dU[whichvar][MINUS1] - slope_lim_dU[whichvar][PLUS0]);\n",
    "\n",
    "      /* *** LOOP 1c: WRITE OUTPUT *** */\n",
    "      // Store right face values to {vxr,vyr,vzr,Bxr,Byr,Bzr},\n",
    "      //    and left face values to {vxl,vyl,vzl,Bxl,Byl,Bzl}\n",
    "      out_prims_r[whichvar].gf[index_arr[flux_dirn][PLUS0]] = Ur[whichvar][PLUS0];\n",
    "      out_prims_l[whichvar].gf[index_arr[flux_dirn][PLUS0]] = Ul[whichvar][PLUS0];      \n",
    "    }\n"
   ]
  },
  {
   "cell_type": "markdown",
   "metadata": {},
   "source": [
    "<a id='monotonize'></a>\n",
    "\n",
    "### Step 1.d: Monotonize the values within each cell \\[Back to [top](#toc)\\]\n",
    "$$\\label{monotonize}$$\n",
    "\n",
    "We skip Loop 2 in GRFFE; then, we flatten the data in Loop 3 (but since we flattenbased on `ftilde_gf`, which is 0 in GRFFE, we again don't really do anything). Also in Loop 3, we call the `monotonize()` function on the face values. This function adjusts the face values to ensure that the data is monotonic within each cell to avoid the Gibbs phenomenon."
   ]
  },
  {
   "cell_type": "code",
   "execution_count": 5,
   "metadata": {},
   "outputs": [
    {
     "name": "stdout",
     "output_type": "stream",
     "text": [
      "Appending to GiRaFFE_standalone_Ccodes/PPM/reconstruct_set_of_prims_PPM_GRFFE.C\n"
     ]
    }
   ],
   "source": [
    "%%writefile -a $outdir/reconstruct_set_of_prims_PPM_GRFFE.C\n",
    "\n",
    "    // *** LOOP 2 (REMOVED): STEEPEN RHOB. RHOB DOES NOT EXIST IN GRFFE EQUATIONS ***\n",
    "  }\n",
    "\n",
    "  // *** LOOP 3: FLATTEN BASED ON FTILDE AND MONOTONIZE ***\n",
    "  for(int ww=0;ww<num_prims_to_reconstruct;ww++) {\n",
    "    const int whichvar=which_prims_to_reconstruct[ww];\n",
    "    // ftilde() depends on P(MINUS2,MINUS1,PLUS1,PLUS2), THUS IS SET TO ZERO IN GRFFE\n",
    "    LOOP_DEFINE(2,2,  cctk_lsh,flux_dirn,  ijkgz_lo_hi,in_prims[whichvar].gz_lo,in_prims[whichvar].gz_hi) {\n",
    "      SET_INDEX_ARRAYS(0,0,flux_dirn);\n",
    "      \n",
    "      U[whichvar][PLUS0]  = in_prims[whichvar].gf[index_arr[flux_dirn][PLUS0]];\n",
    "      Ur[whichvar][PLUS0] = out_prims_r[whichvar].gf[index_arr[flux_dirn][PLUS0]];\n",
    "      Ul[whichvar][PLUS0] = out_prims_l[whichvar].gf[index_arr[flux_dirn][PLUS0]];\n",
    "\n",
    "      // ftilde_gf was computed in the function compute_ftilde_gf(), called before this routine\n",
    "      //REAL ftilde = ftilde_gf[index_arr[flux_dirn][PLUS0]];\n",
    "      // ...and then flatten (local operation)\n",
    "      Ur[whichvar][PLUS0]   = Ur[whichvar][PLUS0];\n",
    "      Ul[whichvar][PLUS0]   = Ul[whichvar][PLUS0];\n",
    "\n",
    "      // Then monotonize\n",
    "      monotonize(U[whichvar][PLUS0],Ur[whichvar][PLUS0],Ul[whichvar][PLUS0]);\n",
    "\n",
    "      out_prims_r[whichvar].gf[index_arr[flux_dirn][PLUS0]] = Ur[whichvar][PLUS0];\n",
    "      out_prims_l[whichvar].gf[index_arr[flux_dirn][PLUS0]] = Ul[whichvar][PLUS0];\n",
    "    }\n",
    "    // Note: ftilde=0 in GRFFE. Ur depends on ftilde, which depends on points of U between MINUS2 and PLUS2\n",
    "    out_prims_r[whichvar].gz_lo[flux_dirn]+=2; \n",
    "    out_prims_r[whichvar].gz_hi[flux_dirn]+=2;\n",
    "    // Note: ftilde=0 in GRFFE. Ul depends on ftilde, which depends on points of U between MINUS2 and PLUS2\n",
    "    out_prims_l[whichvar].gz_lo[flux_dirn]+=2;\n",
    "    out_prims_l[whichvar].gz_hi[flux_dirn]+=2;\n",
    "  }\n"
   ]
  },
  {
   "cell_type": "markdown",
   "metadata": {},
   "source": [
    "<a id='shift'></a>\n",
    "\n",
    "### Step 1.e: Shift indices \\[Back to [top](#toc)\\]\n",
    "$$\\label{shift}$$\n",
    "\n",
    "In Loop 4, we will shift the indices of `Ur` and `Ul`. So far, we have been concerned with the behavior of the data within a single cell. In that context, it makes sense to call the value of data at the left end of the cell `Ul` and the data at the right end of the cell `Ur`. However, going forward, we will be concerned about the behavior of the data at the interface between cells. In this context, it sense to call the value of data on the left of the interface (which is at the right end of the cell!) `Ul` and the data on the right of the interface `Ur`. So, using the array `temporary`, we switch the two names."
   ]
  },
  {
   "cell_type": "code",
   "execution_count": 6,
   "metadata": {},
   "outputs": [
    {
     "name": "stdout",
     "output_type": "stream",
     "text": [
      "Appending to GiRaFFE_standalone_Ccodes/PPM/reconstruct_set_of_prims_PPM_GRFFE.C\n"
     ]
    }
   ],
   "source": [
    "%%writefile -a $outdir/reconstruct_set_of_prims_PPM_GRFFE.C\n",
    "\n",
    "// *** LOOP 4: SHIFT Ur AND Ul ***\n",
    "  /* Currently face values are set so that\n",
    "   *      a) Ur(i) represents U(i+1/2), and\n",
    "   *      b) Ul(i) represents U(i-1/2)\n",
    "   *    Here, we shift so that the indices are consistent:\n",
    "   *      a) U(i-1/2+epsilon) = oldUl(i)   = newUr(i)\n",
    "   *      b) U(i-1/2-epsilon) = oldUr(i-1) = newUl(i)\n",
    "   *    Note that this step is not strictly necessary if you keep\n",
    "   *      track of indices when computing the flux. */\n",
    "  for(int ww=0;ww<num_prims_to_reconstruct;ww++) {\n",
    "    const int whichvar=which_prims_to_reconstruct[ww];\n",
    "    LOOP_DEFINE(3,2,  cctk_lsh,flux_dirn,  ijkgz_lo_hi,in_prims[whichvar].gz_lo,in_prims[whichvar].gz_hi) {\n",
    "      SET_INDEX_ARRAYS(-1,0,flux_dirn);\n",
    "      temporary[index_arr[flux_dirn][PLUS0]] = out_prims_r[whichvar].gf[index_arr[flux_dirn][MINUS1]];\n",
    "    }\n",
    "\n",
    "    LOOP_DEFINE(3,2,  cctk_lsh,flux_dirn,  ijkgz_lo_hi,in_prims[whichvar].gz_lo,in_prims[whichvar].gz_hi) {\n",
    "      SET_INDEX_ARRAYS(0,0,flux_dirn);\n",
    "      // Then shift so that Ur represents the gridpoint at i-1/2+epsilon, \n",
    "      //                and Ul represents the gridpoint at i-1/2-epsilon.\n",
    "      // Ur(i-1/2) = Ul(i-1/2)     = U(i-1/2+epsilon)\n",
    "      // Ul(i-1/2) = Ur(i+1/2 - 1) = U(i-1/2-epsilon)\n",
    "      out_prims_r[whichvar].gf[index_arr[flux_dirn][PLUS0]] = out_prims_l[whichvar].gf[index_arr[flux_dirn][PLUS0]];\n",
    "      out_prims_l[whichvar].gf[index_arr[flux_dirn][PLUS0]] = temporary[index_arr[flux_dirn][PLUS0]];\n",
    "    }\n",
    "    // Ul was just shifted, so we lost another ghostzone.\n",
    "    out_prims_l[whichvar].gz_lo[flux_dirn]+=1;\n",
    "    out_prims_l[whichvar].gz_hi[flux_dirn]+=0;\n",
    "    // As for Ur, we didn't need to get rid of another ghostzone, \n",
    "    //    but we did ... seems wasteful!\n",
    "    out_prims_r[whichvar].gz_lo[flux_dirn]+=1;\n",
    "    out_prims_r[whichvar].gz_hi[flux_dirn]+=0;\n",
    "\n",
    "  }\n",
    "}\n"
   ]
  },
  {
   "cell_type": "markdown",
   "metadata": {},
   "source": [
    "<a id='slope_limit'></a>\n",
    "\n",
    "## Step 2: The slope limiter \\[Back to [top](#toc)\\]\n",
    "$$\\label{slope_limit}$$\n",
    "\n",
    "The first function here implements the Monotonized Central (MC) reconstruction slope limiter: \n",
    "$$ MC(a,b) = \\left \\{ \\begin{array}{ll} \n",
    "             0 & {\\rm if} ab \\leq 0 \\\\\n",
    "             {\\rm sign}(a) \\min(2|a|,2|b|, |a+b|/2) & {\\rm otherwise.}  \n",
    "             \\end{array} \\right.\n",
    "             $$\n",
    "             \n",
    "This is adapted from eq. 1.8 of [Colella and Woodward (1984)](https://crd.lbl.gov/assets/pubs_presos/AMCS/ANAG/A141984.pdf).\n",
    "             "
   ]
  },
  {
   "cell_type": "code",
   "execution_count": 7,
   "metadata": {},
   "outputs": [
    {
     "name": "stdout",
     "output_type": "stream",
     "text": [
      "Appending to GiRaFFE_standalone_Ccodes/PPM/reconstruct_set_of_prims_PPM_GRFFE.C\n"
     ]
    }
   ],
   "source": [
    "%%writefile -a $outdir/reconstruct_set_of_prims_PPM_GRFFE.C\n",
    "\n",
    "// Set SLOPE_LIMITER_COEFF = 2.0 for MC, 1 for minmod\n",
    "#define SLOPE_LIMITER_COEFF 2.0\n",
    "\n",
    "//Eq. 60 in JOURNAL OF COMPUTATIONAL PHYSICS 123, 1-14 (1996) \n",
    "//   [note the factor of 2 missing in the |a_{j+1} - a_{j}| term]. \n",
    "//   Recall that dU = U_{i} - U_{i-1}.\n",
    "static inline REAL slope_limit(const REAL dU,const REAL dUp1) {\n",
    "  if(dU*dUp1 > 0.0) {\n",
    "    //delta_m_U=0.5 * [ (u_(i+1)-u_i) + (u_i-u_(i-1)) ] = (u_(i+1) - u_(i-1))/2  <-- first derivative, second-order; this should happen most of the time (smooth flows)\n",
    "    const REAL delta_m_U = 0.5*(dU + dUp1);\n",
    "    // EXPLANATION OF BELOW LINE OF CODE.\n",
    "    // In short, sign_delta_a_j = sign(delta_m_U) = (0.0 < delta_m_U) - (delta_m_U < 0.0).\n",
    "    //    If delta_m_U>0, then (0.0 < delta_m_U)==1, and (delta_m_U < 0.0)==0, so sign_delta_a_j=+1\n",
    "    //    If delta_m_U<0, then (0.0 < delta_m_U)==0, and (delta_m_U < 0.0)==1, so sign_delta_a_j=-1\n",
    "    //    If delta_m_U==0,then (0.0 < delta_m_U)==0, and (delta_m_U < 0.0)==0, so sign_delta_a_j=0\n",
    "    const int sign_delta_m_U = (0.0 < delta_m_U) - (delta_m_U < 0.0);\n",
    "    //Decide whether to use 2nd order derivative or first-order derivative, limiting slope.\n",
    "    return sign_delta_m_U*MIN(fabs(delta_m_U),MIN(SLOPE_LIMITER_COEFF*fabs(dUp1),SLOPE_LIMITER_COEFF*fabs(dU)));\n",
    "  }\n",
    "  return 0.0;\n",
    "}\n"
   ]
  },
  {
   "cell_type": "markdown",
   "metadata": {},
   "source": [
    "<a id='monotonize_def'></a>\n",
    "\n",
    "## Step 3: The monotonization algorithm \\[Back to [top](#toc)\\]\n",
    "$$\\label{monotonize_def}$$\n",
    "\n",
    "The next function monotonizes the slopes using the algorithm from [Colella and Woodward (1984)](https://crd.lbl.gov/assets/pubs_presos/AMCS/ANAG/A141984.pdf), eq. 1.10. We want the slope to be monotonic in a cell in order to reduce the impact of the Gibbs phenomenon. So, we consider three values in the cell: the cell average, `U`; on the left interface of the cell, `Ul`; and on the right interface of the cell, `Ur`. The goal of the algorithm is to ensure monotonicity; so, it first checks to see if the cell contains a local extremum. If it does, we make the interpolation function a constant.We must then also consider the case where `U` is \"close\" to `Ur` or `Ul`, and an interpolating polynomial between them would not be monotonic over the cell. So, the basic algorithm is as follows:\n",
    "\n",
    "* `dU = Ur - Ul`\n",
    "* `mU = 0.5*(Ur+Ul)`. \n",
    "* If the cell has an extremum:\n",
    "    * `Ur = U`\n",
    "    * `Ul = U`\n",
    "* If `U` is too close to `Ul`\n",
    "    * Move `Ul` farther away\n",
    "* If `U` is too close to `Ur`\n",
    "    * Move `Ur` farther away\n",
    "\n",
    "More rigorous definitions of \"Too Close\" and \"Farther Away\" are derived from parabolas with vertices on the interfaces, as can be seen in the code below:"
   ]
  },
  {
   "cell_type": "code",
   "execution_count": 8,
   "metadata": {},
   "outputs": [
    {
     "name": "stdout",
     "output_type": "stream",
     "text": [
      "Appending to GiRaFFE_standalone_Ccodes/PPM/reconstruct_set_of_prims_PPM_GRFFE.C\n"
     ]
    }
   ],
   "source": [
    "%%writefile -a $outdir/reconstruct_set_of_prims_PPM_GRFFE.C\n",
    "\n",
    "static inline void monotonize(const REAL U,REAL &Ur,REAL &Ul) {\n",
    "  const REAL dU = Ur - Ul;\n",
    "  const REAL mU = 0.5*(Ur+Ul);\n",
    "  \n",
    "  if ( (Ur-U)*(U-Ul) <= 0.0) { \n",
    "    Ur = U;\n",
    "    Ul = U;\n",
    "    return;\n",
    "  }\n",
    "  if ( dU*(U-mU) > (1.0/6.0)*SQR(dU)) { \n",
    "    Ul = 3.0*U - 2.0*Ur;\n",
    "    return;\n",
    "  }\n",
    "  if ( dU*(U-mU) < -(1.0/6.0)*SQR(dU)) {\n",
    "    Ur = 3.0*U - 2.0*Ul;\n",
    "    return;\n",
    "  }\n",
    "}\n"
   ]
  },
  {
   "cell_type": "markdown",
   "metadata": {},
   "source": [
    "<a id='latex_pdf_output'></a>\n",
    "\n",
    "# Step 4: Output this notebook to $\\LaTeX$-formatted PDF file \\[Back to [top](#toc)\\]\n",
    "$$\\label{latex_pdf_output}$$\n",
    "\n",
    "The following code cell converts this Jupyter notebook into a proper, clickable $\\LaTeX$-formatted PDF file. After the cell is successfully run, the generated PDF may be found in the root NRPy+ tutorial directory, with filename\n",
    "[Tutorial-GiRaFFE_HO_Ccode_library-PPM.pdf](Tutorial-GiRaFFE_HO_Ccode_library-PPM.pdf) (Note that clicking on this link may not work; you may need to open the PDF file through another means.)"
   ]
  },
  {
   "cell_type": "code",
   "execution_count": null,
   "metadata": {},
   "outputs": [],
   "source": [
    "!jupyter nbconvert --to latex --template latex_nrpy_style.tplx --log-level='WARN' Tutorial-GiRaFFE_HO_Ccode_library-PPM.ipynb\n",
    "!pdflatex -interaction=batchmode Tutorial-GiRaFFE_HO_Ccode_library-PPM.tex\n",
    "!pdflatex -interaction=batchmode Tutorial-GiRaFFE_HO_Ccode_library-PPM.tex\n",
    "!pdflatex -interaction=batchmode Tutorial-GiRaFFE_HO_Ccode_library-PPM.tex\n",
    "!rm -f Tut*.out Tut*.aux Tut*.log"
   ]
  }
 ],
 "metadata": {
  "kernelspec": {
   "display_name": "Python 2",
   "language": "python",
   "name": "python2"
  },
  "language_info": {
   "codemirror_mode": {
    "name": "ipython",
    "version": 2
   },
   "file_extension": ".py",
   "mimetype": "text/x-python",
   "name": "python",
   "nbconvert_exporter": "python",
   "pygments_lexer": "ipython2",
   "version": "2.7.13"
  }
 },
 "nbformat": 4,
 "nbformat_minor": 2
}
